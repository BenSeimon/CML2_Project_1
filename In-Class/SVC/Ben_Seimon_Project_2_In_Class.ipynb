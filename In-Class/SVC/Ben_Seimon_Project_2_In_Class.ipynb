{
 "cells": [
  {
   "cell_type": "code",
   "execution_count": 1,
   "id": "92daac66",
   "metadata": {},
   "outputs": [
    {
     "ename": "ModuleNotFoundError",
     "evalue": "No module named 'google'",
     "output_type": "error",
     "traceback": [
      "\u001b[0;31m---------------------------------------------------------------------------\u001b[0m",
      "\u001b[0;31mModuleNotFoundError\u001b[0m                       Traceback (most recent call last)",
      "\u001b[0;32m/var/folders/2g/qx04w6j525l446ptr2wd9w8w0000gn/T/ipykernel_98704/2435588495.py\u001b[0m in \u001b[0;36m<module>\u001b[0;34m\u001b[0m\n\u001b[1;32m      1\u001b[0m \u001b[0;32mimport\u001b[0m \u001b[0mos\u001b[0m\u001b[0;34m\u001b[0m\u001b[0;34m\u001b[0m\u001b[0m\n\u001b[0;32m----> 2\u001b[0;31m \u001b[0;32mfrom\u001b[0m \u001b[0mgoogle\u001b[0m\u001b[0;34m.\u001b[0m\u001b[0mcolab\u001b[0m \u001b[0;32mimport\u001b[0m \u001b[0mdrive\u001b[0m\u001b[0;34m\u001b[0m\u001b[0;34m\u001b[0m\u001b[0m\n\u001b[0m\u001b[1;32m      3\u001b[0m \u001b[0mdrive\u001b[0m\u001b[0;34m.\u001b[0m\u001b[0mmount\u001b[0m\u001b[0;34m(\u001b[0m\u001b[0;34m'/content/drive'\u001b[0m\u001b[0;34m)\u001b[0m\u001b[0;34m\u001b[0m\u001b[0;34m\u001b[0m\u001b[0m\n\u001b[1;32m      4\u001b[0m \u001b[0mos\u001b[0m\u001b[0;34m.\u001b[0m\u001b[0mchdir\u001b[0m\u001b[0;34m(\u001b[0m\u001b[0;34m'/content/drive/MyDrive/CML_2_Projects/Project 2/'\u001b[0m\u001b[0;34m)\u001b[0m\u001b[0;34m\u001b[0m\u001b[0;34m\u001b[0m\u001b[0m\n",
      "\u001b[0;31mModuleNotFoundError\u001b[0m: No module named 'google'"
     ]
    }
   ],
   "source": [
    "import os\n",
    "from google.colab import drive\n",
    "drive.mount('/content/drive')\n",
    "os.chdir('/content/drive/MyDrive/CML_2_Projects/Project 2/')"
   ]
  },
  {
   "cell_type": "code",
   "execution_count": 2,
   "id": "7b3a5e14",
   "metadata": {},
   "outputs": [
    {
     "ename": "ModuleNotFoundError",
     "evalue": "No module named 'helper_functions'",
     "output_type": "error",
     "traceback": [
      "\u001b[0;31m---------------------------------------------------------------------------\u001b[0m",
      "\u001b[0;31mModuleNotFoundError\u001b[0m                       Traceback (most recent call last)",
      "\u001b[0;32m/var/folders/2g/qx04w6j525l446ptr2wd9w8w0000gn/T/ipykernel_98704/4258995987.py\u001b[0m in \u001b[0;36m<module>\u001b[0;34m\u001b[0m\n\u001b[0;32m----> 1\u001b[0;31m \u001b[0;32mfrom\u001b[0m \u001b[0mhelper_functions\u001b[0m \u001b[0;32mimport\u001b[0m \u001b[0;34m*\u001b[0m\u001b[0;34m\u001b[0m\u001b[0;34m\u001b[0m\u001b[0m\n\u001b[0m\u001b[1;32m      2\u001b[0m \u001b[0;32mfrom\u001b[0m \u001b[0mhelper_classes\u001b[0m \u001b[0;32mimport\u001b[0m \u001b[0;34m*\u001b[0m\u001b[0;34m\u001b[0m\u001b[0;34m\u001b[0m\u001b[0m\n\u001b[1;32m      3\u001b[0m \u001b[0;32mimport\u001b[0m \u001b[0mpandas\u001b[0m \u001b[0;32mas\u001b[0m \u001b[0mpd\u001b[0m\u001b[0;34m\u001b[0m\u001b[0;34m\u001b[0m\u001b[0m\n\u001b[1;32m      4\u001b[0m \u001b[0;32mimport\u001b[0m \u001b[0mseaborn\u001b[0m \u001b[0;32mas\u001b[0m \u001b[0msns\u001b[0m\u001b[0;34m\u001b[0m\u001b[0;34m\u001b[0m\u001b[0m\n\u001b[1;32m      5\u001b[0m \u001b[0;32mimport\u001b[0m \u001b[0mnumpy\u001b[0m \u001b[0;32mas\u001b[0m \u001b[0mnp\u001b[0m\u001b[0;34m\u001b[0m\u001b[0;34m\u001b[0m\u001b[0m\n",
      "\u001b[0;31mModuleNotFoundError\u001b[0m: No module named 'helper_functions'"
     ]
    }
   ],
   "source": [
    "from utils import helper_functions\n",
    "import pandas as pd\n",
    "import seaborn as sns\n",
    "import numpy as np\n",
    "import sklearn\n",
    "from sklearn.svm import SVC\n",
    "from sklearn.model_selection import train_test_split\n",
    "from sklearn.model_selection import GridSearchCV\n",
    "from sklearn.metrics import accuracy_score,recall_score,precision_score,f1_score, confusion_matrix\n",
    "from sklearn.preprocessing import StandardScaler\n",
    "from sklearn.model_selection import cross_val_predict as cvp\n",
    "from sklearn.impute import SimpleImputer\n",
    "from sklearn.metrics import make_scorer"
   ]
  },
  {
   "cell_type": "code",
   "execution_count": null,
   "id": "3c190dd2",
   "metadata": {},
   "outputs": [],
   "source": [
    "train_data = pd.read_csv('mimic_train.csv')\n",
    "test_data = pd.read_csv('mimic_test_death.csv')"
   ]
  },
  {
   "cell_type": "code",
   "execution_count": null,
   "id": "2fb01695",
   "metadata": {},
   "outputs": [],
   "source": [
    "#assign features\n",
    "features_to_drop = ['DOD', 'DISCHTIME', 'DEATHTIME', 'LOS']\n",
    "identifiers = ['subject_id', 'hadm_id', 'icustay_id']\n",
    "numerical_features = ['HeartRate_Min', 'HeartRate_Max', 'HeartRate_Mean', 'SysBP_Min',\n",
    "       'SysBP_Max', 'SysBP_Mean', 'DiasBP_Min', 'DiasBP_Max', 'DiasBP_Mean',\n",
    "       'MeanBP_Min', 'MeanBP_Max', 'MeanBP_Mean', 'RespRate_Min',\n",
    "       'RespRate_Max', 'RespRate_Mean', 'TempC_Min', 'TempC_Max', 'TempC_Mean',\n",
    "       'SpO2_Min', 'SpO2_Max', 'SpO2_Mean', 'Glucose_Min', 'Glucose_Max',\n",
    "       'Glucose_Mean']\n",
    "categorical_features = ['GENDER', 'DOB', 'ADMITTIME','Diff', 'ADMISSION_TYPE', 'INSURANCE', 'RELIGION',\n",
    "       'MARITAL_STATUS', 'ETHNICITY', 'DIAGNOSIS', 'ICD9_diagnosis',\n",
    "       'FIRST_CAREUNIT']\n",
    "target = ['HOSPITAL_EXPIRE_FLAG']"
   ]
  },
  {
   "cell_type": "code",
   "execution_count": null,
   "id": "ac696cd9",
   "metadata": {},
   "outputs": [],
   "source": [
    "#impute for numerical features\n",
    "numerical_features\n",
    "imp_num = SimpleImputer(strategy=\"mean\")\n",
    "imp_num.fit(X[numerical_features])\n",
    "train_data[numerical_features] = imp_num.transform(train_data[numerical_features])\n",
    "test_data[numerical_features] = imp_num.transform(test_data[numerical_features])"
   ]
  },
  {
   "cell_type": "code",
   "execution_count": null,
   "id": "3af6736f",
   "metadata": {},
   "outputs": [],
   "source": [
    "#impute for categorical features\n",
    "categorical_features\n",
    "imp_cat = SimpleImputer(strategy=\"mode\")\n",
    "imp_cat.fit(X[categorical_features])\n",
    "train_data[categorical_features] = imp_cat.transform(train_data[categorical_features])\n",
    "test_data[categorical_features] = imp_cat.transform(test_data[categorical_features])"
   ]
  },
  {
   "cell_type": "code",
   "execution_count": null,
   "id": "ac32ae9b",
   "metadata": {},
   "outputs": [],
   "source": [
    "#scale features (only numerical features)\n",
    "scaler = StandardScaler()\n",
    "scaler.fit(train_data[numerical_features])\n",
    "train_data[numerical_features] = scaler.transform(train_data[numerical_features])\n",
    "test_data[numerical_features] = scaler.transform(test_data[numerical_features])"
   ]
  },
  {
   "cell_type": "code",
   "execution_count": null,
   "id": "b0c3ad5a",
   "metadata": {},
   "outputs": [],
   "source": [
    "# first simple linear implementation\n",
    "from sklearn.metrics import make_scorer\n",
    "linear_svc = SVC(kernel='linear', probability = True) #class_weight imbalance not addressed \n",
    "grid_values = {'C':[0.1, 1, 10]}\n",
    "#auc_scorer = make_scorer(roc_auc_score, needs_proba=True)\n",
    "grid_linear_svc = GridSearchCV(linear_svc, param_grid = grid_values,scoring = 'roc_auc', cv=5)\n",
    "grid_linear_svc.fit(train_data[numerical_features], train_data[target])\n",
    "y_hat = grid_linear_svc.predict_proba(train_data[numerical_features]) \n",
    "print(grid_linear_svc.best_estimator_)"
   ]
  },
  {
   "cell_type": "code",
   "execution_count": null,
   "id": "6b910a6d",
   "metadata": {},
   "outputs": [],
   "source": [
    "class_labels = [\"Survived\",\"Died\"]\n",
    "labels = [0,1]\n",
    "cm = confusion_matrix(y_pred=y_hat, y_true=train_data[target], labels=labels)\n",
    "plot_confusion_matrix(cm, class_labels)"
   ]
  },
  {
   "cell_type": "code",
   "execution_count": null,
   "id": "43a348fc",
   "metadata": {},
   "outputs": [],
   "source": [
    "#get_auc(train_data[target], y_hat, class_labels, column=1, plot=True)\n",
    "#roc_auc_score(train_data_simple_scaled_skew['Cover_Type'], train_data_simple_scaled_skew_balanced_probs)"
   ]
  },
  {
   "cell_type": "code",
   "execution_count": null,
   "id": "ae76f162",
   "metadata": {},
   "outputs": [],
   "source": [
    "# first simple non-linear implementation \n",
    "## then use kernel\n",
    "rbf_svc = SVC(kernel='rbf', probability = True)\n",
    "grid_values = {'C':[0.01, 0.1, 1, 10, 100], 'gamma':[0.01, 0.1, 0.2, 0.4, 0.6, 0.8, 0.99]} #will try more values for gamma in extended project\n",
    "# but it is super stupid to optimize for accuracy \n",
    "grid_rbf_svc = GridSearchCV(rbf_svc, param_grid=grid_values, scoring = 'roc_auc', cv = 5)\n",
    "grid_rbf_svc.fit(train_data[numerical_features], train_data[target])\n",
    "y_hat = grid_rbf_svc.predict_proba(train_data[numerical_features])\n",
    "print(classification_report(train_data[target], y_hat))\n",
    "print(grid_rbf_svc.best_estimator_)"
   ]
  },
  {
   "cell_type": "code",
   "execution_count": null,
   "id": "c8452c2e",
   "metadata": {},
   "outputs": [],
   "source": [
    "#get_auc(train_data[target], y_hat, class_labels, column=1, plot=True)\n",
    "#roc_auc_score(train_data[target], y_hat)"
   ]
  },
  {
   "cell_type": "code",
   "execution_count": null,
   "id": "2cde16d4",
   "metadata": {},
   "outputs": [],
   "source": [
    "cm = confusion_matrix(y_pred=y_hat, y_true=train_data[target], labels=labels)\n",
    "plot_confusion_matrix(cm, class_labels)"
   ]
  },
  {
   "cell_type": "markdown",
   "id": "0a95befe",
   "metadata": {},
   "source": [
    "## Kaggle"
   ]
  },
  {
   "cell_type": "code",
   "execution_count": null,
   "id": "336bf812",
   "metadata": {},
   "outputs": [],
   "source": [
    "# Produce .csv for kaggle testing \n",
    "y_hat_test = grid_rbf_svc.predict_proba(test_data[numerical_features])\n",
    "test_predictions_submit = pd.DataFrame({\"icustay_id\": test_data[\"icustay_id\"], \"HOSPITAL_EXPIRE_FLAG\": y_hat_test})\n",
    "test_predictions_submit.to_csv(\"test_predictions_submit.csv\", index = False)"
   ]
  }
 ],
 "metadata": {
  "kernelspec": {
   "display_name": "Python 3 (ipykernel)",
   "language": "python",
   "name": "python3"
  },
  "language_info": {
   "codemirror_mode": {
    "name": "ipython",
    "version": 3
   },
   "file_extension": ".py",
   "mimetype": "text/x-python",
   "name": "python",
   "nbconvert_exporter": "python",
   "pygments_lexer": "ipython3",
   "version": "3.9.5"
  }
 },
 "nbformat": 4,
 "nbformat_minor": 5
}
