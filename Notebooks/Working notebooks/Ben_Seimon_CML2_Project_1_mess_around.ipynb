{
 "cells": [
  {
   "cell_type": "markdown",
   "id": "807002bd",
   "metadata": {},
   "source": [
    "# Project: (K-) Nearest Neighbors\n"
   ]
  },
  {
   "cell_type": "markdown",
   "id": "90673830",
   "metadata": {},
   "source": [
    "## Programming project: probability of death\n",
    "\n",
    "In this project, you have to predict the probability of death of a patient that is entering an ICU (Intensive Care Unit).\n",
    "\n",
    "The dataset comes from MIMIC project (https://mimic.physionet.org/). MIMIC-III (Medical Information Mart for Intensive Care III) is a large, freely-available database comprising deidentified health-related data associated with over forty thousand patients who stayed in critical care units of the Beth Israel Deaconess Medical Center between 2001 and 2012.\n",
    "\n",
    "Each row of *mimic_train.csv* correponds to one ICU stay (*hadm_id*+*icustay_id*) of one patient (*subject_id*). Column HOSPITAL_EXPIRE_FLAG is the indicator of death (=1) as a result of the current hospital stay; this is the outcome to predict in our modelling exercise.\n",
    "The remaining columns correspond to vitals of each patient (when entering the ICU), plus some general characteristics (age, gender, etc.), and their explanation can be found at *mimic_patient_metadata.csv*. \n",
    "\n",
    "Please don't use any feature that you infer you don't know the first day of a patient in an ICU.\n",
    "\n",
    "Note that the main cause/disease of patient condition is embedded as a code at *ICD9_diagnosis* column. The meaning of this code can be found at *MIMIC_metadata_diagnose.csv*. **But** this is only the main one; a patient can have co-occurrent diseases (comorbidities). These secondary codes can be found at *extra_data/MIMIC_diagnoses.csv*.\n",
    "\n",
    "As performance metric, you can use *AUC* for the binary classification case, but feel free to report as well any other metric if you can justify that is particularly suitable for this case.\n",
    "\n",
    "Main tasks are:\n",
    "+ Using *mimic_train.csv* file build a predictive model for *HOSPITAL_EXPIRE_FLAG* .\n",
    "+ For this analysis there is an extra test dataset, *mimic_test_death.csv*. Apply your final model to this extra dataset and generate predictions following the same format as *mimic_kaggle_death_sample_submission.csv*. Once ready, you can submit to our Kaggle competition and iterate to improve the accuracy.\n",
    "\n",
    "As a *bonus*, try different algorithms for neighbor search and for distance, and justify final selection. Try also different weights to cope with class imbalance and also to balance neighbor proximity. Try to assess somehow confidence interval of predictions.\n",
    "\n",
    "You can follow those **steps** in your first implementation:\n",
    "1. *Explore* and understand the dataset. \n",
    "2. Manage missing data.\n",
    "2. Manage categorial features. E.g. create *dummy variables* for relevant categorical features, or build an ad hoc distance function.\n",
    "3. Build a prediction model. Try to improve it using methods to tackle class imbalance.\n",
    "5. Assess expected accuracy  of previous models using *cross-validation*. \n",
    "6. Test the performance on the test file and report accuracy, following same preparation steps (missing data, dummies, etc). Remember that you should be able to yield a prediction for all the rows of the test dataset.\n",
    "\n",
    "Feel free to reduce the training dataset if you experience computational constraints.\n",
    "\n",
    "## Main criteria for IN_CLASS grading\n",
    "The weighting of these components will vary between the in-class and extended projects:\n",
    "+ Code runs - 20%\n",
    "+ Data preparation - 35%\n",
    "+ Nearest neighbor method(s) have been used - 15%\n",
    "+ Probability of death for each test patient is computed - 10%\n",
    "+ Accuracy of predictions for test patients is calculated (kaggle) - 10%\n",
    "+ Hyperparameter optimization - 5%\n",
    "+ Class imbalance management - 5%\n",
    "+ Neat and understandable code, with some titles and comments - 0%\n",
    "+ Improved methods from what we discussed in class (properly explained/justified) - 0%"
   ]
  },
  {
   "cell_type": "markdown",
   "id": "a62352bf",
   "metadata": {},
   "source": [
    "# Setup"
   ]
  },
  {
   "cell_type": "markdown",
   "id": "793b7a6d",
   "metadata": {},
   "source": [
    "## Import packages and functions"
   ]
  },
  {
   "cell_type": "code",
   "execution_count": 61,
   "id": "c20fb4a5",
   "metadata": {},
   "outputs": [],
   "source": [
    "#packages\n",
    "\n",
    "import pandas as pd\n",
    "import numpy as np \n",
    "import os\n",
    "import plotly.express as px\n",
    "import seaborn as sns\n",
    "import matplotlib.pyplot as plt \n",
    "from datetime import datetime \n",
    "from sklearn.neighbors import NearestNeighbors, KNeighborsClassifier\n",
    "from sklearn.experimental import enable_halving_search_cv \n",
    "from sklearn.model_selection import HalvingGridSearchCV\n",
    "from imblearn.pipeline import Pipeline as imbPipeline\n",
    "from sklearn.impute import SimpleImputer\n",
    "from sklearn.compose import make_column_transformer\n",
    "from sklearn.preprocessing import OneHotEncoder\n",
    "from sklearn.experimental import enable_iterative_imputer  # noqa\n",
    "from sklearn.impute import IterativeImputer\n",
    "from sklearn.preprocessing import StandardScaler\n",
    "import imblearn\n",
    "from imblearn.over_sampling import SMOTE\n",
    "from sklearn.model_selection import GridSearchCV\n",
    "from sklearn.pipeline import Pipeline\n",
    "from sklearn.compose import ColumnTransformer\n"
   ]
  },
  {
   "cell_type": "code",
   "execution_count": 62,
   "id": "c2f914fb",
   "metadata": {},
   "outputs": [],
   "source": [
    "#functions  \n",
    "\n",
    "def plot_confusion_matrix(cm, class_labels):\n",
    "    \"\"\"Pretty prints a confusion matrix as a figure\n",
    "\n",
    "    Args:\n",
    "        cm:  A confusion matrix for example\n",
    "        [[245, 5 ], \n",
    "         [ 34, 245]]\n",
    "         \n",
    "        class_labels: The list of class labels to be plotted on x-y axis\n",
    "\n",
    "    Rerturns:\n",
    "        Just plots the confusion matrix.\n",
    "    \"\"\"\n",
    "    \n",
    "    df_cm = pd.DataFrame(cm, index = [i for i in class_labels],\n",
    "                  columns = [i for i in class_labels])\n",
    "    sns.set(font_scale=1)\n",
    "    sns.heatmap(df_cm, annot=True, fmt='g', cmap='Blues')\n",
    "    plt.xlabel(\"Predicted label\")\n",
    "    plt.ylabel(\"Real label\")\n",
    "    plt.show()\n",
    "\n",
    "def getting_dates(DOBs, ATs):\n",
    "  admit_dates = []\n",
    "  birthdays = []\n",
    "  for i in range(0, len(DOBs)):\n",
    "      birthdays.append(datetime.strptime(DOBs[i], '%Y-%m-%d %H:%M:%S'))\n",
    "  for j in range(0, len(ATs)):\n",
    "      admit_dates.append(datetime.strptime(ATs[j], '%Y-%m-%d %H:%M:%S'))\n",
    "  return birthdays, admit_dates\n",
    "\n",
    "def getting_age(birthdays, admit_dates):\n",
    "  ages = []\n",
    "  for i in range(0, len(birthdays)):\n",
    "    ages.append(((admit_dates[i] - birthdays[i]).days)/365.25)\n",
    "  return ages\n",
    "\n",
    "def age_fix(data, feature):\n",
    "    for i in range(0, len(data[feature])):\n",
    "        if data.loc[i, feature] > 120:\n",
    "            data.loc[i, feature] = 95\n",
    "    return data\n",
    "\n",
    "def drop_feature(features, data):\n",
    "    for feature in features:\n",
    "        data = data.drop(feature, axis = 1)\n",
    "    return data \n",
    "\n",
    "def one_hot_encode(features, data):\n",
    "    for feature in features:\n",
    "        data = pd.get_dummies(data, prefix=[feature], columns=[feature], drop_first = True)\n",
    "    return data\n",
    "\n",
    "def replace(data, feature_to_replace, feature_replacements, new_feature):\n",
    "    data[feature_to_replace] = data[feature_to_replace].replace(feature_replacements, new_feature)\n",
    "    return data"
   ]
  },
  {
   "cell_type": "code",
   "execution_count": 63,
   "id": "064df41f",
   "metadata": {},
   "outputs": [],
   "source": [
    "#setup and load data\n",
    "\n",
    "data_path = '/Users/benseimon/Documents/Barca GSE/Studies/Term 2/CML2/Project 1/Data'\n",
    "kaggle_path = '/Users/benseimon/Documents/Barca GSE/Studies/Term 2/CML2/Project 1/Kaggle submissions'\n",
    "model_path = '/Users/benseimon/Documents/Barca GSE/Studies/Term 2/CML2/Project 1/Models'\n",
    "os.chdir(data_path)\n",
    "comorbidities = pd.read_csv('MIMIC_diagnoses.csv')\n",
    "diagnosis_definitions = pd.read_csv('MIMIC_metadata_diagnose.csv')\n",
    "feature_definitions = pd.read_excel('mimic_patient_metadata.xlsx')\n",
    "train_data = pd.read_csv('mimic_train.csv')\n",
    "test_data = pd.read_csv('mimic_test_death.csv')"
   ]
  },
  {
   "cell_type": "markdown",
   "id": "f9bdde01",
   "metadata": {},
   "source": [
    "# Step 1: Exploratory Data Analysis"
   ]
  },
  {
   "cell_type": "code",
   "execution_count": 64,
   "id": "0171dcb4",
   "metadata": {},
   "outputs": [],
   "source": [
    "#drop as per instructions - note that offending columns are not in test set so no need to drop \n",
    "features_to_drop = ['DOD', 'DISCHTIME', 'DEATHTIME', 'LOS', 'Diff']\n",
    "train_data = train_data.drop(features_to_drop, axis=1)\n",
    "test_data = test_data.drop('Diff', axis=1)"
   ]
  },
  {
   "cell_type": "code",
   "execution_count": 65,
   "id": "f953c04d",
   "metadata": {},
   "outputs": [
    {
     "data": {
      "text/plain": [
       "HOSPITAL_EXPIRE_FLAG       0\n",
       "subject_id                 0\n",
       "hadm_id                    0\n",
       "icustay_id                 0\n",
       "HeartRate_Min           2187\n",
       "HeartRate_Max           2187\n",
       "HeartRate_Mean          2187\n",
       "SysBP_Min               2208\n",
       "SysBP_Max               2208\n",
       "SysBP_Mean              2208\n",
       "DiasBP_Min              2209\n",
       "DiasBP_Max              2209\n",
       "DiasBP_Mean             2209\n",
       "MeanBP_Min              2186\n",
       "MeanBP_Max              2186\n",
       "MeanBP_Mean             2186\n",
       "RespRate_Min            2189\n",
       "RespRate_Max            2189\n",
       "RespRate_Mean           2189\n",
       "TempC_Min               2497\n",
       "TempC_Max               2497\n",
       "TempC_Mean              2497\n",
       "SpO2_Min                2203\n",
       "SpO2_Max                2203\n",
       "SpO2_Mean               2203\n",
       "Glucose_Min              253\n",
       "Glucose_Max              253\n",
       "Glucose_Mean             253\n",
       "GENDER                     0\n",
       "DOB                        0\n",
       "ADMITTIME                  0\n",
       "ADMISSION_TYPE             0\n",
       "INSURANCE                  0\n",
       "RELIGION                   0\n",
       "MARITAL_STATUS           722\n",
       "ETHNICITY                  0\n",
       "DIAGNOSIS                  0\n",
       "ICD9_diagnosis             0\n",
       "FIRST_CAREUNIT             0\n",
       "dtype: int64"
      ]
     },
     "execution_count": 65,
     "metadata": {},
     "output_type": "execute_result"
    }
   ],
   "source": [
    "train_data.isnull().sum()"
   ]
  },
  {
   "cell_type": "code",
   "execution_count": 66,
   "id": "5428b677",
   "metadata": {},
   "outputs": [
    {
     "data": {
      "text/plain": [
       "subject_id          0\n",
       "hadm_id             0\n",
       "icustay_id          0\n",
       "HeartRate_Min     545\n",
       "HeartRate_Max     545\n",
       "HeartRate_Mean    545\n",
       "SysBP_Min         551\n",
       "SysBP_Max         551\n",
       "SysBP_Mean        551\n",
       "DiasBP_Min        552\n",
       "DiasBP_Max        552\n",
       "DiasBP_Mean       552\n",
       "MeanBP_Min        547\n",
       "MeanBP_Max        547\n",
       "MeanBP_Mean       547\n",
       "RespRate_Min      546\n",
       "RespRate_Max      546\n",
       "RespRate_Mean     546\n",
       "TempC_Min         638\n",
       "TempC_Max         638\n",
       "TempC_Mean        638\n",
       "SpO2_Min          551\n",
       "SpO2_Max          551\n",
       "SpO2_Mean         551\n",
       "Glucose_Min        58\n",
       "Glucose_Max        58\n",
       "Glucose_Mean       58\n",
       "GENDER              0\n",
       "DOB                 0\n",
       "ADMITTIME           0\n",
       "ADMISSION_TYPE      0\n",
       "INSURANCE           0\n",
       "RELIGION            0\n",
       "MARITAL_STATUS    180\n",
       "ETHNICITY           0\n",
       "DIAGNOSIS           0\n",
       "ICD9_diagnosis      0\n",
       "FIRST_CAREUNIT      0\n",
       "dtype: int64"
      ]
     },
     "execution_count": 66,
     "metadata": {},
     "output_type": "execute_result"
    }
   ],
   "source": [
    "test_data.isnull().sum()"
   ]
  },
  {
   "cell_type": "markdown",
   "id": "86a2bd5f",
   "metadata": {},
   "source": [
    "## 1a: Numerical features"
   ]
  },
  {
   "cell_type": "markdown",
   "id": "392d62f6",
   "metadata": {},
   "source": [
    "### 1ai: Generate age variable"
   ]
  },
  {
   "cell_type": "markdown",
   "id": "86be07d1",
   "metadata": {},
   "source": [
    "Using 'DOB' and 'ADMITTIME' we create an age variable. Note that using 'Diff is not necessary since you would simply apply diff to both columns. \n",
    "\n",
    "According to this source (https://github.com/MIT-LCP/mimic-code/issues/637) the data anonymisation process assigns anyone older than 89 to an age close to 300. As a result, I replace any realistic ages to age of 95 (arbitrary). \n",
    "\n",
    "Note that purpose of creating the variable is driven by a simple hypothesis that old age increases the likelihood of dying. "
   ]
  },
  {
   "cell_type": "code",
   "execution_count": 67,
   "id": "371f3315",
   "metadata": {},
   "outputs": [
    {
     "name": "stdout",
     "output_type": "stream",
     "text": [
      "Distribution before amending those with an unrealistic age\n",
      "count    20885.000000\n",
      "mean        75.360202\n",
      "std         55.672686\n",
      "min         15.049966\n",
      "25%         53.305955\n",
      "50%         65.661875\n",
      "75%         78.017796\n",
      "max        310.165640\n",
      "Name: AGE, dtype: float64\n",
      "Distribution after amending those with an unrealistic age\n",
      "count    20885.000000\n",
      "mean        64.454867\n",
      "std         17.554025\n",
      "min         15.049966\n",
      "25%         53.305955\n",
      "50%         65.661875\n",
      "75%         78.017796\n",
      "max         95.000000\n",
      "Name: AGE, dtype: float64\n"
     ]
    }
   ],
   "source": [
    "#create age variable for training set\n",
    "DoB_train, admit_date_train = getting_dates(train_data['DOB'], train_data['ADMITTIME'])\n",
    "ages = getting_age(DoB_train, admit_date_train)\n",
    "train_data['AGE'] = ages\n",
    "print(\"Distribution before amending those with an unrealistic age\")\n",
    "print(train_data['AGE'].describe())\n",
    "train_data = age_fix(train_data, 'AGE')\n",
    "train_data = drop_feature(['DOB', 'ADMITTIME'], train_data)\n",
    "print(\"Distribution after amending those with an unrealistic age\")\n",
    "print(train_data['AGE'].describe())"
   ]
  },
  {
   "cell_type": "code",
   "execution_count": 68,
   "id": "170469be",
   "metadata": {},
   "outputs": [
    {
     "name": "stdout",
     "output_type": "stream",
     "text": [
      "Distribution before amending those with an unrealistic age\n",
      "count    5221.000000\n",
      "mean       75.561054\n",
      "std        54.890575\n",
      "min        15.195072\n",
      "25%        53.771389\n",
      "50%        66.236824\n",
      "75%        78.258727\n",
      "max       310.272416\n",
      "Name: AGE, dtype: float64\n",
      "Distribution after amending those with an unrealistic age\n",
      "count    5221.000000\n",
      "mean       64.925820\n",
      "std        17.278221\n",
      "min        15.195072\n",
      "25%        53.771389\n",
      "50%        66.236824\n",
      "75%        78.258727\n",
      "max        95.000000\n",
      "Name: AGE, dtype: float64\n"
     ]
    }
   ],
   "source": [
    "#create age variable for test set\n",
    "DOB_test, admit_date_test = getting_dates(test_data['DOB'], test_data['ADMITTIME'])\n",
    "ages = getting_age(DOB_test, admit_date_test)\n",
    "test_data['AGE'] = ages\n",
    "print(\"Distribution before amending those with an unrealistic age\")\n",
    "print(test_data['AGE'].describe())\n",
    "test_data = age_fix(test_data, 'AGE')\n",
    "test_data = drop_feature(['DOB', 'ADMITTIME'], test_data)\n",
    "print(\"Distribution after amending those with an unrealistic age\")\n",
    "print(test_data['AGE'].describe())"
   ]
  },
  {
   "cell_type": "markdown",
   "id": "f37ce15e",
   "metadata": {},
   "source": [
    "### 1aii: Investigate relationship between outcome and numerical variables"
   ]
  },
  {
   "cell_type": "code",
   "execution_count": 69,
   "id": "71fa089e",
   "metadata": {},
   "outputs": [],
   "source": [
    "#assign features\n",
    "identifiers = ['subject_id', 'hadm_id', 'icustay_id']\n",
    "numerical_features = ['HeartRate_Min', 'HeartRate_Max', 'HeartRate_Mean', 'SysBP_Min',\n",
    "       'SysBP_Max', 'SysBP_Mean', 'DiasBP_Min', 'DiasBP_Max', 'DiasBP_Mean',\n",
    "       'MeanBP_Min', 'MeanBP_Max', 'MeanBP_Mean', 'RespRate_Min',\n",
    "       'RespRate_Max', 'RespRate_Mean', 'TempC_Min', 'TempC_Max', 'TempC_Mean',\n",
    "       'SpO2_Min', 'SpO2_Max', 'SpO2_Mean', 'Glucose_Min', 'Glucose_Max',\n",
    "       'Glucose_Mean', 'AGE']\n",
    "categorical_features = ['GENDER', 'ADMISSION_TYPE', 'INSURANCE', 'RELIGION',\n",
    "       'MARITAL_STATUS', 'ETHNICITY', 'FIRST_CAREUNIT']\n",
    "diagnosis_features = ['DIAGNOSIS','ICD9_diagnosis']\n",
    "target = ['HOSPITAL_EXPIRE_FLAG']"
   ]
  },
  {
   "cell_type": "code",
   "execution_count": 70,
   "id": "fd771306",
   "metadata": {},
   "outputs": [
    {
     "data": {
      "text/plain": [
       "True"
      ]
     },
     "execution_count": 70,
     "metadata": {},
     "output_type": "execute_result"
    }
   ],
   "source": [
    "#check\n",
    "len(identifiers+numerical_features+categorical_features+diagnosis_features+target) == train_data.shape[1]"
   ]
  },
  {
   "cell_type": "code",
   "execution_count": 71,
   "id": "a659b1f4",
   "metadata": {},
   "outputs": [
    {
     "data": {
      "text/plain": [
       "<AxesSubplot:>"
      ]
     },
     "execution_count": 71,
     "metadata": {},
     "output_type": "execute_result"
    },
    {
     "data": {
      "image/png": "[encoded data removed]",
      "text/plain": [
       "<Figure size 1440x720 with 2 Axes>"
      ]
     },
     "metadata": {},
     "output_type": "display_data"
    }
   ],
   "source": [
    "corr_numerical = train_data[numerical_features+target].corr()\n",
    "sns.set(rc = {'figure.figsize':(20,10)})\n",
    "sns.heatmap(corr_numerical, cmap = 'RdBu_r', linecolor = 'white', vmin=-1, vmax=1, annot = True)"
   ]
  },
  {
   "cell_type": "code",
   "execution_count": 72,
   "id": "95f3509b",
   "metadata": {},
   "outputs": [
    {
     "data": {
      "text/plain": [
       "HOSPITAL_EXPIRE_FLAG    1.000000\n",
       "RespRate_Mean           0.175122\n",
       "RespRate_Max            0.135877\n",
       "HeartRate_Max           0.129469\n",
       "AGE                     0.123034\n",
       "HeartRate_Mean          0.110773\n",
       "Glucose_Mean            0.105205\n",
       "Glucose_Max             0.084702\n",
       "RespRate_Min            0.072560\n",
       "Glucose_Min             0.064290\n",
       "MeanBP_Max              0.014403\n",
       "HeartRate_Min           0.006973\n",
       "DiasBP_Max             -0.022246\n",
       "SysBP_Max              -0.028490\n",
       "TempC_Max              -0.042721\n",
       "SpO2_Max               -0.049621\n",
       "DiasBP_Mean            -0.099773\n",
       "TempC_Mean             -0.110223\n",
       "MeanBP_Mean            -0.113767\n",
       "SysBP_Mean             -0.128680\n",
       "TempC_Min              -0.136591\n",
       "DiasBP_Min             -0.138257\n",
       "SpO2_Mean              -0.156872\n",
       "MeanBP_Min             -0.176074\n",
       "SysBP_Min              -0.194698\n",
       "SpO2_Min               -0.234060\n",
       "Name: HOSPITAL_EXPIRE_FLAG, dtype: float64"
      ]
     },
     "execution_count": 72,
     "metadata": {},
     "output_type": "execute_result"
    }
   ],
   "source": [
    "corr_numerical['HOSPITAL_EXPIRE_FLAG'].sort_values(ascending = False)"
   ]
  },
  {
   "cell_type": "markdown",
   "id": "1bbeb112",
   "metadata": {},
   "source": [
    "Clear positive correlation for RespRate_Mean, RespRate_Max, HeartRate_Max, HeartRate_Mean, Glucose_Mean and our new variable AGE\n",
    "\n",
    "Clear negative correlation for DiasBP_Mean, TempC_Mean, MeanBP_Mean, SysBP_Mean, TempC_Min, DiasBP_Min,           SpO2_Mean, MeanBP_Min, SysBP_Min, SpO2_Min"
   ]
  },
  {
   "cell_type": "markdown",
   "id": "846e7cee",
   "metadata": {},
   "source": [
    "## Categorical features"
   ]
  },
  {
   "cell_type": "code",
   "execution_count": 73,
   "id": "3fcb192f",
   "metadata": {},
   "outputs": [
    {
     "data": {
      "text/plain": [
       "GENDER             2\n",
       "ADMISSION_TYPE     3\n",
       "INSURANCE          5\n",
       "RELIGION          17\n",
       "MARITAL_STATUS     7\n",
       "ETHNICITY         41\n",
       "FIRST_CAREUNIT     5\n",
       "dtype: int64"
      ]
     },
     "execution_count": 73,
     "metadata": {},
     "output_type": "execute_result"
    }
   ],
   "source": [
    "train_data[categorical_features].nunique()"
   ]
  },
  {
   "cell_type": "markdown",
   "id": "ac0d0a1e",
   "metadata": {},
   "source": [
    "Ethnicity and religion have a higher number of unique categories. Let's address this to reduce dimensionality. "
   ]
  },
  {
   "cell_type": "markdown",
   "id": "59d42156",
   "metadata": {},
   "source": [
    "### Ethnicities"
   ]
  },
  {
   "cell_type": "code",
   "execution_count": 74,
   "id": "636a6312",
   "metadata": {},
   "outputs": [
    {
     "data": {
      "text/plain": [
       "WHITE                                                       15112\n",
       "BLACK/AFRICAN AMERICAN                                       1977\n",
       "UNABLE TO OBTAIN                                              577\n",
       "UNKNOWN/NOT SPECIFIED                                         568\n",
       "HISPANIC OR LATINO                                            562\n",
       "OTHER                                                         489\n",
       "ASIAN                                                         265\n",
       "PATIENT DECLINED TO ANSWER                                    175\n",
       "HISPANIC/LATINO - PUERTO RICAN                                155\n",
       "ASIAN - CHINESE                                               146\n",
       "BLACK/CAPE VERDEAN                                            126\n",
       "WHITE - RUSSIAN                                               117\n",
       "BLACK/HAITIAN                                                  72\n",
       "HISPANIC/LATINO - DOMINICAN                                    59\n",
       "ASIAN - ASIAN INDIAN                                           58\n",
       "WHITE - OTHER EUROPEAN                                         50\n",
       "MULTI RACE ETHNICITY                                           50\n",
       "PORTUGUESE                                                     40\n",
       "WHITE - BRAZILIAN                                              33\n",
       "ASIAN - VIETNAMESE                                             28\n",
       "BLACK/AFRICAN                                                  26\n",
       "MIDDLE EASTERN                                                 24\n",
       "HISPANIC/LATINO - GUATEMALAN                                   24\n",
       "WHITE - EASTERN EUROPEAN                                       18\n",
       "HISPANIC/LATINO - CUBAN                                        17\n",
       "ASIAN - FILIPINO                                               16\n",
       "ASIAN - CAMBODIAN                                              14\n",
       "AMERICAN INDIAN/ALASKA NATIVE                                  13\n",
       "HISPANIC/LATINO - SALVADORAN                                   13\n",
       "HISPANIC/LATINO - MEXICAN                                       8\n",
       "HISPANIC/LATINO - CENTRAL AMERICAN (OTHER)                      7\n",
       "SOUTH AMERICAN                                                  7\n",
       "CARIBBEAN ISLAND                                                6\n",
       "ASIAN - KOREAN                                                  6\n",
       "NATIVE HAWAIIAN OR OTHER PACIFIC ISLANDER                       6\n",
       "ASIAN - JAPANESE                                                6\n",
       "HISPANIC/LATINO - COLOMBIAN                                     5\n",
       "ASIAN - OTHER                                                   3\n",
       "ASIAN - THAI                                                    3\n",
       "HISPANIC/LATINO - HONDURAN                                      2\n",
       "AMERICAN INDIAN/ALASKA NATIVE FEDERALLY RECOGNIZED TRIBE        2\n",
       "Name: ETHNICITY, dtype: int64"
      ]
     },
     "execution_count": 74,
     "metadata": {},
     "output_type": "execute_result"
    }
   ],
   "source": [
    "train_data['ETHNICITY'].value_counts()"
   ]
  },
  {
   "cell_type": "code",
   "execution_count": 75,
   "id": "d26eaf95",
   "metadata": {},
   "outputs": [],
   "source": [
    "#categorise ethnicities \n",
    "NATIVE = ['AMERICAN INDIAN/ALASKA NATIVE',\n",
    " 'AMERICAN INDIAN/ALASKA NATIVE FEDERALLY RECOGNIZED TRIBE',  'NATIVE HAWAIIAN OR OTHER PACIFIC ISLANDER']\n",
    "ASIAN = ['ASIAN',\n",
    " 'ASIAN - ASIAN INDIAN',\n",
    " 'ASIAN - CAMBODIAN',\n",
    " 'ASIAN - CHINESE',\n",
    " 'ASIAN - FILIPINO',\n",
    " 'ASIAN - JAPANESE',\n",
    " 'ASIAN - KOREAN',\n",
    " 'ASIAN - OTHER',\n",
    " 'ASIAN - THAI',\n",
    " 'ASIAN - VIETNAMESE']\n",
    "BLACK = ['BLACK/AFRICAN',\n",
    " 'BLACK/AFRICAN AMERICAN',\n",
    " 'BLACK/CAPE VERDEAN',\n",
    " 'BLACK/HAITIAN']\n",
    "OTHER = ['CARIBBEAN ISLAND', 'OTHER', 'MIDDLE EASTERN','MULTI RACE ETHNICITY']\n",
    "\n",
    "HISPANIC_LATINO = ['HISPANIC OR LATINO',\n",
    " 'HISPANIC/LATINO - CENTRAL AMERICAN (OTHER)',\n",
    " 'HISPANIC/LATINO - COLOMBIAN',\n",
    " 'HISPANIC/LATINO - CUBAN',\n",
    " 'HISPANIC/LATINO - DOMINICAN',\n",
    " 'HISPANIC/LATINO - GUATEMALAN',\n",
    " 'HISPANIC/LATINO - HONDURAN',\n",
    " 'HISPANIC/LATINO - MEXICAN',\n",
    " 'HISPANIC/LATINO - PUERTO RICAN',\n",
    " 'HISPANIC/LATINO - SALVADORAN', \n",
    "                   'SOUTH AMERICAN']\n",
    "UNKNOWN = ['UNABLE TO OBTAIN',\n",
    " 'UNKNOWN/NOT SPECIFIED']\n",
    "WHITE = ['WHITE',\n",
    " 'WHITE - BRAZILIAN',\n",
    " 'WHITE - EASTERN EUROPEAN',\n",
    " 'WHITE - OTHER EUROPEAN',\n",
    " 'WHITE - RUSSIAN',\n",
    "        'PORTUGUESE']\n",
    "replacing_ethnicities = [NATIVE, ASIAN, BLACK, OTHER, HISPANIC_LATINO, UNKNOWN, WHITE]\n",
    "replacing_ethnicities_str = ['NATIVE', 'ASIAN', 'BLACK', 'OTHER', 'HISPANIC_LATINO', 'UNKNOWN', 'WHITE']\n",
    "\n",
    "#'PATIENT DECLINED TO ANSWER' are left as is"
   ]
  },
  {
   "cell_type": "code",
   "execution_count": 76,
   "id": "b6fb4a5b",
   "metadata": {},
   "outputs": [],
   "source": [
    "#apply categorisation of ethnicities to dataframe\n",
    "counter = 0\n",
    "for i in replacing_ethnicities:\n",
    "    train_data = replace(train_data, 'ETHNICITY', i, replacing_ethnicities_str[counter])\n",
    "    test_data = replace(test_data, 'ETHNICITY', i, replacing_ethnicities_str[counter])\n",
    "    counter += 1"
   ]
  },
  {
   "cell_type": "code",
   "execution_count": 77,
   "id": "9c007679",
   "metadata": {},
   "outputs": [
    {
     "data": {
      "text/plain": [
       "WHITE                         15370\n",
       "BLACK                          2201\n",
       "UNKNOWN                        1145\n",
       "HISPANIC_LATINO                 859\n",
       "OTHER                           569\n",
       "ASIAN                           545\n",
       "PATIENT DECLINED TO ANSWER      175\n",
       "NATIVE                           21\n",
       "Name: ETHNICITY, dtype: int64"
      ]
     },
     "execution_count": 77,
     "metadata": {},
     "output_type": "execute_result"
    }
   ],
   "source": [
    "train_data['ETHNICITY'].value_counts()"
   ]
  },
  {
   "cell_type": "markdown",
   "id": "2667f4fa",
   "metadata": {},
   "source": [
    "### Religion\n"
   ]
  },
  {
   "cell_type": "code",
   "execution_count": 18,
   "id": "0444ced2",
   "metadata": {},
   "outputs": [
    {
     "data": {
      "text/plain": [
       "CATHOLIC                  7655\n",
       "NOT SPECIFIED             5398\n",
       "PROTESTANT QUAKER         2753\n",
       "JEWISH                    1840\n",
       "UNOBTAINABLE              1515\n",
       "OTHER                      702\n",
       "EPISCOPALIAN               288\n",
       "GREEK ORTHODOX             178\n",
       "CHRISTIAN SCIENTIST        164\n",
       "BUDDHIST                   109\n",
       "MUSLIM                      74\n",
       "UNITARIAN-UNIVERSALIST      54\n",
       "JEHOVAH'S WITNESS           45\n",
       "ROMANIAN EAST. ORTH         41\n",
       "HINDU                       38\n",
       "7TH DAY ADVENTIST           30\n",
       "HEBREW                       1\n",
       "Name: RELIGION, dtype: int64"
      ]
     },
     "execution_count": 18,
     "metadata": {},
     "output_type": "execute_result"
    }
   ],
   "source": [
    "train_data['RELIGION'].value_counts()"
   ]
  },
  {
   "cell_type": "code",
   "execution_count": 19,
   "id": "21ea9ec4",
   "metadata": {},
   "outputs": [],
   "source": [
    "#crude categorisation of religions to reduce dimensionality \n",
    "religion_other = ['HEBREW', 'UNITARIAN-UNIVERSALIST', 'HINDU', 'GREEK ORTHODOX',\"JEHOVAH'S WITNESS\", \"BUDDHIST\", 'MUSLIM', 'OTHER', 'CHRISTIAN SCIENTIST', 'EPISCOPALIAN', 'ROMANIAN EAST. ORTH', '7TH DAY ADVENTIST'] \n",
    "train_data = replace(train_data, 'RELIGION', religion_other, 'OTHER')\n",
    "test_data = replace(test_data, 'RELIGION', religion_other, 'OTHER')"
   ]
  },
  {
   "cell_type": "code",
   "execution_count": 20,
   "id": "03a56f90",
   "metadata": {},
   "outputs": [
    {
     "data": {
      "text/plain": [
       "CATHOLIC             7655\n",
       "NOT SPECIFIED        5398\n",
       "PROTESTANT QUAKER    2753\n",
       "JEWISH               1840\n",
       "OTHER                1724\n",
       "UNOBTAINABLE         1515\n",
       "Name: RELIGION, dtype: int64"
      ]
     },
     "execution_count": 20,
     "metadata": {},
     "output_type": "execute_result"
    }
   ],
   "source": [
    "train_data['RELIGION'].value_counts()"
   ]
  },
  {
   "cell_type": "markdown",
   "id": "13b10ff2",
   "metadata": {},
   "source": [
    "### Investigate relationship between outcome and categorical variables"
   ]
  },
  {
   "cell_type": "code",
   "execution_count": 21,
   "id": "4099c780",
   "metadata": {},
   "outputs": [],
   "source": [
    "list_of_dfs = []\n",
    "categorical_check = pd.DataFrame(columns = ['HOSPITAL_EXPIRE_FLAG', 'Sub-category', 'Counts', 'Sum', '%', 'Variable'])\n",
    "for i in categorical_features:\n",
    "    new_col_count = str(i+'_count')\n",
    "    new_col_sum = str(i+'sum')\n",
    "    counts = train_data.groupby('HOSPITAL_EXPIRE_FLAG').agg({i: 'value_counts'}).rename(columns = {i: new_col_count}).reset_index()\n",
    "    totals = counts.groupby(i).agg({new_col_count: sum}).rename(columns = {new_col_count: new_col_sum}).reset_index()\n",
    "    counts = pd.merge(counts, totals, how ='left', on=i)\n",
    "    counts['%'] = counts[new_col_count]/counts[new_col_sum]\n",
    "    counts['Variable'] = i\n",
    "    counts.columns = categorical_check.columns\n",
    "    categorical_check = pd.concat([categorical_check, counts], ignore_index=True)"
   ]
  },
  {
   "cell_type": "code",
   "execution_count": 22,
   "id": "9ead263e",
   "metadata": {},
   "outputs": [
    {
     "name": "stdout",
     "output_type": "stream",
     "text": [
      "  HOSPITAL_EXPIRE_FLAG Sub-category Counts    Sum         % Variable\n",
      "3                    1            F   1057   9126  0.115823   GENDER\n",
      "2                    1            M   1288  11759  0.109533   GENDER\n",
      "  HOSPITAL_EXPIRE_FLAG Sub-category Counts    Sum         %        Variable\n",
      "7                    1    EMERGENCY   2237  17817  0.125554  ADMISSION_TYPE\n",
      "9                    1       URGENT     15    220  0.068182  ADMISSION_TYPE\n",
      "8                    1     ELECTIVE     93   2848  0.032654  ADMISSION_TYPE\n",
      "   HOSPITAL_EXPIRE_FLAG Sub-category Counts    Sum         %   Variable\n",
      "19                    1     Self Pay     28    194  0.144330  INSURANCE\n",
      "15                    1     Medicare   1576  11718  0.134494  INSURANCE\n",
      "16                    1      Private    537   6245  0.085989  INSURANCE\n",
      "17                    1     Medicaid    168   2117  0.079358  INSURANCE\n",
      "18                    1   Government     36    611  0.058920  INSURANCE\n",
      "   HOSPITAL_EXPIRE_FLAG       Sub-category Counts   Sum         %  Variable\n",
      "29                    1       UNOBTAINABLE    288  1515  0.190099  RELIGION\n",
      "30                    1             JEWISH    234  1840  0.127174  RELIGION\n",
      "26                    1           CATHOLIC    829  7655  0.108295  RELIGION\n",
      "28                    1  PROTESTANT QUAKER    290  2753  0.105340  RELIGION\n",
      "27                    1      NOT SPECIFIED    536  5398  0.099296  RELIGION\n",
      "31                    1              OTHER    168  1724  0.097448  RELIGION\n",
      "   HOSPITAL_EXPIRE_FLAG       Sub-category Counts   Sum         %  \\\n",
      "44                    1  UNKNOWN (DEFAULT)     26   103  0.252427   \n",
      "41                    1            WIDOWED    388  2819  0.137637   \n",
      "42                    1           DIVORCED    161  1413  0.113942   \n",
      "39                    1            MARRIED   1080  9664  0.111755   \n",
      "43                    1          SEPARATED     26   240  0.108333   \n",
      "40                    1             SINGLE    480  5910  0.081218   \n",
      "\n",
      "          Variable  \n",
      "44  MARITAL_STATUS  \n",
      "41  MARITAL_STATUS  \n",
      "42  MARITAL_STATUS  \n",
      "39  MARITAL_STATUS  \n",
      "43  MARITAL_STATUS  \n",
      "40  MARITAL_STATUS  \n",
      "   HOSPITAL_EXPIRE_FLAG                Sub-category Counts    Sum         %  \\\n",
      "54                    1                     UNKNOWN    237   1145  0.206987   \n",
      "60                    1                      NATIVE      3     21  0.142857   \n",
      "56                    1                       ASIAN     71    545  0.130275   \n",
      "53                    1                       WHITE   1691  15370  0.110020   \n",
      "58                    1                       OTHER     59    569  0.103691   \n",
      "55                    1                       BLACK    200   2201  0.090868   \n",
      "57                    1             HISPANIC_LATINO     70    859  0.081490   \n",
      "59                    1  PATIENT DECLINED TO ANSWER     14    175  0.080000   \n",
      "\n",
      "     Variable  \n",
      "54  ETHNICITY  \n",
      "60  ETHNICITY  \n",
      "56  ETHNICITY  \n",
      "53  ETHNICITY  \n",
      "58  ETHNICITY  \n",
      "55  ETHNICITY  \n",
      "57  ETHNICITY  \n",
      "59  ETHNICITY  \n",
      "   HOSPITAL_EXPIRE_FLAG Sub-category Counts   Sum         %        Variable\n",
      "66                    1         MICU   1205  8640  0.139468  FIRST_CAREUNIT\n",
      "67                    1         SICU    462  3961  0.116637  FIRST_CAREUNIT\n",
      "69                    1          CCU    271  2512  0.107882  FIRST_CAREUNIT\n",
      "68                    1        TSICU    283  2645  0.106994  FIRST_CAREUNIT\n",
      "70                    1         CSRU    124  3127  0.039655  FIRST_CAREUNIT\n"
     ]
    }
   ],
   "source": [
    "for i in categorical_features:\n",
    "    print(categorical_check[(categorical_check['HOSPITAL_EXPIRE_FLAG'] == 1) & (categorical_check['Variable'] == i)].sort_values(by='%', ascending = False))"
   ]
  },
  {
   "cell_type": "markdown",
   "id": "fe4eee87",
   "metadata": {},
   "source": [
    "Summary:\n",
    "\n",
    "- Limited/no variation by type: Gender\n",
    "- Admission_type: Emergency = higher likelihood of death\n",
    "- Insurance: Self-pay/medicare = higher likelihood of death\n",
    "- Religion, marital_status, ethnicity: unknown categorisation = higher likelihood of death\n",
    "- First care unit: CSRU = lower likelihood of death"
   ]
  },
  {
   "cell_type": "code",
   "execution_count": 23,
   "id": "1ef2310e",
   "metadata": {},
   "outputs": [
    {
     "data": {
      "text/plain": [
       "GENDER            2\n",
       "ADMISSION_TYPE    3\n",
       "INSURANCE         5\n",
       "RELIGION          6\n",
       "MARITAL_STATUS    7\n",
       "ETHNICITY         8\n",
       "FIRST_CAREUNIT    5\n",
       "dtype: int64"
      ]
     },
     "execution_count": 23,
     "metadata": {},
     "output_type": "execute_result"
    }
   ],
   "source": [
    "train_data[categorical_features].nunique()"
   ]
  },
  {
   "cell_type": "markdown",
   "id": "f1328417",
   "metadata": {},
   "source": [
    "Have managed to reduce dimensionality so will one_hot_encode for all features here"
   ]
  },
  {
   "cell_type": "code",
   "execution_count": 24,
   "id": "192cc95b",
   "metadata": {},
   "outputs": [
    {
     "data": {
      "text/html": [
       "<div>\n",
       "<style scoped>\n",
       "    .dataframe tbody tr th:only-of-type {\n",
       "        vertical-align: middle;\n",
       "    }\n",
       "\n",
       "    .dataframe tbody tr th {\n",
       "        vertical-align: top;\n",
       "    }\n",
       "\n",
       "    .dataframe thead th {\n",
       "        text-align: right;\n",
       "    }\n",
       "</style>\n",
       "<table border=\"1\" class=\"dataframe\">\n",
       "  <thead>\n",
       "    <tr style=\"text-align: right;\">\n",
       "      <th></th>\n",
       "      <th>HOSPITAL_EXPIRE_FLAG</th>\n",
       "      <th>Sub-category</th>\n",
       "      <th>Counts</th>\n",
       "      <th>Sum</th>\n",
       "      <th>%</th>\n",
       "      <th>Variable</th>\n",
       "    </tr>\n",
       "  </thead>\n",
       "  <tbody>\n",
       "    <tr>\n",
       "      <th>44</th>\n",
       "      <td>1</td>\n",
       "      <td>UNKNOWN (DEFAULT)</td>\n",
       "      <td>26</td>\n",
       "      <td>103</td>\n",
       "      <td>0.252427</td>\n",
       "      <td>MARITAL_STATUS</td>\n",
       "    </tr>\n",
       "    <tr>\n",
       "      <th>54</th>\n",
       "      <td>1</td>\n",
       "      <td>UNKNOWN</td>\n",
       "      <td>237</td>\n",
       "      <td>1145</td>\n",
       "      <td>0.206987</td>\n",
       "      <td>ETHNICITY</td>\n",
       "    </tr>\n",
       "    <tr>\n",
       "      <th>29</th>\n",
       "      <td>1</td>\n",
       "      <td>UNOBTAINABLE</td>\n",
       "      <td>288</td>\n",
       "      <td>1515</td>\n",
       "      <td>0.190099</td>\n",
       "      <td>RELIGION</td>\n",
       "    </tr>\n",
       "    <tr>\n",
       "      <th>19</th>\n",
       "      <td>1</td>\n",
       "      <td>Self Pay</td>\n",
       "      <td>28</td>\n",
       "      <td>194</td>\n",
       "      <td>0.144330</td>\n",
       "      <td>INSURANCE</td>\n",
       "    </tr>\n",
       "    <tr>\n",
       "      <th>60</th>\n",
       "      <td>1</td>\n",
       "      <td>NATIVE</td>\n",
       "      <td>3</td>\n",
       "      <td>21</td>\n",
       "      <td>0.142857</td>\n",
       "      <td>ETHNICITY</td>\n",
       "    </tr>\n",
       "    <tr>\n",
       "      <th>66</th>\n",
       "      <td>1</td>\n",
       "      <td>MICU</td>\n",
       "      <td>1205</td>\n",
       "      <td>8640</td>\n",
       "      <td>0.139468</td>\n",
       "      <td>FIRST_CAREUNIT</td>\n",
       "    </tr>\n",
       "    <tr>\n",
       "      <th>41</th>\n",
       "      <td>1</td>\n",
       "      <td>WIDOWED</td>\n",
       "      <td>388</td>\n",
       "      <td>2819</td>\n",
       "      <td>0.137637</td>\n",
       "      <td>MARITAL_STATUS</td>\n",
       "    </tr>\n",
       "    <tr>\n",
       "      <th>15</th>\n",
       "      <td>1</td>\n",
       "      <td>Medicare</td>\n",
       "      <td>1576</td>\n",
       "      <td>11718</td>\n",
       "      <td>0.134494</td>\n",
       "      <td>INSURANCE</td>\n",
       "    </tr>\n",
       "    <tr>\n",
       "      <th>56</th>\n",
       "      <td>1</td>\n",
       "      <td>ASIAN</td>\n",
       "      <td>71</td>\n",
       "      <td>545</td>\n",
       "      <td>0.130275</td>\n",
       "      <td>ETHNICITY</td>\n",
       "    </tr>\n",
       "    <tr>\n",
       "      <th>30</th>\n",
       "      <td>1</td>\n",
       "      <td>JEWISH</td>\n",
       "      <td>234</td>\n",
       "      <td>1840</td>\n",
       "      <td>0.127174</td>\n",
       "      <td>RELIGION</td>\n",
       "    </tr>\n",
       "    <tr>\n",
       "      <th>7</th>\n",
       "      <td>1</td>\n",
       "      <td>EMERGENCY</td>\n",
       "      <td>2237</td>\n",
       "      <td>17817</td>\n",
       "      <td>0.125554</td>\n",
       "      <td>ADMISSION_TYPE</td>\n",
       "    </tr>\n",
       "    <tr>\n",
       "      <th>67</th>\n",
       "      <td>1</td>\n",
       "      <td>SICU</td>\n",
       "      <td>462</td>\n",
       "      <td>3961</td>\n",
       "      <td>0.116637</td>\n",
       "      <td>FIRST_CAREUNIT</td>\n",
       "    </tr>\n",
       "    <tr>\n",
       "      <th>3</th>\n",
       "      <td>1</td>\n",
       "      <td>F</td>\n",
       "      <td>1057</td>\n",
       "      <td>9126</td>\n",
       "      <td>0.115823</td>\n",
       "      <td>GENDER</td>\n",
       "    </tr>\n",
       "    <tr>\n",
       "      <th>42</th>\n",
       "      <td>1</td>\n",
       "      <td>DIVORCED</td>\n",
       "      <td>161</td>\n",
       "      <td>1413</td>\n",
       "      <td>0.113942</td>\n",
       "      <td>MARITAL_STATUS</td>\n",
       "    </tr>\n",
       "    <tr>\n",
       "      <th>39</th>\n",
       "      <td>1</td>\n",
       "      <td>MARRIED</td>\n",
       "      <td>1080</td>\n",
       "      <td>9664</td>\n",
       "      <td>0.111755</td>\n",
       "      <td>MARITAL_STATUS</td>\n",
       "    </tr>\n",
       "    <tr>\n",
       "      <th>53</th>\n",
       "      <td>1</td>\n",
       "      <td>WHITE</td>\n",
       "      <td>1691</td>\n",
       "      <td>15370</td>\n",
       "      <td>0.110020</td>\n",
       "      <td>ETHNICITY</td>\n",
       "    </tr>\n",
       "    <tr>\n",
       "      <th>2</th>\n",
       "      <td>1</td>\n",
       "      <td>M</td>\n",
       "      <td>1288</td>\n",
       "      <td>11759</td>\n",
       "      <td>0.109533</td>\n",
       "      <td>GENDER</td>\n",
       "    </tr>\n",
       "    <tr>\n",
       "      <th>43</th>\n",
       "      <td>1</td>\n",
       "      <td>SEPARATED</td>\n",
       "      <td>26</td>\n",
       "      <td>240</td>\n",
       "      <td>0.108333</td>\n",
       "      <td>MARITAL_STATUS</td>\n",
       "    </tr>\n",
       "    <tr>\n",
       "      <th>26</th>\n",
       "      <td>1</td>\n",
       "      <td>CATHOLIC</td>\n",
       "      <td>829</td>\n",
       "      <td>7655</td>\n",
       "      <td>0.108295</td>\n",
       "      <td>RELIGION</td>\n",
       "    </tr>\n",
       "    <tr>\n",
       "      <th>69</th>\n",
       "      <td>1</td>\n",
       "      <td>CCU</td>\n",
       "      <td>271</td>\n",
       "      <td>2512</td>\n",
       "      <td>0.107882</td>\n",
       "      <td>FIRST_CAREUNIT</td>\n",
       "    </tr>\n",
       "    <tr>\n",
       "      <th>68</th>\n",
       "      <td>1</td>\n",
       "      <td>TSICU</td>\n",
       "      <td>283</td>\n",
       "      <td>2645</td>\n",
       "      <td>0.106994</td>\n",
       "      <td>FIRST_CAREUNIT</td>\n",
       "    </tr>\n",
       "    <tr>\n",
       "      <th>28</th>\n",
       "      <td>1</td>\n",
       "      <td>PROTESTANT QUAKER</td>\n",
       "      <td>290</td>\n",
       "      <td>2753</td>\n",
       "      <td>0.105340</td>\n",
       "      <td>RELIGION</td>\n",
       "    </tr>\n",
       "    <tr>\n",
       "      <th>58</th>\n",
       "      <td>1</td>\n",
       "      <td>OTHER</td>\n",
       "      <td>59</td>\n",
       "      <td>569</td>\n",
       "      <td>0.103691</td>\n",
       "      <td>ETHNICITY</td>\n",
       "    </tr>\n",
       "    <tr>\n",
       "      <th>27</th>\n",
       "      <td>1</td>\n",
       "      <td>NOT SPECIFIED</td>\n",
       "      <td>536</td>\n",
       "      <td>5398</td>\n",
       "      <td>0.099296</td>\n",
       "      <td>RELIGION</td>\n",
       "    </tr>\n",
       "    <tr>\n",
       "      <th>31</th>\n",
       "      <td>1</td>\n",
       "      <td>OTHER</td>\n",
       "      <td>168</td>\n",
       "      <td>1724</td>\n",
       "      <td>0.097448</td>\n",
       "      <td>RELIGION</td>\n",
       "    </tr>\n",
       "    <tr>\n",
       "      <th>55</th>\n",
       "      <td>1</td>\n",
       "      <td>BLACK</td>\n",
       "      <td>200</td>\n",
       "      <td>2201</td>\n",
       "      <td>0.090868</td>\n",
       "      <td>ETHNICITY</td>\n",
       "    </tr>\n",
       "    <tr>\n",
       "      <th>16</th>\n",
       "      <td>1</td>\n",
       "      <td>Private</td>\n",
       "      <td>537</td>\n",
       "      <td>6245</td>\n",
       "      <td>0.085989</td>\n",
       "      <td>INSURANCE</td>\n",
       "    </tr>\n",
       "    <tr>\n",
       "      <th>57</th>\n",
       "      <td>1</td>\n",
       "      <td>HISPANIC_LATINO</td>\n",
       "      <td>70</td>\n",
       "      <td>859</td>\n",
       "      <td>0.081490</td>\n",
       "      <td>ETHNICITY</td>\n",
       "    </tr>\n",
       "    <tr>\n",
       "      <th>40</th>\n",
       "      <td>1</td>\n",
       "      <td>SINGLE</td>\n",
       "      <td>480</td>\n",
       "      <td>5910</td>\n",
       "      <td>0.081218</td>\n",
       "      <td>MARITAL_STATUS</td>\n",
       "    </tr>\n",
       "    <tr>\n",
       "      <th>59</th>\n",
       "      <td>1</td>\n",
       "      <td>PATIENT DECLINED TO ANSWER</td>\n",
       "      <td>14</td>\n",
       "      <td>175</td>\n",
       "      <td>0.080000</td>\n",
       "      <td>ETHNICITY</td>\n",
       "    </tr>\n",
       "  </tbody>\n",
       "</table>\n",
       "</div>"
      ],
      "text/plain": [
       "   HOSPITAL_EXPIRE_FLAG                Sub-category Counts    Sum         %  \\\n",
       "44                    1           UNKNOWN (DEFAULT)     26    103  0.252427   \n",
       "54                    1                     UNKNOWN    237   1145  0.206987   \n",
       "29                    1                UNOBTAINABLE    288   1515  0.190099   \n",
       "19                    1                    Self Pay     28    194  0.144330   \n",
       "60                    1                      NATIVE      3     21  0.142857   \n",
       "66                    1                        MICU   1205   8640  0.139468   \n",
       "41                    1                     WIDOWED    388   2819  0.137637   \n",
       "15                    1                    Medicare   1576  11718  0.134494   \n",
       "56                    1                       ASIAN     71    545  0.130275   \n",
       "30                    1                      JEWISH    234   1840  0.127174   \n",
       "7                     1                   EMERGENCY   2237  17817  0.125554   \n",
       "67                    1                        SICU    462   3961  0.116637   \n",
       "3                     1                           F   1057   9126  0.115823   \n",
       "42                    1                    DIVORCED    161   1413  0.113942   \n",
       "39                    1                     MARRIED   1080   9664  0.111755   \n",
       "53                    1                       WHITE   1691  15370  0.110020   \n",
       "2                     1                           M   1288  11759  0.109533   \n",
       "43                    1                   SEPARATED     26    240  0.108333   \n",
       "26                    1                    CATHOLIC    829   7655  0.108295   \n",
       "69                    1                         CCU    271   2512  0.107882   \n",
       "68                    1                       TSICU    283   2645  0.106994   \n",
       "28                    1           PROTESTANT QUAKER    290   2753  0.105340   \n",
       "58                    1                       OTHER     59    569  0.103691   \n",
       "27                    1               NOT SPECIFIED    536   5398  0.099296   \n",
       "31                    1                       OTHER    168   1724  0.097448   \n",
       "55                    1                       BLACK    200   2201  0.090868   \n",
       "16                    1                     Private    537   6245  0.085989   \n",
       "57                    1             HISPANIC_LATINO     70    859  0.081490   \n",
       "40                    1                      SINGLE    480   5910  0.081218   \n",
       "59                    1  PATIENT DECLINED TO ANSWER     14    175  0.080000   \n",
       "\n",
       "          Variable  \n",
       "44  MARITAL_STATUS  \n",
       "54       ETHNICITY  \n",
       "29        RELIGION  \n",
       "19       INSURANCE  \n",
       "60       ETHNICITY  \n",
       "66  FIRST_CAREUNIT  \n",
       "41  MARITAL_STATUS  \n",
       "15       INSURANCE  \n",
       "56       ETHNICITY  \n",
       "30        RELIGION  \n",
       "7   ADMISSION_TYPE  \n",
       "67  FIRST_CAREUNIT  \n",
       "3           GENDER  \n",
       "42  MARITAL_STATUS  \n",
       "39  MARITAL_STATUS  \n",
       "53       ETHNICITY  \n",
       "2           GENDER  \n",
       "43  MARITAL_STATUS  \n",
       "26        RELIGION  \n",
       "69  FIRST_CAREUNIT  \n",
       "68  FIRST_CAREUNIT  \n",
       "28        RELIGION  \n",
       "58       ETHNICITY  \n",
       "27        RELIGION  \n",
       "31        RELIGION  \n",
       "55       ETHNICITY  \n",
       "16       INSURANCE  \n",
       "57       ETHNICITY  \n",
       "40  MARITAL_STATUS  \n",
       "59       ETHNICITY  "
      ]
     },
     "execution_count": 24,
     "metadata": {},
     "output_type": "execute_result"
    }
   ],
   "source": [
    "categorical_check[(categorical_check['HOSPITAL_EXPIRE_FLAG'] == 1)].sort_values(by='%', ascending=False).head(30)"
   ]
  },
  {
   "cell_type": "markdown",
   "id": "be12fdef",
   "metadata": {},
   "source": [
    "To note that we may have some structurally missing data since unknown ethnicity/religion/marital status have high proportions of death"
   ]
  },
  {
   "cell_type": "markdown",
   "id": "ca38cbd8",
   "metadata": {},
   "source": [
    "# Step 2: Dealing with missing values"
   ]
  },
  {
   "cell_type": "code",
   "execution_count": 25,
   "id": "0134ec73",
   "metadata": {},
   "outputs": [
    {
     "data": {
      "text/plain": [
       "HOSPITAL_EXPIRE_FLAG       0\n",
       "subject_id                 0\n",
       "hadm_id                    0\n",
       "icustay_id                 0\n",
       "HeartRate_Min           2187\n",
       "HeartRate_Max           2187\n",
       "HeartRate_Mean          2187\n",
       "SysBP_Min               2208\n",
       "SysBP_Max               2208\n",
       "SysBP_Mean              2208\n",
       "DiasBP_Min              2209\n",
       "DiasBP_Max              2209\n",
       "DiasBP_Mean             2209\n",
       "MeanBP_Min              2186\n",
       "MeanBP_Max              2186\n",
       "MeanBP_Mean             2186\n",
       "RespRate_Min            2189\n",
       "RespRate_Max            2189\n",
       "RespRate_Mean           2189\n",
       "TempC_Min               2497\n",
       "TempC_Max               2497\n",
       "TempC_Mean              2497\n",
       "SpO2_Min                2203\n",
       "SpO2_Max                2203\n",
       "SpO2_Mean               2203\n",
       "Glucose_Min              253\n",
       "Glucose_Max              253\n",
       "Glucose_Mean             253\n",
       "GENDER                     0\n",
       "ADMISSION_TYPE             0\n",
       "INSURANCE                  0\n",
       "RELIGION                   0\n",
       "MARITAL_STATUS           722\n",
       "ETHNICITY                  0\n",
       "DIAGNOSIS                  0\n",
       "ICD9_diagnosis             0\n",
       "FIRST_CAREUNIT             0\n",
       "AGE                        0\n",
       "dtype: int64"
      ]
     },
     "execution_count": 25,
     "metadata": {},
     "output_type": "execute_result"
    }
   ],
   "source": [
    "#report nas\n",
    "train_data.isnull().sum()"
   ]
  },
  {
   "cell_type": "code",
   "execution_count": 26,
   "id": "6a38b0ce",
   "metadata": {},
   "outputs": [
    {
     "data": {
      "text/plain": [
       "subject_id          0\n",
       "hadm_id             0\n",
       "icustay_id          0\n",
       "HeartRate_Min     545\n",
       "HeartRate_Max     545\n",
       "HeartRate_Mean    545\n",
       "SysBP_Min         551\n",
       "SysBP_Max         551\n",
       "SysBP_Mean        551\n",
       "DiasBP_Min        552\n",
       "DiasBP_Max        552\n",
       "DiasBP_Mean       552\n",
       "MeanBP_Min        547\n",
       "MeanBP_Max        547\n",
       "MeanBP_Mean       547\n",
       "RespRate_Min      546\n",
       "RespRate_Max      546\n",
       "RespRate_Mean     546\n",
       "TempC_Min         638\n",
       "TempC_Max         638\n",
       "TempC_Mean        638\n",
       "SpO2_Min          551\n",
       "SpO2_Max          551\n",
       "SpO2_Mean         551\n",
       "Glucose_Min        58\n",
       "Glucose_Max        58\n",
       "Glucose_Mean       58\n",
       "GENDER              0\n",
       "ADMISSION_TYPE      0\n",
       "INSURANCE           0\n",
       "RELIGION            0\n",
       "MARITAL_STATUS    180\n",
       "ETHNICITY           0\n",
       "DIAGNOSIS           0\n",
       "ICD9_diagnosis      0\n",
       "FIRST_CAREUNIT      0\n",
       "AGE                 0\n",
       "dtype: int64"
      ]
     },
     "execution_count": 26,
     "metadata": {},
     "output_type": "execute_result"
    }
   ],
   "source": [
    "#report nas\n",
    "test_data.isnull().sum()"
   ]
  },
  {
   "cell_type": "markdown",
   "id": "754c0a78",
   "metadata": {},
   "source": [
    "## Numerical features"
   ]
  },
  {
   "cell_type": "code",
   "execution_count": 28,
   "id": "4f585fa6",
   "metadata": {},
   "outputs": [
    {
     "data": {
      "text/plain": [
       "HeartRate_Min     2187\n",
       "HeartRate_Max     2187\n",
       "HeartRate_Mean    2187\n",
       "SysBP_Min         2208\n",
       "SysBP_Max         2208\n",
       "SysBP_Mean        2208\n",
       "DiasBP_Min        2209\n",
       "DiasBP_Max        2209\n",
       "DiasBP_Mean       2209\n",
       "MeanBP_Min        2186\n",
       "MeanBP_Max        2186\n",
       "MeanBP_Mean       2186\n",
       "RespRate_Min      2189\n",
       "RespRate_Max      2189\n",
       "RespRate_Mean     2189\n",
       "TempC_Min         2497\n",
       "TempC_Max         2497\n",
       "TempC_Mean        2497\n",
       "SpO2_Min          2203\n",
       "SpO2_Max          2203\n",
       "SpO2_Mean         2203\n",
       "Glucose_Min        253\n",
       "Glucose_Max        253\n",
       "Glucose_Mean       253\n",
       "AGE                  0\n",
       "dtype: int64"
      ]
     },
     "execution_count": 28,
     "metadata": {},
     "output_type": "execute_result"
    }
   ],
   "source": [
    "train_data[numerical_features].isnull().sum()"
   ]
  },
  {
   "cell_type": "markdown",
   "id": "3bf68598",
   "metadata": {},
   "source": [
    "Given the high correlations between groups of variables, the first impression is that imputation could be helpful. For example, imagine we had heart rate min and max, but not mean. A simple regression may help us accurately impute the mean. The same applies across all variables, and then in combination with the iterative imputer we could hopefully produce some reasonable imputations. "
   ]
  },
  {
   "cell_type": "code",
   "execution_count": 29,
   "id": "ef9e37a1",
   "metadata": {},
   "outputs": [],
   "source": [
    "#group\n",
    "heart_features = ['HeartRate_Min', 'HeartRate_Max', 'HeartRate_Mean']\n",
    "bp_features = ['SysBP_Min','SysBP_Max', 'SysBP_Mean', 'DiasBP_Min', 'DiasBP_Max', 'DiasBP_Mean','MeanBP_Min', 'MeanBP_Max', 'MeanBP_Mean']\n",
    "resp_features = ['RespRate_Min','RespRate_Max', 'RespRate_Mean']\n",
    "temp_features = ['TempC_Min', 'TempC_Max', 'TempC_Mean']\n",
    "oxygen_features = ['SpO2_Min', 'SpO2_Max', 'SpO2_Mean']\n",
    "glucose_features = ['Glucose_Min', 'Glucose_Max','Glucose_Mean']"
   ]
  },
  {
   "cell_type": "code",
   "execution_count": 30,
   "id": "f5d92d39",
   "metadata": {},
   "outputs": [
    {
     "data": {
      "text/plain": [
       "0     18113\n",
       "21     2183\n",
       "3       545\n",
       "6        36\n",
       "9         3\n",
       "18        2\n",
       "12        2\n",
       "15        1\n",
       "dtype: int64"
      ]
     },
     "execution_count": 30,
     "metadata": {},
     "output_type": "execute_result"
    }
   ],
   "source": [
    "train_data[heart_features+bp_features+resp_features+temp_features+oxygen_features+glucose_features].isnull().sum(axis=1).value_counts()"
   ]
  },
  {
   "cell_type": "markdown",
   "id": "d0b2b7bb",
   "metadata": {},
   "source": [
    "However, here we see that for those observations with missing values, a high proportion are actually missing data across all numerical features. The exception seems to be the glucose variables since there are far fewer missing values. \n",
    "\n",
    "This has implications for our imputation strategy. This provides a motivation to use the iterative imputer, using the glucose features as the starting point. "
   ]
  },
  {
   "cell_type": "markdown",
   "id": "104c2b38",
   "metadata": {},
   "source": [
    "## Marital status"
   ]
  },
  {
   "cell_type": "code",
   "execution_count": 31,
   "id": "37a60b41",
   "metadata": {},
   "outputs": [
    {
     "name": "stdout",
     "output_type": "stream",
     "text": [
      "722\n",
      "527\n"
     ]
    }
   ],
   "source": [
    "marital_unknown = train_data['MARITAL_STATUS'] == 'UNKNOWN (DEFAULT)'\n",
    "ethnicity_unknown = train_data['ETHNICITY'] == 'UNKNOWN'\n",
    "religion_unknown = train_data['RELIGION'] == 'UNOBTAINABLE'\n",
    "religion_unspecified = train_data['RELIGION'] == 'NOT SPECIFIED'\n",
    "marital_na = train_data['MARITAL_STATUS'].isna()\n",
    "\n",
    "print(len(train_data[marital_na]))\n",
    "print(len(train_data[marital_na&(religion_unknown|ethnicity_unknown)]))"
   ]
  },
  {
   "cell_type": "code",
   "execution_count": 32,
   "id": "d0c5a101",
   "metadata": {},
   "outputs": [
    {
     "data": {
      "text/plain": [
       "0.2548476454293629"
      ]
     },
     "execution_count": 32,
     "metadata": {},
     "output_type": "execute_result"
    }
   ],
   "source": [
    "train_data[marital_na]['HOSPITAL_EXPIRE_FLAG'].sum()/len(train_data[marital_na])"
   ]
  },
  {
   "cell_type": "code",
   "execution_count": 33,
   "id": "4d076816",
   "metadata": {},
   "outputs": [
    {
     "data": {
      "text/plain": [
       "MARRIED              9664\n",
       "SINGLE               5910\n",
       "WIDOWED              2819\n",
       "DIVORCED             1413\n",
       "SEPARATED             240\n",
       "UNKNOWN (DEFAULT)     103\n",
       "LIFE PARTNER           14\n",
       "Name: MARITAL_STATUS, dtype: int64"
      ]
     },
     "execution_count": 33,
     "metadata": {},
     "output_type": "execute_result"
    }
   ],
   "source": [
    "train_data['MARITAL_STATUS'].value_counts()"
   ]
  },
  {
   "cell_type": "markdown",
   "id": "479fac48",
   "metadata": {},
   "source": [
    "Implications for imputation method. A simple method would be to impute the modal category but this doesn't seem sensible here given that a) high proportion of deaths for those with na and b) we notice those with an NA for marital status also tend to have classified relgion/ethnicity as unknown. \n",
    "\n",
    "As a result I classify these individuals into their own category - \"Missing\". "
   ]
  },
  {
   "cell_type": "code",
   "execution_count": 34,
   "id": "ee878cb4",
   "metadata": {},
   "outputs": [
    {
     "data": {
      "text/plain": [
       "MARRIED              9664\n",
       "SINGLE               5910\n",
       "WIDOWED              2819\n",
       "DIVORCED             1413\n",
       "MISSING               722\n",
       "SEPARATED             240\n",
       "UNKNOWN (DEFAULT)     103\n",
       "LIFE PARTNER           14\n",
       "Name: MARITAL_STATUS, dtype: int64"
      ]
     },
     "execution_count": 34,
     "metadata": {},
     "output_type": "execute_result"
    }
   ],
   "source": [
    "train_data['MARITAL_STATUS'].fillna('MISSING', inplace = True)\n",
    "test_data['MARITAL_STATUS'].fillna('MISSING', inplace = True)\n",
    "train_data['MARITAL_STATUS'].value_counts()"
   ]
  },
  {
   "cell_type": "markdown",
   "id": "6055c039",
   "metadata": {},
   "source": [
    "# Step 3: Generate new features"
   ]
  },
  {
   "cell_type": "markdown",
   "id": "0973dd6c",
   "metadata": {},
   "source": [
    "## 3a: Comorbidities"
   ]
  },
  {
   "cell_type": "code",
   "execution_count": 35,
   "id": "6dac08f6",
   "metadata": {},
   "outputs": [
    {
     "data": {
      "text/plain": [
       "SUBJECT_ID     0\n",
       "HADM_ID        0\n",
       "SEQ_NUM       47\n",
       "ICD9_CODE     47\n",
       "dtype: int64"
      ]
     },
     "execution_count": 35,
     "metadata": {},
     "output_type": "execute_result"
    }
   ],
   "source": [
    "comorbidities.isnull().sum()"
   ]
  },
  {
   "cell_type": "markdown",
   "id": "5d18d8c8",
   "metadata": {},
   "source": [
    "In the the comorbidities data we have some nas for SEQ_NUM (refers to number of additional comorbidities diagnosed for a given HADM_ID), and ICD9_CODE. Let's investigate a bit further. "
   ]
  },
  {
   "cell_type": "code",
   "execution_count": 36,
   "id": "eaaf80d8",
   "metadata": {},
   "outputs": [
    {
     "name": "stdout",
     "output_type": "stream",
     "text": [
      "        SUBJECT_ID  HADM_ID  SEQ_NUM ICD9_CODE\n",
      "36503         9998   108282      NaN       NaN\n",
      "74075        28700   104588      NaN       NaN\n",
      "79039        27934   152077      NaN       NaN\n",
      "106220        3369   126808      NaN       NaN\n",
      "107563       23081   105970      NaN       NaN\n",
      "115158       17964   196087      NaN       NaN\n",
      "139896       24886   166997      NaN       NaN\n",
      "161360       12607   190435      NaN       NaN\n",
      "168855       13890   113170      NaN       NaN\n",
      "169511       26690   196643      NaN       NaN\n",
      "189903        9035   188023      NaN       NaN\n",
      "216604       16213   199739      NaN       NaN\n",
      "219007       18006   140889      NaN       NaN\n",
      "281482       23407   119146      NaN       NaN\n",
      "288388        8818   111608      NaN       NaN\n",
      "296439       17269   176570      NaN       NaN\n",
      "302635        7544   116945      NaN       NaN\n",
      "309494       31866   182252      NaN       NaN\n",
      "314075       24188   163059      NaN       NaN\n",
      "333731       17796   142890      NaN       NaN\n",
      "352366       14219   102096      NaN       NaN\n",
      "363496       24975   109963      NaN       NaN\n",
      "375841       19092   186323      NaN       NaN\n",
      "409012         417   102633      NaN       NaN\n",
      "410069       19617   194017      NaN       NaN\n",
      "427809        9896   171183      NaN       NaN\n",
      "429159       29096   182322      NaN       NaN\n",
      "429684         937   177274      NaN       NaN\n",
      "441778       18605   144751      NaN       NaN\n",
      "443632       11438   154602      NaN       NaN\n",
      "453528         690   174817      NaN       NaN\n",
      "457579       23987   186175      NaN       NaN\n",
      "466017        4023   170307      NaN       NaN\n",
      "466076        4791   159800      NaN       NaN\n",
      "470415       31928   153208      NaN       NaN\n",
      "502963       30405   154166      NaN       NaN\n",
      "508949        7880   184025      NaN       NaN\n",
      "524003       13262   160049      NaN       NaN\n",
      "533972        1490   135580      NaN       NaN\n",
      "544121       73686   112990      NaN       NaN\n",
      "559257       11740   129620      NaN       NaN\n",
      "560256       30940   110368      NaN       NaN\n",
      "579945       28388   173766      NaN       NaN\n",
      "602691       11245   148742      NaN       NaN\n",
      "629220       29175   152368      NaN       NaN\n",
      "649340       11519   123220      NaN       NaN\n",
      "649442       13567   110220      NaN       NaN\n",
      "(47, 4)\n"
     ]
    },
    {
     "data": {
      "text/plain": [
       "(651047, 4)"
      ]
     },
     "execution_count": 36,
     "metadata": {},
     "output_type": "execute_result"
    }
   ],
   "source": [
    "print(comorbidities[comorbidities['SEQ_NUM'].isnull() == True])\n",
    "print(comorbidities[comorbidities['SEQ_NUM'].isnull() == True].shape)\n",
    "comorbidities.shape"
   ]
  },
  {
   "cell_type": "markdown",
   "id": "2bd405fc",
   "metadata": {},
   "source": [
    "So we have 47 rows with nas out of 651,047 which is very few. In any case, let's take the first subject_id as an example. "
   ]
  },
  {
   "cell_type": "code",
   "execution_count": 37,
   "id": "e7c92b31",
   "metadata": {},
   "outputs": [
    {
     "data": {
      "text/html": [
       "<div>\n",
       "<style scoped>\n",
       "    .dataframe tbody tr th:only-of-type {\n",
       "        vertical-align: middle;\n",
       "    }\n",
       "\n",
       "    .dataframe tbody tr th {\n",
       "        vertical-align: top;\n",
       "    }\n",
       "\n",
       "    .dataframe thead th {\n",
       "        text-align: right;\n",
       "    }\n",
       "</style>\n",
       "<table border=\"1\" class=\"dataframe\">\n",
       "  <thead>\n",
       "    <tr style=\"text-align: right;\">\n",
       "      <th></th>\n",
       "      <th>SUBJECT_ID</th>\n",
       "      <th>HADM_ID</th>\n",
       "      <th>SEQ_NUM</th>\n",
       "      <th>ICD9_CODE</th>\n",
       "    </tr>\n",
       "  </thead>\n",
       "  <tbody>\n",
       "    <tr>\n",
       "      <th>36503</th>\n",
       "      <td>9998</td>\n",
       "      <td>108282</td>\n",
       "      <td>NaN</td>\n",
       "      <td>NaN</td>\n",
       "    </tr>\n",
       "    <tr>\n",
       "      <th>36504</th>\n",
       "      <td>9998</td>\n",
       "      <td>144947</td>\n",
       "      <td>1.0</td>\n",
       "      <td>80025</td>\n",
       "    </tr>\n",
       "    <tr>\n",
       "      <th>36505</th>\n",
       "      <td>9998</td>\n",
       "      <td>144947</td>\n",
       "      <td>2.0</td>\n",
       "      <td>5185</td>\n",
       "    </tr>\n",
       "    <tr>\n",
       "      <th>36506</th>\n",
       "      <td>9998</td>\n",
       "      <td>144947</td>\n",
       "      <td>3.0</td>\n",
       "      <td>3485</td>\n",
       "    </tr>\n",
       "    <tr>\n",
       "      <th>36507</th>\n",
       "      <td>9998</td>\n",
       "      <td>144947</td>\n",
       "      <td>4.0</td>\n",
       "      <td>3484</td>\n",
       "    </tr>\n",
       "    <tr>\n",
       "      <th>36508</th>\n",
       "      <td>9998</td>\n",
       "      <td>144947</td>\n",
       "      <td>5.0</td>\n",
       "      <td>E8181</td>\n",
       "    </tr>\n",
       "  </tbody>\n",
       "</table>\n",
       "</div>"
      ],
      "text/plain": [
       "       SUBJECT_ID  HADM_ID  SEQ_NUM ICD9_CODE\n",
       "36503        9998   108282      NaN       NaN\n",
       "36504        9998   144947      1.0     80025\n",
       "36505        9998   144947      2.0      5185\n",
       "36506        9998   144947      3.0      3485\n",
       "36507        9998   144947      4.0      3484\n",
       "36508        9998   144947      5.0     E8181"
      ]
     },
     "execution_count": 37,
     "metadata": {},
     "output_type": "execute_result"
    }
   ],
   "source": [
    "comorbidities[comorbidities['SUBJECT_ID'] == 9998]"
   ]
  },
  {
   "cell_type": "markdown",
   "id": "c66af20b",
   "metadata": {},
   "source": [
    "In other words, the nas represent individuals who have gone to hospital but have not received a diagnosis. However, this doesn't raise an issue since we will only be considering the no of comorbidities for each hospital admission. We see this later when applying the group by."
   ]
  },
  {
   "cell_type": "code",
   "execution_count": 38,
   "id": "78c13654",
   "metadata": {},
   "outputs": [],
   "source": [
    "#Use group by to get the no. of comorbitidies per hospital admission\n",
    "comorbidities_count = comorbidities.groupby(['SUBJECT_ID','HADM_ID'], as_index = False).agg({'ICD9_CODE': 'nunique'})\n",
    "#rename columns for readability \n",
    "comorbidities_count.rename(columns={'ICD9_CODE': 'No_comorbs'}, inplace=True)"
   ]
  },
  {
   "cell_type": "markdown",
   "id": "e2b8e1e9",
   "metadata": {},
   "source": [
    "Below shows that we capture the correct number of diagnoses per hospital admission."
   ]
  },
  {
   "cell_type": "code",
   "execution_count": 39,
   "id": "ca3d2af3",
   "metadata": {},
   "outputs": [
    {
     "data": {
      "text/html": [
       "<div>\n",
       "<style scoped>\n",
       "    .dataframe tbody tr th:only-of-type {\n",
       "        vertical-align: middle;\n",
       "    }\n",
       "\n",
       "    .dataframe tbody tr th {\n",
       "        vertical-align: top;\n",
       "    }\n",
       "\n",
       "    .dataframe thead th {\n",
       "        text-align: right;\n",
       "    }\n",
       "</style>\n",
       "<table border=\"1\" class=\"dataframe\">\n",
       "  <thead>\n",
       "    <tr style=\"text-align: right;\">\n",
       "      <th></th>\n",
       "      <th>SUBJECT_ID</th>\n",
       "      <th>HADM_ID</th>\n",
       "      <th>No_comorbs</th>\n",
       "    </tr>\n",
       "  </thead>\n",
       "  <tbody>\n",
       "    <tr>\n",
       "      <th>12247</th>\n",
       "      <td>9998</td>\n",
       "      <td>108282</td>\n",
       "      <td>0</td>\n",
       "    </tr>\n",
       "    <tr>\n",
       "      <th>12248</th>\n",
       "      <td>9998</td>\n",
       "      <td>144947</td>\n",
       "      <td>5</td>\n",
       "    </tr>\n",
       "  </tbody>\n",
       "</table>\n",
       "</div>"
      ],
      "text/plain": [
       "       SUBJECT_ID  HADM_ID  No_comorbs\n",
       "12247        9998   108282           0\n",
       "12248        9998   144947           5"
      ]
     },
     "execution_count": 39,
     "metadata": {},
     "output_type": "execute_result"
    }
   ],
   "source": [
    "#confirm no need to remove nas\n",
    "comorbidities_count[comorbidities_count['SUBJECT_ID']==9998]"
   ]
  },
  {
   "cell_type": "code",
   "execution_count": null,
   "id": "8ecf7ca7",
   "metadata": {},
   "outputs": [],
   "source": [
    "#merge with dataset\n",
    "comorbidities_count.columns= comorbidities_count.columns.str.lower()\n",
    "train_data = train_data.merge(comorbidities_count[['subject_id', 'hadm_id', 'no_comorbs']], on=['subject_id', 'hadm_id'])\n",
    "test_data = test_data.merge(comorbidities_count[['subject_id', 'hadm_id', 'no_comorbs']], on=['subject_id', 'hadm_id'])"
   ]
  },
  {
   "cell_type": "markdown",
   "id": "e49b7e29",
   "metadata": {},
   "source": [
    "## 3b: Diagnosis"
   ]
  },
  {
   "cell_type": "code",
   "execution_count": 40,
   "id": "39a211b9",
   "metadata": {},
   "outputs": [],
   "source": [
    "total_survived = train_data['HOSPITAL_EXPIRE_FLAG'].value_counts()[0]\n",
    "total_died = train_data['HOSPITAL_EXPIRE_FLAG'].value_counts()[1]"
   ]
  },
  {
   "cell_type": "code",
   "execution_count": 41,
   "id": "de5697cc",
   "metadata": {},
   "outputs": [],
   "source": [
    "total_diagnosed = train_data['ICD9_diagnosis'].value_counts().reset_index().rename(columns = {'ICD9_diagnosis': 'no_diagnosed', 'index': 'ICD9_diagnosis'})"
   ]
  },
  {
   "cell_type": "code",
   "execution_count": 42,
   "id": "2cf33b26",
   "metadata": {},
   "outputs": [],
   "source": [
    "by_diagnosis = train_data.groupby('ICD9_diagnosis').agg({'HOSPITAL_EXPIRE_FLAG': 'sum'}).sort_values(by = 'HOSPITAL_EXPIRE_FLAG', ascending = False).rename(columns = {'HOSPITAL_EXPIRE_FLAG': 'died'}).reset_index()\n",
    "by_diagnosis = pd.merge(by_diagnosis, total_diagnosed, how = 'left', on ='ICD9_diagnosis')\n",
    "by_diagnosis['survived'] = by_diagnosis['no_diagnosed'] -  by_diagnosis['died']\n",
    "by_diagnosis['%_of_total_dead'] = by_diagnosis['died']/total_died\n",
    "by_diagnosis['%_of_diagnosed_dead'] = by_diagnosis['died']/by_diagnosis['no_diagnosed']"
   ]
  },
  {
   "cell_type": "code",
   "execution_count": 46,
   "id": "4e263208",
   "metadata": {},
   "outputs": [
    {
     "data": {
      "text/plain": [
       "986"
      ]
     },
     "execution_count": 46,
     "metadata": {},
     "output_type": "execute_result"
    }
   ],
   "source": [
    "len(train_data[train_data['ICD9_diagnosis'] == '0389'])"
   ]
  },
  {
   "cell_type": "code",
   "execution_count": 50,
   "id": "0ca39f9f",
   "metadata": {},
   "outputs": [
    {
     "data": {
      "text/html": [
       "<div>\n",
       "<style scoped>\n",
       "    .dataframe tbody tr th:only-of-type {\n",
       "        vertical-align: middle;\n",
       "    }\n",
       "\n",
       "    .dataframe tbody tr th {\n",
       "        vertical-align: top;\n",
       "    }\n",
       "\n",
       "    .dataframe thead th {\n",
       "        text-align: right;\n",
       "    }\n",
       "</style>\n",
       "<table border=\"1\" class=\"dataframe\">\n",
       "  <thead>\n",
       "    <tr style=\"text-align: right;\">\n",
       "      <th></th>\n",
       "      <th>ICD9_diagnosis</th>\n",
       "      <th>died</th>\n",
       "      <th>no_diagnosed</th>\n",
       "      <th>survived</th>\n",
       "      <th>%_of_total_dead</th>\n",
       "      <th>%_of_diagnosed_dead</th>\n",
       "    </tr>\n",
       "  </thead>\n",
       "  <tbody>\n",
       "    <tr>\n",
       "      <th>0</th>\n",
       "      <td>0389</td>\n",
       "      <td>301</td>\n",
       "      <td>986</td>\n",
       "      <td>685</td>\n",
       "      <td>0.128358</td>\n",
       "      <td>0.305274</td>\n",
       "    </tr>\n",
       "    <tr>\n",
       "      <th>1</th>\n",
       "      <td>431</td>\n",
       "      <td>135</td>\n",
       "      <td>444</td>\n",
       "      <td>309</td>\n",
       "      <td>0.057569</td>\n",
       "      <td>0.304054</td>\n",
       "    </tr>\n",
       "    <tr>\n",
       "      <th>2</th>\n",
       "      <td>51881</td>\n",
       "      <td>90</td>\n",
       "      <td>399</td>\n",
       "      <td>309</td>\n",
       "      <td>0.038380</td>\n",
       "      <td>0.225564</td>\n",
       "    </tr>\n",
       "    <tr>\n",
       "      <th>3</th>\n",
       "      <td>430</td>\n",
       "      <td>47</td>\n",
       "      <td>228</td>\n",
       "      <td>181</td>\n",
       "      <td>0.020043</td>\n",
       "      <td>0.206140</td>\n",
       "    </tr>\n",
       "    <tr>\n",
       "      <th>4</th>\n",
       "      <td>486</td>\n",
       "      <td>45</td>\n",
       "      <td>319</td>\n",
       "      <td>274</td>\n",
       "      <td>0.019190</td>\n",
       "      <td>0.141066</td>\n",
       "    </tr>\n",
       "    <tr>\n",
       "      <th>5</th>\n",
       "      <td>5070</td>\n",
       "      <td>38</td>\n",
       "      <td>270</td>\n",
       "      <td>232</td>\n",
       "      <td>0.016205</td>\n",
       "      <td>0.140741</td>\n",
       "    </tr>\n",
       "    <tr>\n",
       "      <th>6</th>\n",
       "      <td>43411</td>\n",
       "      <td>36</td>\n",
       "      <td>172</td>\n",
       "      <td>136</td>\n",
       "      <td>0.015352</td>\n",
       "      <td>0.209302</td>\n",
       "    </tr>\n",
       "    <tr>\n",
       "      <th>7</th>\n",
       "      <td>41071</td>\n",
       "      <td>34</td>\n",
       "      <td>549</td>\n",
       "      <td>515</td>\n",
       "      <td>0.014499</td>\n",
       "      <td>0.061931</td>\n",
       "    </tr>\n",
       "    <tr>\n",
       "      <th>8</th>\n",
       "      <td>43491</td>\n",
       "      <td>27</td>\n",
       "      <td>112</td>\n",
       "      <td>85</td>\n",
       "      <td>0.011514</td>\n",
       "      <td>0.241071</td>\n",
       "    </tr>\n",
       "    <tr>\n",
       "      <th>9</th>\n",
       "      <td>20500</td>\n",
       "      <td>26</td>\n",
       "      <td>55</td>\n",
       "      <td>29</td>\n",
       "      <td>0.011087</td>\n",
       "      <td>0.472727</td>\n",
       "    </tr>\n",
       "    <tr>\n",
       "      <th>10</th>\n",
       "      <td>4321</td>\n",
       "      <td>24</td>\n",
       "      <td>131</td>\n",
       "      <td>107</td>\n",
       "      <td>0.010235</td>\n",
       "      <td>0.183206</td>\n",
       "    </tr>\n",
       "    <tr>\n",
       "      <th>11</th>\n",
       "      <td>41519</td>\n",
       "      <td>23</td>\n",
       "      <td>146</td>\n",
       "      <td>123</td>\n",
       "      <td>0.009808</td>\n",
       "      <td>0.157534</td>\n",
       "    </tr>\n",
       "    <tr>\n",
       "      <th>12</th>\n",
       "      <td>03842</td>\n",
       "      <td>22</td>\n",
       "      <td>151</td>\n",
       "      <td>129</td>\n",
       "      <td>0.009382</td>\n",
       "      <td>0.145695</td>\n",
       "    </tr>\n",
       "    <tr>\n",
       "      <th>16</th>\n",
       "      <td>42823</td>\n",
       "      <td>21</td>\n",
       "      <td>223</td>\n",
       "      <td>202</td>\n",
       "      <td>0.008955</td>\n",
       "      <td>0.094170</td>\n",
       "    </tr>\n",
       "    <tr>\n",
       "      <th>15</th>\n",
       "      <td>1550</td>\n",
       "      <td>21</td>\n",
       "      <td>68</td>\n",
       "      <td>47</td>\n",
       "      <td>0.008955</td>\n",
       "      <td>0.308824</td>\n",
       "    </tr>\n",
       "    <tr>\n",
       "      <th>14</th>\n",
       "      <td>4275</td>\n",
       "      <td>21</td>\n",
       "      <td>26</td>\n",
       "      <td>5</td>\n",
       "      <td>0.008955</td>\n",
       "      <td>0.807692</td>\n",
       "    </tr>\n",
       "    <tr>\n",
       "      <th>13</th>\n",
       "      <td>5849</td>\n",
       "      <td>21</td>\n",
       "      <td>207</td>\n",
       "      <td>186</td>\n",
       "      <td>0.008955</td>\n",
       "      <td>0.101449</td>\n",
       "    </tr>\n",
       "    <tr>\n",
       "      <th>17</th>\n",
       "      <td>42833</td>\n",
       "      <td>20</td>\n",
       "      <td>199</td>\n",
       "      <td>179</td>\n",
       "      <td>0.008529</td>\n",
       "      <td>0.100503</td>\n",
       "    </tr>\n",
       "    <tr>\n",
       "      <th>18</th>\n",
       "      <td>5789</td>\n",
       "      <td>19</td>\n",
       "      <td>195</td>\n",
       "      <td>176</td>\n",
       "      <td>0.008102</td>\n",
       "      <td>0.097436</td>\n",
       "    </tr>\n",
       "    <tr>\n",
       "      <th>19</th>\n",
       "      <td>5722</td>\n",
       "      <td>18</td>\n",
       "      <td>60</td>\n",
       "      <td>42</td>\n",
       "      <td>0.007676</td>\n",
       "      <td>0.300000</td>\n",
       "    </tr>\n",
       "    <tr>\n",
       "      <th>20</th>\n",
       "      <td>85225</td>\n",
       "      <td>18</td>\n",
       "      <td>18</td>\n",
       "      <td>0</td>\n",
       "      <td>0.007676</td>\n",
       "      <td>1.000000</td>\n",
       "    </tr>\n",
       "    <tr>\n",
       "      <th>21</th>\n",
       "      <td>85221</td>\n",
       "      <td>17</td>\n",
       "      <td>167</td>\n",
       "      <td>150</td>\n",
       "      <td>0.007249</td>\n",
       "      <td>0.101796</td>\n",
       "    </tr>\n",
       "    <tr>\n",
       "      <th>22</th>\n",
       "      <td>5770</td>\n",
       "      <td>17</td>\n",
       "      <td>168</td>\n",
       "      <td>151</td>\n",
       "      <td>0.007249</td>\n",
       "      <td>0.101190</td>\n",
       "    </tr>\n",
       "    <tr>\n",
       "      <th>23</th>\n",
       "      <td>5781</td>\n",
       "      <td>16</td>\n",
       "      <td>96</td>\n",
       "      <td>80</td>\n",
       "      <td>0.006823</td>\n",
       "      <td>0.166667</td>\n",
       "    </tr>\n",
       "    <tr>\n",
       "      <th>24</th>\n",
       "      <td>1983</td>\n",
       "      <td>16</td>\n",
       "      <td>198</td>\n",
       "      <td>182</td>\n",
       "      <td>0.006823</td>\n",
       "      <td>0.080808</td>\n",
       "    </tr>\n",
       "    <tr>\n",
       "      <th>25</th>\n",
       "      <td>4271</td>\n",
       "      <td>15</td>\n",
       "      <td>135</td>\n",
       "      <td>120</td>\n",
       "      <td>0.006397</td>\n",
       "      <td>0.111111</td>\n",
       "    </tr>\n",
       "    <tr>\n",
       "      <th>26</th>\n",
       "      <td>20300</td>\n",
       "      <td>15</td>\n",
       "      <td>32</td>\n",
       "      <td>17</td>\n",
       "      <td>0.006397</td>\n",
       "      <td>0.468750</td>\n",
       "    </tr>\n",
       "    <tr>\n",
       "      <th>27</th>\n",
       "      <td>56723</td>\n",
       "      <td>15</td>\n",
       "      <td>33</td>\n",
       "      <td>18</td>\n",
       "      <td>0.006397</td>\n",
       "      <td>0.454545</td>\n",
       "    </tr>\n",
       "    <tr>\n",
       "      <th>31</th>\n",
       "      <td>03849</td>\n",
       "      <td>14</td>\n",
       "      <td>90</td>\n",
       "      <td>76</td>\n",
       "      <td>0.005970</td>\n",
       "      <td>0.155556</td>\n",
       "    </tr>\n",
       "    <tr>\n",
       "      <th>33</th>\n",
       "      <td>51884</td>\n",
       "      <td>14</td>\n",
       "      <td>90</td>\n",
       "      <td>76</td>\n",
       "      <td>0.005970</td>\n",
       "      <td>0.155556</td>\n",
       "    </tr>\n",
       "  </tbody>\n",
       "</table>\n",
       "</div>"
      ],
      "text/plain": [
       "   ICD9_diagnosis  died  no_diagnosed  survived  %_of_total_dead  \\\n",
       "0            0389   301           986       685         0.128358   \n",
       "1             431   135           444       309         0.057569   \n",
       "2           51881    90           399       309         0.038380   \n",
       "3             430    47           228       181         0.020043   \n",
       "4             486    45           319       274         0.019190   \n",
       "5            5070    38           270       232         0.016205   \n",
       "6           43411    36           172       136         0.015352   \n",
       "7           41071    34           549       515         0.014499   \n",
       "8           43491    27           112        85         0.011514   \n",
       "9           20500    26            55        29         0.011087   \n",
       "10           4321    24           131       107         0.010235   \n",
       "11          41519    23           146       123         0.009808   \n",
       "12          03842    22           151       129         0.009382   \n",
       "16          42823    21           223       202         0.008955   \n",
       "15           1550    21            68        47         0.008955   \n",
       "14           4275    21            26         5         0.008955   \n",
       "13           5849    21           207       186         0.008955   \n",
       "17          42833    20           199       179         0.008529   \n",
       "18           5789    19           195       176         0.008102   \n",
       "19           5722    18            60        42         0.007676   \n",
       "20          85225    18            18         0         0.007676   \n",
       "21          85221    17           167       150         0.007249   \n",
       "22           5770    17           168       151         0.007249   \n",
       "23           5781    16            96        80         0.006823   \n",
       "24           1983    16           198       182         0.006823   \n",
       "25           4271    15           135       120         0.006397   \n",
       "26          20300    15            32        17         0.006397   \n",
       "27          56723    15            33        18         0.006397   \n",
       "31          03849    14            90        76         0.005970   \n",
       "33          51884    14            90        76         0.005970   \n",
       "\n",
       "    %_of_diagnosed_dead  \n",
       "0              0.305274  \n",
       "1              0.304054  \n",
       "2              0.225564  \n",
       "3              0.206140  \n",
       "4              0.141066  \n",
       "5              0.140741  \n",
       "6              0.209302  \n",
       "7              0.061931  \n",
       "8              0.241071  \n",
       "9              0.472727  \n",
       "10             0.183206  \n",
       "11             0.157534  \n",
       "12             0.145695  \n",
       "16             0.094170  \n",
       "15             0.308824  \n",
       "14             0.807692  \n",
       "13             0.101449  \n",
       "17             0.100503  \n",
       "18             0.097436  \n",
       "19             0.300000  \n",
       "20             1.000000  \n",
       "21             0.101796  \n",
       "22             0.101190  \n",
       "23             0.166667  \n",
       "24             0.080808  \n",
       "25             0.111111  \n",
       "26             0.468750  \n",
       "27             0.454545  \n",
       "31             0.155556  \n",
       "33             0.155556  "
      ]
     },
     "execution_count": 50,
     "metadata": {},
     "output_type": "execute_result"
    }
   ],
   "source": [
    "by_diagnosis.sort_values(by = '%_of_total_dead', ascending = False).head(30)"
   ]
  },
  {
   "cell_type": "code",
   "execution_count": 58,
   "id": "95683522",
   "metadata": {},
   "outputs": [
    {
     "data": {
      "text/html": [
       "<div>\n",
       "<style scoped>\n",
       "    .dataframe tbody tr th:only-of-type {\n",
       "        vertical-align: middle;\n",
       "    }\n",
       "\n",
       "    .dataframe tbody tr th {\n",
       "        vertical-align: top;\n",
       "    }\n",
       "\n",
       "    .dataframe thead th {\n",
       "        text-align: right;\n",
       "    }\n",
       "</style>\n",
       "<table border=\"1\" class=\"dataframe\">\n",
       "  <thead>\n",
       "    <tr style=\"text-align: right;\">\n",
       "      <th></th>\n",
       "      <th>ICD9_diagnosis</th>\n",
       "      <th>died</th>\n",
       "      <th>no_diagnosed</th>\n",
       "      <th>survived</th>\n",
       "      <th>%_of_total_dead</th>\n",
       "      <th>%_of_diagnosed_dead</th>\n",
       "    </tr>\n",
       "  </thead>\n",
       "  <tbody>\n",
       "    <tr>\n",
       "      <th>331</th>\n",
       "      <td>5078</td>\n",
       "      <td>1</td>\n",
       "      <td>1</td>\n",
       "      <td>0</td>\n",
       "      <td>0.000426</td>\n",
       "      <td>1.000000</td>\n",
       "    </tr>\n",
       "    <tr>\n",
       "      <th>394</th>\n",
       "      <td>1598</td>\n",
       "      <td>1</td>\n",
       "      <td>1</td>\n",
       "      <td>0</td>\n",
       "      <td>0.000426</td>\n",
       "      <td>1.000000</td>\n",
       "    </tr>\n",
       "    <tr>\n",
       "      <th>154</th>\n",
       "      <td>80025</td>\n",
       "      <td>3</td>\n",
       "      <td>3</td>\n",
       "      <td>0</td>\n",
       "      <td>0.001279</td>\n",
       "      <td>1.000000</td>\n",
       "    </tr>\n",
       "    <tr>\n",
       "      <th>410</th>\n",
       "      <td>1943</td>\n",
       "      <td>1</td>\n",
       "      <td>1</td>\n",
       "      <td>0</td>\n",
       "      <td>0.000426</td>\n",
       "      <td>1.000000</td>\n",
       "    </tr>\n",
       "    <tr>\n",
       "      <th>355</th>\n",
       "      <td>05479</td>\n",
       "      <td>1</td>\n",
       "      <td>1</td>\n",
       "      <td>0</td>\n",
       "      <td>0.000426</td>\n",
       "      <td>1.000000</td>\n",
       "    </tr>\n",
       "    <tr>\n",
       "      <th>...</th>\n",
       "      <td>...</td>\n",
       "      <td>...</td>\n",
       "      <td>...</td>\n",
       "      <td>...</td>\n",
       "      <td>...</td>\n",
       "      <td>...</td>\n",
       "    </tr>\n",
       "    <tr>\n",
       "      <th>56</th>\n",
       "      <td>4241</td>\n",
       "      <td>9</td>\n",
       "      <td>534</td>\n",
       "      <td>525</td>\n",
       "      <td>0.003838</td>\n",
       "      <td>0.016854</td>\n",
       "    </tr>\n",
       "    <tr>\n",
       "      <th>348</th>\n",
       "      <td>51919</td>\n",
       "      <td>1</td>\n",
       "      <td>92</td>\n",
       "      <td>91</td>\n",
       "      <td>0.000426</td>\n",
       "      <td>0.010870</td>\n",
       "    </tr>\n",
       "    <tr>\n",
       "      <th>48</th>\n",
       "      <td>41401</td>\n",
       "      <td>10</td>\n",
       "      <td>1098</td>\n",
       "      <td>1088</td>\n",
       "      <td>0.004264</td>\n",
       "      <td>0.009107</td>\n",
       "    </tr>\n",
       "    <tr>\n",
       "      <th>367</th>\n",
       "      <td>56212</td>\n",
       "      <td>1</td>\n",
       "      <td>127</td>\n",
       "      <td>126</td>\n",
       "      <td>0.000426</td>\n",
       "      <td>0.007874</td>\n",
       "    </tr>\n",
       "    <tr>\n",
       "      <th>439</th>\n",
       "      <td>25013</td>\n",
       "      <td>1</td>\n",
       "      <td>168</td>\n",
       "      <td>167</td>\n",
       "      <td>0.000426</td>\n",
       "      <td>0.005952</td>\n",
       "    </tr>\n",
       "  </tbody>\n",
       "</table>\n",
       "<p>471 rows × 6 columns</p>\n",
       "</div>"
      ],
      "text/plain": [
       "    ICD9_diagnosis  died  no_diagnosed  survived  %_of_total_dead  \\\n",
       "331           5078     1             1         0         0.000426   \n",
       "394           1598     1             1         0         0.000426   \n",
       "154          80025     3             3         0         0.001279   \n",
       "410           1943     1             1         0         0.000426   \n",
       "355          05479     1             1         0         0.000426   \n",
       "..             ...   ...           ...       ...              ...   \n",
       "56            4241     9           534       525         0.003838   \n",
       "348          51919     1            92        91         0.000426   \n",
       "48           41401    10          1098      1088         0.004264   \n",
       "367          56212     1           127       126         0.000426   \n",
       "439          25013     1           168       167         0.000426   \n",
       "\n",
       "     %_of_diagnosed_dead  \n",
       "331             1.000000  \n",
       "394             1.000000  \n",
       "154             1.000000  \n",
       "410             1.000000  \n",
       "355             1.000000  \n",
       "..                   ...  \n",
       "56              0.016854  \n",
       "348             0.010870  \n",
       "48              0.009107  \n",
       "367             0.007874  \n",
       "439             0.005952  \n",
       "\n",
       "[471 rows x 6 columns]"
      ]
     },
     "execution_count": 58,
     "metadata": {},
     "output_type": "execute_result"
    }
   ],
   "source": [
    "by_diagnosis[by_diagnosis['died']>0].sort_values(by = '%_of_diagnosed_dead', ascending = False)"
   ]
  },
  {
   "cell_type": "code",
   "execution_count": 48,
   "id": "273113a3",
   "metadata": {},
   "outputs": [],
   "source": [
    "deadly_diagnosis = list(by_diagnosis[by_diagnosis['%_of_total_dead']>0]['ICD9_diagnosis'].unique())"
   ]
  },
  {
   "cell_type": "code",
   "execution_count": null,
   "id": "f390962e",
   "metadata": {},
   "outputs": [],
   "source": [
    "len(deadly_diagnosis)"
   ]
  },
  {
   "cell_type": "code",
   "execution_count": null,
   "id": "92b1e46b",
   "metadata": {},
   "outputs": [],
   "source": [
    "train_data[train_data['ICD9_diagnosis'].isin(deadly_diagnosis)]"
   ]
  },
  {
   "cell_type": "code",
   "execution_count": null,
   "id": "6f24d384",
   "metadata": {},
   "outputs": [],
   "source": [
    "len(by_diagnosis)"
   ]
  },
  {
   "cell_type": "markdown",
   "id": "ad21217e",
   "metadata": {},
   "source": [
    "## KNN"
   ]
  },
  {
   "cell_type": "code",
   "execution_count": 40,
   "id": "292576ba",
   "metadata": {},
   "outputs": [],
   "source": [
    "numerical_features\n",
    "numerical_transformer = Pipeline(\n",
    "    steps=[(\"imputer\", IterativeImputer(random_state=0, missing_values = np.nan, initial_strategy = 'mean', max_iter=30,imputation_order = 'ascending', add_indicator=True)), (\"scaler\", StandardScaler())]\n",
    ")\n",
    "\n",
    "#(SimpleImputer(missing_values = np.nan, strategy = 'mean', add_indicator=True)\n",
    "categorical_features\n",
    "categorical_transformer = OneHotEncoder(drop='if_binary',handle_unknown=\"ignore\")\n",
    "#set handle_unknown to ignore, since if it encounters an unseen categorical type in the test set, it will automatically create a column of 0s \n",
    "\n",
    "preprocessor = ColumnTransformer(\n",
    "    transformers=[\n",
    "        (\"num\", numerical_transformer, numerical_features),\n",
    "        (\"cat\", categorical_transformer, categorical_features),\n",
    "    ]\n",
    ")\n",
    "\n",
    "knn_estimator = KNeighborsClassifier(algorithm='auto', weights='distance') \n",
    "\n",
    "# Append classifier to preprocessing pipeline.\n",
    "# Now we have a full prediction pipeline.\n",
    "knn_pipeline = imbPipeline([(\"preprocessor\", preprocessor), ('sampling', SMOTE()), (\"classifier\", knn_estimator)]\n",
    ")\n",
    "\n",
    "grid_values = [{'classifier__n_neighbors':[1,5,10,50,100,200,500],\n",
    "               #'classifier__weights':['uniform', 'distance'], \n",
    "                'classifier__p':[1, 2]}] #distance consistently outperforms uniform so commented out\n",
    "grid_knn = HalvingGridSearchCV(knn_pipeline, param_grid = grid_values, scoring = 'roc_auc', cv = 5, verbose = 3) #used to narrow down range for full GridSearch. First run used \n"
   ]
  },
  {
   "cell_type": "code",
   "execution_count": null,
   "id": "3cb21f53",
   "metadata": {},
   "outputs": [
    {
     "name": "stderr",
     "output_type": "stream",
     "text": [
      "/Users/benseimon/opt/miniconda3/lib/python3.9/site-packages/sklearn/utils/validation.py:985: DataConversionWarning: A column-vector y was passed when a 1d array was expected. Please change the shape of y to (n_samples, ), for example using ravel().\n",
      "  y = column_or_1d(y, warn=True)\n"
     ]
    },
    {
     "name": "stdout",
     "output_type": "stream",
     "text": [
      "n_iterations: 3\n",
      "n_required_iterations: 3\n",
      "n_possible_iterations: 3\n",
      "min_resources_: 2320\n",
      "max_resources_: 20885\n",
      "aggressive_elimination: False\n",
      "factor: 3\n",
      "----------\n",
      "iter: 0\n",
      "n_candidates: 14\n",
      "n_resources: 2320\n",
      "Fitting 5 folds for each of 14 candidates, totalling 70 fits\n"
     ]
    },
    {
     "name": "stderr",
     "output_type": "stream",
     "text": [
      "/Users/benseimon/opt/miniconda3/lib/python3.9/site-packages/sklearn/neighbors/_classification.py:198: DataConversionWarning: A column-vector y was passed when a 1d array was expected. Please change the shape of y to (n_samples,), for example using ravel().\n",
      "  return self._fit(X, y)\n"
     ]
    },
    {
     "name": "stdout",
     "output_type": "stream",
     "text": [
      "[CV 1/5] END classifier__n_neighbors=1, classifier__p=1;, score=(train=1.000, test=0.611) total time=   4.3s\n"
     ]
    },
    {
     "name": "stderr",
     "output_type": "stream",
     "text": [
      "/Users/benseimon/opt/miniconda3/lib/python3.9/site-packages/sklearn/impute/_iterative.py:699: ConvergenceWarning: [IterativeImputer] Early stopping criterion not reached.\n",
      "  warnings.warn(\n",
      "/Users/benseimon/opt/miniconda3/lib/python3.9/site-packages/sklearn/neighbors/_classification.py:198: DataConversionWarning: A column-vector y was passed when a 1d array was expected. Please change the shape of y to (n_samples,), for example using ravel().\n",
      "  return self._fit(X, y)\n",
      "/Users/benseimon/opt/miniconda3/lib/python3.9/site-packages/sklearn/preprocessing/_encoders.py:170: UserWarning: Found unknown categories in columns [4] during transform. These unknown categories will be encoded as all zeros\n",
      "  warnings.warn(\n"
     ]
    },
    {
     "name": "stdout",
     "output_type": "stream",
     "text": [
      "[CV 2/5] END classifier__n_neighbors=1, classifier__p=1;, score=(train=1.000, test=0.566) total time=   5.0s\n"
     ]
    },
    {
     "name": "stderr",
     "output_type": "stream",
     "text": [
      "/Users/benseimon/opt/miniconda3/lib/python3.9/site-packages/sklearn/neighbors/_classification.py:198: DataConversionWarning: A column-vector y was passed when a 1d array was expected. Please change the shape of y to (n_samples,), for example using ravel().\n",
      "  return self._fit(X, y)\n"
     ]
    },
    {
     "name": "stdout",
     "output_type": "stream",
     "text": [
      "[CV 3/5] END classifier__n_neighbors=1, classifier__p=1;, score=(train=1.000, test=0.547) total time=   3.9s\n"
     ]
    },
    {
     "name": "stderr",
     "output_type": "stream",
     "text": [
      "/Users/benseimon/opt/miniconda3/lib/python3.9/site-packages/sklearn/impute/_iterative.py:699: ConvergenceWarning: [IterativeImputer] Early stopping criterion not reached.\n",
      "  warnings.warn(\n",
      "/Users/benseimon/opt/miniconda3/lib/python3.9/site-packages/sklearn/neighbors/_classification.py:198: DataConversionWarning: A column-vector y was passed when a 1d array was expected. Please change the shape of y to (n_samples,), for example using ravel().\n",
      "  return self._fit(X, y)\n"
     ]
    },
    {
     "name": "stdout",
     "output_type": "stream",
     "text": [
      "[CV 4/5] END classifier__n_neighbors=1, classifier__p=1;, score=(train=1.000, test=0.580) total time=   5.2s\n"
     ]
    },
    {
     "name": "stderr",
     "output_type": "stream",
     "text": [
      "/Users/benseimon/opt/miniconda3/lib/python3.9/site-packages/sklearn/neighbors/_classification.py:198: DataConversionWarning: A column-vector y was passed when a 1d array was expected. Please change the shape of y to (n_samples,), for example using ravel().\n",
      "  return self._fit(X, y)\n"
     ]
    },
    {
     "name": "stdout",
     "output_type": "stream",
     "text": [
      "[CV 5/5] END classifier__n_neighbors=1, classifier__p=1;, score=(train=1.000, test=0.596) total time=   3.9s\n"
     ]
    },
    {
     "name": "stderr",
     "output_type": "stream",
     "text": [
      "/Users/benseimon/opt/miniconda3/lib/python3.9/site-packages/sklearn/neighbors/_classification.py:198: DataConversionWarning: A column-vector y was passed when a 1d array was expected. Please change the shape of y to (n_samples,), for example using ravel().\n",
      "  return self._fit(X, y)\n"
     ]
    },
    {
     "name": "stdout",
     "output_type": "stream",
     "text": [
      "[CV 1/5] END classifier__n_neighbors=1, classifier__p=2;, score=(train=1.000, test=0.595) total time=   4.2s\n"
     ]
    },
    {
     "name": "stderr",
     "output_type": "stream",
     "text": [
      "/Users/benseimon/opt/miniconda3/lib/python3.9/site-packages/sklearn/impute/_iterative.py:699: ConvergenceWarning: [IterativeImputer] Early stopping criterion not reached.\n",
      "  warnings.warn(\n",
      "/Users/benseimon/opt/miniconda3/lib/python3.9/site-packages/sklearn/neighbors/_classification.py:198: DataConversionWarning: A column-vector y was passed when a 1d array was expected. Please change the shape of y to (n_samples,), for example using ravel().\n",
      "  return self._fit(X, y)\n",
      "/Users/benseimon/opt/miniconda3/lib/python3.9/site-packages/sklearn/preprocessing/_encoders.py:170: UserWarning: Found unknown categories in columns [4] during transform. These unknown categories will be encoded as all zeros\n",
      "  warnings.warn(\n"
     ]
    },
    {
     "name": "stdout",
     "output_type": "stream",
     "text": [
      "[CV 2/5] END classifier__n_neighbors=1, classifier__p=2;, score=(train=1.000, test=0.593) total time=   4.7s\n"
     ]
    },
    {
     "name": "stderr",
     "output_type": "stream",
     "text": [
      "/Users/benseimon/opt/miniconda3/lib/python3.9/site-packages/sklearn/neighbors/_classification.py:198: DataConversionWarning: A column-vector y was passed when a 1d array was expected. Please change the shape of y to (n_samples,), for example using ravel().\n",
      "  return self._fit(X, y)\n"
     ]
    },
    {
     "name": "stdout",
     "output_type": "stream",
     "text": [
      "[CV 3/5] END classifier__n_neighbors=1, classifier__p=2;, score=(train=1.000, test=0.581) total time=   3.2s\n"
     ]
    },
    {
     "name": "stderr",
     "output_type": "stream",
     "text": [
      "/Users/benseimon/opt/miniconda3/lib/python3.9/site-packages/sklearn/impute/_iterative.py:699: ConvergenceWarning: [IterativeImputer] Early stopping criterion not reached.\n",
      "  warnings.warn(\n",
      "/Users/benseimon/opt/miniconda3/lib/python3.9/site-packages/sklearn/neighbors/_classification.py:198: DataConversionWarning: A column-vector y was passed when a 1d array was expected. Please change the shape of y to (n_samples,), for example using ravel().\n",
      "  return self._fit(X, y)\n"
     ]
    },
    {
     "name": "stdout",
     "output_type": "stream",
     "text": [
      "[CV 4/5] END classifier__n_neighbors=1, classifier__p=2;, score=(train=1.000, test=0.583) total time=   4.9s\n"
     ]
    },
    {
     "name": "stderr",
     "output_type": "stream",
     "text": [
      "/Users/benseimon/opt/miniconda3/lib/python3.9/site-packages/sklearn/neighbors/_classification.py:198: DataConversionWarning: A column-vector y was passed when a 1d array was expected. Please change the shape of y to (n_samples,), for example using ravel().\n",
      "  return self._fit(X, y)\n"
     ]
    },
    {
     "name": "stdout",
     "output_type": "stream",
     "text": [
      "[CV 5/5] END classifier__n_neighbors=1, classifier__p=2;, score=(train=1.000, test=0.638) total time=   3.9s\n"
     ]
    },
    {
     "name": "stderr",
     "output_type": "stream",
     "text": [
      "/Users/benseimon/opt/miniconda3/lib/python3.9/site-packages/sklearn/neighbors/_classification.py:198: DataConversionWarning: A column-vector y was passed when a 1d array was expected. Please change the shape of y to (n_samples,), for example using ravel().\n",
      "  return self._fit(X, y)\n"
     ]
    },
    {
     "name": "stdout",
     "output_type": "stream",
     "text": [
      "[CV 1/5] END classifier__n_neighbors=5, classifier__p=1;, score=(train=1.000, test=0.656) total time=   4.2s\n"
     ]
    },
    {
     "name": "stderr",
     "output_type": "stream",
     "text": [
      "/Users/benseimon/opt/miniconda3/lib/python3.9/site-packages/sklearn/impute/_iterative.py:699: ConvergenceWarning: [IterativeImputer] Early stopping criterion not reached.\n",
      "  warnings.warn(\n",
      "/Users/benseimon/opt/miniconda3/lib/python3.9/site-packages/sklearn/neighbors/_classification.py:198: DataConversionWarning: A column-vector y was passed when a 1d array was expected. Please change the shape of y to (n_samples,), for example using ravel().\n",
      "  return self._fit(X, y)\n",
      "/Users/benseimon/opt/miniconda3/lib/python3.9/site-packages/sklearn/preprocessing/_encoders.py:170: UserWarning: Found unknown categories in columns [4] during transform. These unknown categories will be encoded as all zeros\n",
      "  warnings.warn(\n"
     ]
    },
    {
     "name": "stdout",
     "output_type": "stream",
     "text": [
      "[CV 2/5] END classifier__n_neighbors=5, classifier__p=1;, score=(train=1.000, test=0.600) total time=   5.0s\n"
     ]
    },
    {
     "name": "stderr",
     "output_type": "stream",
     "text": [
      "/Users/benseimon/opt/miniconda3/lib/python3.9/site-packages/sklearn/neighbors/_classification.py:198: DataConversionWarning: A column-vector y was passed when a 1d array was expected. Please change the shape of y to (n_samples,), for example using ravel().\n",
      "  return self._fit(X, y)\n"
     ]
    },
    {
     "name": "stdout",
     "output_type": "stream",
     "text": [
      "[CV 3/5] END classifier__n_neighbors=5, classifier__p=1;, score=(train=1.000, test=0.648) total time=   3.3s\n"
     ]
    },
    {
     "name": "stderr",
     "output_type": "stream",
     "text": [
      "/Users/benseimon/opt/miniconda3/lib/python3.9/site-packages/sklearn/impute/_iterative.py:699: ConvergenceWarning: [IterativeImputer] Early stopping criterion not reached.\n",
      "  warnings.warn(\n",
      "/Users/benseimon/opt/miniconda3/lib/python3.9/site-packages/sklearn/neighbors/_classification.py:198: DataConversionWarning: A column-vector y was passed when a 1d array was expected. Please change the shape of y to (n_samples,), for example using ravel().\n",
      "  return self._fit(X, y)\n"
     ]
    },
    {
     "name": "stdout",
     "output_type": "stream",
     "text": [
      "[CV 4/5] END classifier__n_neighbors=5, classifier__p=1;, score=(train=1.000, test=0.668) total time=   5.2s\n"
     ]
    },
    {
     "name": "stderr",
     "output_type": "stream",
     "text": [
      "/Users/benseimon/opt/miniconda3/lib/python3.9/site-packages/sklearn/neighbors/_classification.py:198: DataConversionWarning: A column-vector y was passed when a 1d array was expected. Please change the shape of y to (n_samples,), for example using ravel().\n",
      "  return self._fit(X, y)\n"
     ]
    },
    {
     "name": "stdout",
     "output_type": "stream",
     "text": [
      "[CV 5/5] END classifier__n_neighbors=5, classifier__p=1;, score=(train=1.000, test=0.728) total time=   4.2s\n"
     ]
    },
    {
     "name": "stderr",
     "output_type": "stream",
     "text": [
      "/Users/benseimon/opt/miniconda3/lib/python3.9/site-packages/sklearn/neighbors/_classification.py:198: DataConversionWarning: A column-vector y was passed when a 1d array was expected. Please change the shape of y to (n_samples,), for example using ravel().\n",
      "  return self._fit(X, y)\n"
     ]
    },
    {
     "name": "stdout",
     "output_type": "stream",
     "text": [
      "[CV 1/5] END classifier__n_neighbors=5, classifier__p=2;, score=(train=1.000, test=0.662) total time=   4.1s\n"
     ]
    },
    {
     "name": "stderr",
     "output_type": "stream",
     "text": [
      "/Users/benseimon/opt/miniconda3/lib/python3.9/site-packages/sklearn/impute/_iterative.py:699: ConvergenceWarning: [IterativeImputer] Early stopping criterion not reached.\n",
      "  warnings.warn(\n",
      "/Users/benseimon/opt/miniconda3/lib/python3.9/site-packages/sklearn/neighbors/_classification.py:198: DataConversionWarning: A column-vector y was passed when a 1d array was expected. Please change the shape of y to (n_samples,), for example using ravel().\n",
      "  return self._fit(X, y)\n",
      "/Users/benseimon/opt/miniconda3/lib/python3.9/site-packages/sklearn/preprocessing/_encoders.py:170: UserWarning: Found unknown categories in columns [4] during transform. These unknown categories will be encoded as all zeros\n",
      "  warnings.warn(\n"
     ]
    },
    {
     "name": "stdout",
     "output_type": "stream",
     "text": [
      "[CV 2/5] END classifier__n_neighbors=5, classifier__p=2;, score=(train=1.000, test=0.612) total time=   5.0s\n"
     ]
    },
    {
     "name": "stderr",
     "output_type": "stream",
     "text": [
      "/Users/benseimon/opt/miniconda3/lib/python3.9/site-packages/sklearn/neighbors/_classification.py:198: DataConversionWarning: A column-vector y was passed when a 1d array was expected. Please change the shape of y to (n_samples,), for example using ravel().\n",
      "  return self._fit(X, y)\n"
     ]
    },
    {
     "name": "stdout",
     "output_type": "stream",
     "text": [
      "[CV 3/5] END classifier__n_neighbors=5, classifier__p=2;, score=(train=1.000, test=0.657) total time=   3.3s\n"
     ]
    },
    {
     "name": "stderr",
     "output_type": "stream",
     "text": [
      "/Users/benseimon/opt/miniconda3/lib/python3.9/site-packages/sklearn/impute/_iterative.py:699: ConvergenceWarning: [IterativeImputer] Early stopping criterion not reached.\n",
      "  warnings.warn(\n",
      "/Users/benseimon/opt/miniconda3/lib/python3.9/site-packages/sklearn/neighbors/_classification.py:198: DataConversionWarning: A column-vector y was passed when a 1d array was expected. Please change the shape of y to (n_samples,), for example using ravel().\n",
      "  return self._fit(X, y)\n"
     ]
    },
    {
     "name": "stdout",
     "output_type": "stream",
     "text": [
      "[CV 4/5] END classifier__n_neighbors=5, classifier__p=2;, score=(train=1.000, test=0.660) total time=   4.9s\n"
     ]
    },
    {
     "name": "stderr",
     "output_type": "stream",
     "text": [
      "/Users/benseimon/opt/miniconda3/lib/python3.9/site-packages/sklearn/neighbors/_classification.py:198: DataConversionWarning: A column-vector y was passed when a 1d array was expected. Please change the shape of y to (n_samples,), for example using ravel().\n",
      "  return self._fit(X, y)\n"
     ]
    },
    {
     "name": "stdout",
     "output_type": "stream",
     "text": [
      "[CV 5/5] END classifier__n_neighbors=5, classifier__p=2;, score=(train=1.000, test=0.709) total time=   4.0s\n"
     ]
    },
    {
     "name": "stderr",
     "output_type": "stream",
     "text": [
      "/Users/benseimon/opt/miniconda3/lib/python3.9/site-packages/sklearn/neighbors/_classification.py:198: DataConversionWarning: A column-vector y was passed when a 1d array was expected. Please change the shape of y to (n_samples,), for example using ravel().\n",
      "  return self._fit(X, y)\n"
     ]
    },
    {
     "name": "stdout",
     "output_type": "stream",
     "text": [
      "[CV 1/5] END classifier__n_neighbors=10, classifier__p=1;, score=(train=1.000, test=0.682) total time=   4.2s\n"
     ]
    },
    {
     "name": "stderr",
     "output_type": "stream",
     "text": [
      "/Users/benseimon/opt/miniconda3/lib/python3.9/site-packages/sklearn/impute/_iterative.py:699: ConvergenceWarning: [IterativeImputer] Early stopping criterion not reached.\n",
      "  warnings.warn(\n",
      "/Users/benseimon/opt/miniconda3/lib/python3.9/site-packages/sklearn/neighbors/_classification.py:198: DataConversionWarning: A column-vector y was passed when a 1d array was expected. Please change the shape of y to (n_samples,), for example using ravel().\n",
      "  return self._fit(X, y)\n",
      "/Users/benseimon/opt/miniconda3/lib/python3.9/site-packages/sklearn/preprocessing/_encoders.py:170: UserWarning: Found unknown categories in columns [4] during transform. These unknown categories will be encoded as all zeros\n",
      "  warnings.warn(\n"
     ]
    },
    {
     "name": "stdout",
     "output_type": "stream",
     "text": [
      "[CV 2/5] END classifier__n_neighbors=10, classifier__p=1;, score=(train=1.000, test=0.625) total time=   5.3s\n"
     ]
    },
    {
     "name": "stderr",
     "output_type": "stream",
     "text": [
      "/Users/benseimon/opt/miniconda3/lib/python3.9/site-packages/sklearn/neighbors/_classification.py:198: DataConversionWarning: A column-vector y was passed when a 1d array was expected. Please change the shape of y to (n_samples,), for example using ravel().\n",
      "  return self._fit(X, y)\n"
     ]
    },
    {
     "name": "stdout",
     "output_type": "stream",
     "text": [
      "[CV 3/5] END classifier__n_neighbors=10, classifier__p=1;, score=(train=1.000, test=0.688) total time=   3.3s\n"
     ]
    },
    {
     "name": "stderr",
     "output_type": "stream",
     "text": [
      "/Users/benseimon/opt/miniconda3/lib/python3.9/site-packages/sklearn/impute/_iterative.py:699: ConvergenceWarning: [IterativeImputer] Early stopping criterion not reached.\n",
      "  warnings.warn(\n",
      "/Users/benseimon/opt/miniconda3/lib/python3.9/site-packages/sklearn/neighbors/_classification.py:198: DataConversionWarning: A column-vector y was passed when a 1d array was expected. Please change the shape of y to (n_samples,), for example using ravel().\n",
      "  return self._fit(X, y)\n"
     ]
    },
    {
     "name": "stdout",
     "output_type": "stream",
     "text": [
      "[CV 4/5] END classifier__n_neighbors=10, classifier__p=1;, score=(train=1.000, test=0.704) total time=   5.2s\n"
     ]
    },
    {
     "name": "stderr",
     "output_type": "stream",
     "text": [
      "/Users/benseimon/opt/miniconda3/lib/python3.9/site-packages/sklearn/neighbors/_classification.py:198: DataConversionWarning: A column-vector y was passed when a 1d array was expected. Please change the shape of y to (n_samples,), for example using ravel().\n",
      "  return self._fit(X, y)\n"
     ]
    },
    {
     "name": "stdout",
     "output_type": "stream",
     "text": [
      "[CV 5/5] END classifier__n_neighbors=10, classifier__p=1;, score=(train=1.000, test=0.720) total time=   4.0s\n"
     ]
    },
    {
     "name": "stderr",
     "output_type": "stream",
     "text": [
      "/Users/benseimon/opt/miniconda3/lib/python3.9/site-packages/sklearn/neighbors/_classification.py:198: DataConversionWarning: A column-vector y was passed when a 1d array was expected. Please change the shape of y to (n_samples,), for example using ravel().\n",
      "  return self._fit(X, y)\n"
     ]
    },
    {
     "name": "stdout",
     "output_type": "stream",
     "text": [
      "[CV 1/5] END classifier__n_neighbors=10, classifier__p=2;, score=(train=1.000, test=0.682) total time=   4.3s\n"
     ]
    },
    {
     "name": "stderr",
     "output_type": "stream",
     "text": [
      "/Users/benseimon/opt/miniconda3/lib/python3.9/site-packages/sklearn/impute/_iterative.py:699: ConvergenceWarning: [IterativeImputer] Early stopping criterion not reached.\n",
      "  warnings.warn(\n",
      "/Users/benseimon/opt/miniconda3/lib/python3.9/site-packages/sklearn/neighbors/_classification.py:198: DataConversionWarning: A column-vector y was passed when a 1d array was expected. Please change the shape of y to (n_samples,), for example using ravel().\n",
      "  return self._fit(X, y)\n",
      "/Users/benseimon/opt/miniconda3/lib/python3.9/site-packages/sklearn/preprocessing/_encoders.py:170: UserWarning: Found unknown categories in columns [4] during transform. These unknown categories will be encoded as all zeros\n",
      "  warnings.warn(\n"
     ]
    },
    {
     "name": "stdout",
     "output_type": "stream",
     "text": [
      "[CV 2/5] END classifier__n_neighbors=10, classifier__p=2;, score=(train=1.000, test=0.632) total time=   4.9s\n"
     ]
    },
    {
     "name": "stderr",
     "output_type": "stream",
     "text": [
      "/Users/benseimon/opt/miniconda3/lib/python3.9/site-packages/sklearn/neighbors/_classification.py:198: DataConversionWarning: A column-vector y was passed when a 1d array was expected. Please change the shape of y to (n_samples,), for example using ravel().\n",
      "  return self._fit(X, y)\n"
     ]
    },
    {
     "name": "stdout",
     "output_type": "stream",
     "text": [
      "[CV 3/5] END classifier__n_neighbors=10, classifier__p=2;, score=(train=1.000, test=0.662) total time=   3.2s\n"
     ]
    },
    {
     "name": "stderr",
     "output_type": "stream",
     "text": [
      "/Users/benseimon/opt/miniconda3/lib/python3.9/site-packages/sklearn/impute/_iterative.py:699: ConvergenceWarning: [IterativeImputer] Early stopping criterion not reached.\n",
      "  warnings.warn(\n",
      "/Users/benseimon/opt/miniconda3/lib/python3.9/site-packages/sklearn/neighbors/_classification.py:198: DataConversionWarning: A column-vector y was passed when a 1d array was expected. Please change the shape of y to (n_samples,), for example using ravel().\n",
      "  return self._fit(X, y)\n"
     ]
    },
    {
     "name": "stdout",
     "output_type": "stream",
     "text": [
      "[CV 4/5] END classifier__n_neighbors=10, classifier__p=2;, score=(train=1.000, test=0.690) total time=   4.8s\n"
     ]
    },
    {
     "name": "stderr",
     "output_type": "stream",
     "text": [
      "/Users/benseimon/opt/miniconda3/lib/python3.9/site-packages/sklearn/neighbors/_classification.py:198: DataConversionWarning: A column-vector y was passed when a 1d array was expected. Please change the shape of y to (n_samples,), for example using ravel().\n",
      "  return self._fit(X, y)\n"
     ]
    },
    {
     "name": "stdout",
     "output_type": "stream",
     "text": [
      "[CV 5/5] END classifier__n_neighbors=10, classifier__p=2;, score=(train=1.000, test=0.726) total time=   4.0s\n"
     ]
    },
    {
     "name": "stderr",
     "output_type": "stream",
     "text": [
      "/Users/benseimon/opt/miniconda3/lib/python3.9/site-packages/sklearn/neighbors/_classification.py:198: DataConversionWarning: A column-vector y was passed when a 1d array was expected. Please change the shape of y to (n_samples,), for example using ravel().\n",
      "  return self._fit(X, y)\n"
     ]
    },
    {
     "name": "stdout",
     "output_type": "stream",
     "text": [
      "[CV 1/5] END classifier__n_neighbors=50, classifier__p=1;, score=(train=1.000, test=0.727) total time=   4.4s\n"
     ]
    },
    {
     "name": "stderr",
     "output_type": "stream",
     "text": [
      "/Users/benseimon/opt/miniconda3/lib/python3.9/site-packages/sklearn/impute/_iterative.py:699: ConvergenceWarning: [IterativeImputer] Early stopping criterion not reached.\n",
      "  warnings.warn(\n",
      "/Users/benseimon/opt/miniconda3/lib/python3.9/site-packages/sklearn/neighbors/_classification.py:198: DataConversionWarning: A column-vector y was passed when a 1d array was expected. Please change the shape of y to (n_samples,), for example using ravel().\n",
      "  return self._fit(X, y)\n",
      "/Users/benseimon/opt/miniconda3/lib/python3.9/site-packages/sklearn/preprocessing/_encoders.py:170: UserWarning: Found unknown categories in columns [4] during transform. These unknown categories will be encoded as all zeros\n",
      "  warnings.warn(\n"
     ]
    },
    {
     "name": "stdout",
     "output_type": "stream",
     "text": [
      "[CV 2/5] END classifier__n_neighbors=50, classifier__p=1;, score=(train=1.000, test=0.682) total time=   5.0s\n"
     ]
    },
    {
     "name": "stderr",
     "output_type": "stream",
     "text": [
      "/Users/benseimon/opt/miniconda3/lib/python3.9/site-packages/sklearn/neighbors/_classification.py:198: DataConversionWarning: A column-vector y was passed when a 1d array was expected. Please change the shape of y to (n_samples,), for example using ravel().\n",
      "  return self._fit(X, y)\n"
     ]
    },
    {
     "name": "stdout",
     "output_type": "stream",
     "text": [
      "[CV 3/5] END classifier__n_neighbors=50, classifier__p=1;, score=(train=1.000, test=0.710) total time=   3.4s\n"
     ]
    },
    {
     "name": "stderr",
     "output_type": "stream",
     "text": [
      "/Users/benseimon/opt/miniconda3/lib/python3.9/site-packages/sklearn/impute/_iterative.py:699: ConvergenceWarning: [IterativeImputer] Early stopping criterion not reached.\n",
      "  warnings.warn(\n",
      "/Users/benseimon/opt/miniconda3/lib/python3.9/site-packages/sklearn/neighbors/_classification.py:198: DataConversionWarning: A column-vector y was passed when a 1d array was expected. Please change the shape of y to (n_samples,), for example using ravel().\n",
      "  return self._fit(X, y)\n"
     ]
    },
    {
     "name": "stdout",
     "output_type": "stream",
     "text": [
      "[CV 4/5] END classifier__n_neighbors=50, classifier__p=1;, score=(train=1.000, test=0.756) total time=   5.0s\n"
     ]
    },
    {
     "name": "stderr",
     "output_type": "stream",
     "text": [
      "/Users/benseimon/opt/miniconda3/lib/python3.9/site-packages/sklearn/neighbors/_classification.py:198: DataConversionWarning: A column-vector y was passed when a 1d array was expected. Please change the shape of y to (n_samples,), for example using ravel().\n",
      "  return self._fit(X, y)\n"
     ]
    },
    {
     "name": "stdout",
     "output_type": "stream",
     "text": [
      "[CV 5/5] END classifier__n_neighbors=50, classifier__p=1;, score=(train=1.000, test=0.745) total time=   3.9s\n"
     ]
    },
    {
     "name": "stderr",
     "output_type": "stream",
     "text": [
      "/Users/benseimon/opt/miniconda3/lib/python3.9/site-packages/sklearn/neighbors/_classification.py:198: DataConversionWarning: A column-vector y was passed when a 1d array was expected. Please change the shape of y to (n_samples,), for example using ravel().\n",
      "  return self._fit(X, y)\n"
     ]
    },
    {
     "name": "stdout",
     "output_type": "stream",
     "text": [
      "[CV 1/5] END classifier__n_neighbors=50, classifier__p=2;, score=(train=1.000, test=0.732) total time=   4.4s\n"
     ]
    },
    {
     "name": "stderr",
     "output_type": "stream",
     "text": [
      "/Users/benseimon/opt/miniconda3/lib/python3.9/site-packages/sklearn/impute/_iterative.py:699: ConvergenceWarning: [IterativeImputer] Early stopping criterion not reached.\n",
      "  warnings.warn(\n",
      "/Users/benseimon/opt/miniconda3/lib/python3.9/site-packages/sklearn/neighbors/_classification.py:198: DataConversionWarning: A column-vector y was passed when a 1d array was expected. Please change the shape of y to (n_samples,), for example using ravel().\n",
      "  return self._fit(X, y)\n",
      "/Users/benseimon/opt/miniconda3/lib/python3.9/site-packages/sklearn/preprocessing/_encoders.py:170: UserWarning: Found unknown categories in columns [4] during transform. These unknown categories will be encoded as all zeros\n",
      "  warnings.warn(\n"
     ]
    },
    {
     "name": "stdout",
     "output_type": "stream",
     "text": [
      "[CV 2/5] END classifier__n_neighbors=50, classifier__p=2;, score=(train=1.000, test=0.693) total time=   5.0s\n"
     ]
    },
    {
     "name": "stderr",
     "output_type": "stream",
     "text": [
      "/Users/benseimon/opt/miniconda3/lib/python3.9/site-packages/sklearn/neighbors/_classification.py:198: DataConversionWarning: A column-vector y was passed when a 1d array was expected. Please change the shape of y to (n_samples,), for example using ravel().\n",
      "  return self._fit(X, y)\n"
     ]
    },
    {
     "name": "stdout",
     "output_type": "stream",
     "text": [
      "[CV 3/5] END classifier__n_neighbors=50, classifier__p=2;, score=(train=1.000, test=0.706) total time=   3.3s\n"
     ]
    },
    {
     "name": "stderr",
     "output_type": "stream",
     "text": [
      "/Users/benseimon/opt/miniconda3/lib/python3.9/site-packages/sklearn/impute/_iterative.py:699: ConvergenceWarning: [IterativeImputer] Early stopping criterion not reached.\n",
      "  warnings.warn(\n",
      "/Users/benseimon/opt/miniconda3/lib/python3.9/site-packages/sklearn/neighbors/_classification.py:198: DataConversionWarning: A column-vector y was passed when a 1d array was expected. Please change the shape of y to (n_samples,), for example using ravel().\n",
      "  return self._fit(X, y)\n"
     ]
    },
    {
     "name": "stdout",
     "output_type": "stream",
     "text": [
      "[CV 4/5] END classifier__n_neighbors=50, classifier__p=2;, score=(train=1.000, test=0.746) total time=   5.0s\n"
     ]
    },
    {
     "name": "stderr",
     "output_type": "stream",
     "text": [
      "/Users/benseimon/opt/miniconda3/lib/python3.9/site-packages/sklearn/neighbors/_classification.py:198: DataConversionWarning: A column-vector y was passed when a 1d array was expected. Please change the shape of y to (n_samples,), for example using ravel().\n",
      "  return self._fit(X, y)\n"
     ]
    },
    {
     "name": "stdout",
     "output_type": "stream",
     "text": [
      "[CV 5/5] END classifier__n_neighbors=50, classifier__p=2;, score=(train=1.000, test=0.774) total time=   4.0s\n"
     ]
    },
    {
     "name": "stderr",
     "output_type": "stream",
     "text": [
      "/Users/benseimon/opt/miniconda3/lib/python3.9/site-packages/sklearn/neighbors/_classification.py:198: DataConversionWarning: A column-vector y was passed when a 1d array was expected. Please change the shape of y to (n_samples,), for example using ravel().\n",
      "  return self._fit(X, y)\n"
     ]
    },
    {
     "name": "stdout",
     "output_type": "stream",
     "text": [
      "[CV 1/5] END classifier__n_neighbors=100, classifier__p=1;, score=(train=1.000, test=0.739) total time=   4.2s\n"
     ]
    },
    {
     "name": "stderr",
     "output_type": "stream",
     "text": [
      "/Users/benseimon/opt/miniconda3/lib/python3.9/site-packages/sklearn/impute/_iterative.py:699: ConvergenceWarning: [IterativeImputer] Early stopping criterion not reached.\n",
      "  warnings.warn(\n",
      "/Users/benseimon/opt/miniconda3/lib/python3.9/site-packages/sklearn/neighbors/_classification.py:198: DataConversionWarning: A column-vector y was passed when a 1d array was expected. Please change the shape of y to (n_samples,), for example using ravel().\n",
      "  return self._fit(X, y)\n",
      "/Users/benseimon/opt/miniconda3/lib/python3.9/site-packages/sklearn/preprocessing/_encoders.py:170: UserWarning: Found unknown categories in columns [4] during transform. These unknown categories will be encoded as all zeros\n",
      "  warnings.warn(\n"
     ]
    },
    {
     "name": "stdout",
     "output_type": "stream",
     "text": [
      "[CV 2/5] END classifier__n_neighbors=100, classifier__p=1;, score=(train=1.000, test=0.724) total time=   4.8s\n"
     ]
    },
    {
     "name": "stderr",
     "output_type": "stream",
     "text": [
      "/Users/benseimon/opt/miniconda3/lib/python3.9/site-packages/sklearn/neighbors/_classification.py:198: DataConversionWarning: A column-vector y was passed when a 1d array was expected. Please change the shape of y to (n_samples,), for example using ravel().\n",
      "  return self._fit(X, y)\n"
     ]
    },
    {
     "name": "stdout",
     "output_type": "stream",
     "text": [
      "[CV 3/5] END classifier__n_neighbors=100, classifier__p=1;, score=(train=1.000, test=0.704) total time=   3.4s\n"
     ]
    },
    {
     "name": "stderr",
     "output_type": "stream",
     "text": [
      "/Users/benseimon/opt/miniconda3/lib/python3.9/site-packages/sklearn/impute/_iterative.py:699: ConvergenceWarning: [IterativeImputer] Early stopping criterion not reached.\n",
      "  warnings.warn(\n",
      "/Users/benseimon/opt/miniconda3/lib/python3.9/site-packages/sklearn/neighbors/_classification.py:198: DataConversionWarning: A column-vector y was passed when a 1d array was expected. Please change the shape of y to (n_samples,), for example using ravel().\n",
      "  return self._fit(X, y)\n"
     ]
    },
    {
     "name": "stdout",
     "output_type": "stream",
     "text": [
      "[CV 4/5] END classifier__n_neighbors=100, classifier__p=1;, score=(train=1.000, test=0.771) total time=   5.0s\n"
     ]
    },
    {
     "name": "stderr",
     "output_type": "stream",
     "text": [
      "/Users/benseimon/opt/miniconda3/lib/python3.9/site-packages/sklearn/neighbors/_classification.py:198: DataConversionWarning: A column-vector y was passed when a 1d array was expected. Please change the shape of y to (n_samples,), for example using ravel().\n",
      "  return self._fit(X, y)\n"
     ]
    },
    {
     "name": "stdout",
     "output_type": "stream",
     "text": [
      "[CV 5/5] END classifier__n_neighbors=100, classifier__p=1;, score=(train=1.000, test=0.753) total time=   3.9s\n"
     ]
    },
    {
     "name": "stderr",
     "output_type": "stream",
     "text": [
      "/Users/benseimon/opt/miniconda3/lib/python3.9/site-packages/sklearn/neighbors/_classification.py:198: DataConversionWarning: A column-vector y was passed when a 1d array was expected. Please change the shape of y to (n_samples,), for example using ravel().\n",
      "  return self._fit(X, y)\n"
     ]
    },
    {
     "name": "stdout",
     "output_type": "stream",
     "text": [
      "[CV 1/5] END classifier__n_neighbors=100, classifier__p=2;, score=(train=1.000, test=0.755) total time=   4.4s\n"
     ]
    },
    {
     "name": "stderr",
     "output_type": "stream",
     "text": [
      "/Users/benseimon/opt/miniconda3/lib/python3.9/site-packages/sklearn/impute/_iterative.py:699: ConvergenceWarning: [IterativeImputer] Early stopping criterion not reached.\n",
      "  warnings.warn(\n",
      "/Users/benseimon/opt/miniconda3/lib/python3.9/site-packages/sklearn/neighbors/_classification.py:198: DataConversionWarning: A column-vector y was passed when a 1d array was expected. Please change the shape of y to (n_samples,), for example using ravel().\n",
      "  return self._fit(X, y)\n",
      "/Users/benseimon/opt/miniconda3/lib/python3.9/site-packages/sklearn/preprocessing/_encoders.py:170: UserWarning: Found unknown categories in columns [4] during transform. These unknown categories will be encoded as all zeros\n",
      "  warnings.warn(\n"
     ]
    },
    {
     "name": "stdout",
     "output_type": "stream",
     "text": [
      "[CV 2/5] END classifier__n_neighbors=100, classifier__p=2;, score=(train=1.000, test=0.731) total time=   5.0s\n"
     ]
    },
    {
     "name": "stderr",
     "output_type": "stream",
     "text": [
      "/Users/benseimon/opt/miniconda3/lib/python3.9/site-packages/sklearn/neighbors/_classification.py:198: DataConversionWarning: A column-vector y was passed when a 1d array was expected. Please change the shape of y to (n_samples,), for example using ravel().\n",
      "  return self._fit(X, y)\n"
     ]
    },
    {
     "name": "stdout",
     "output_type": "stream",
     "text": [
      "[CV 3/5] END classifier__n_neighbors=100, classifier__p=2;, score=(train=1.000, test=0.708) total time=   3.4s\n"
     ]
    },
    {
     "name": "stderr",
     "output_type": "stream",
     "text": [
      "/Users/benseimon/opt/miniconda3/lib/python3.9/site-packages/sklearn/impute/_iterative.py:699: ConvergenceWarning: [IterativeImputer] Early stopping criterion not reached.\n",
      "  warnings.warn(\n",
      "/Users/benseimon/opt/miniconda3/lib/python3.9/site-packages/sklearn/neighbors/_classification.py:198: DataConversionWarning: A column-vector y was passed when a 1d array was expected. Please change the shape of y to (n_samples,), for example using ravel().\n",
      "  return self._fit(X, y)\n"
     ]
    },
    {
     "name": "stdout",
     "output_type": "stream",
     "text": [
      "[CV 4/5] END classifier__n_neighbors=100, classifier__p=2;, score=(train=1.000, test=0.756) total time=   5.0s\n"
     ]
    },
    {
     "name": "stderr",
     "output_type": "stream",
     "text": [
      "/Users/benseimon/opt/miniconda3/lib/python3.9/site-packages/sklearn/neighbors/_classification.py:198: DataConversionWarning: A column-vector y was passed when a 1d array was expected. Please change the shape of y to (n_samples,), for example using ravel().\n",
      "  return self._fit(X, y)\n"
     ]
    },
    {
     "name": "stdout",
     "output_type": "stream",
     "text": [
      "[CV 5/5] END classifier__n_neighbors=100, classifier__p=2;, score=(train=1.000, test=0.777) total time=   4.0s\n"
     ]
    },
    {
     "name": "stderr",
     "output_type": "stream",
     "text": [
      "/Users/benseimon/opt/miniconda3/lib/python3.9/site-packages/sklearn/neighbors/_classification.py:198: DataConversionWarning: A column-vector y was passed when a 1d array was expected. Please change the shape of y to (n_samples,), for example using ravel().\n",
      "  return self._fit(X, y)\n"
     ]
    },
    {
     "name": "stdout",
     "output_type": "stream",
     "text": [
      "[CV 1/5] END classifier__n_neighbors=200, classifier__p=1;, score=(train=1.000, test=0.802) total time=   4.3s\n"
     ]
    },
    {
     "name": "stderr",
     "output_type": "stream",
     "text": [
      "/Users/benseimon/opt/miniconda3/lib/python3.9/site-packages/sklearn/impute/_iterative.py:699: ConvergenceWarning: [IterativeImputer] Early stopping criterion not reached.\n",
      "  warnings.warn(\n",
      "/Users/benseimon/opt/miniconda3/lib/python3.9/site-packages/sklearn/neighbors/_classification.py:198: DataConversionWarning: A column-vector y was passed when a 1d array was expected. Please change the shape of y to (n_samples,), for example using ravel().\n",
      "  return self._fit(X, y)\n",
      "/Users/benseimon/opt/miniconda3/lib/python3.9/site-packages/sklearn/preprocessing/_encoders.py:170: UserWarning: Found unknown categories in columns [4] during transform. These unknown categories will be encoded as all zeros\n",
      "  warnings.warn(\n"
     ]
    },
    {
     "name": "stdout",
     "output_type": "stream",
     "text": [
      "[CV 2/5] END classifier__n_neighbors=200, classifier__p=1;, score=(train=1.000, test=0.744) total time=   5.1s\n"
     ]
    },
    {
     "name": "stderr",
     "output_type": "stream",
     "text": [
      "/Users/benseimon/opt/miniconda3/lib/python3.9/site-packages/sklearn/neighbors/_classification.py:198: DataConversionWarning: A column-vector y was passed when a 1d array was expected. Please change the shape of y to (n_samples,), for example using ravel().\n",
      "  return self._fit(X, y)\n"
     ]
    },
    {
     "name": "stdout",
     "output_type": "stream",
     "text": [
      "[CV 3/5] END classifier__n_neighbors=200, classifier__p=1;, score=(train=1.000, test=0.714) total time=   3.3s\n"
     ]
    },
    {
     "name": "stderr",
     "output_type": "stream",
     "text": [
      "/Users/benseimon/opt/miniconda3/lib/python3.9/site-packages/sklearn/impute/_iterative.py:699: ConvergenceWarning: [IterativeImputer] Early stopping criterion not reached.\n",
      "  warnings.warn(\n",
      "/Users/benseimon/opt/miniconda3/lib/python3.9/site-packages/sklearn/neighbors/_classification.py:198: DataConversionWarning: A column-vector y was passed when a 1d array was expected. Please change the shape of y to (n_samples,), for example using ravel().\n",
      "  return self._fit(X, y)\n"
     ]
    },
    {
     "name": "stdout",
     "output_type": "stream",
     "text": [
      "[CV 4/5] END classifier__n_neighbors=200, classifier__p=1;, score=(train=1.000, test=0.778) total time=   5.0s\n"
     ]
    },
    {
     "name": "stderr",
     "output_type": "stream",
     "text": [
      "/Users/benseimon/opt/miniconda3/lib/python3.9/site-packages/sklearn/neighbors/_classification.py:198: DataConversionWarning: A column-vector y was passed when a 1d array was expected. Please change the shape of y to (n_samples,), for example using ravel().\n",
      "  return self._fit(X, y)\n"
     ]
    },
    {
     "name": "stdout",
     "output_type": "stream",
     "text": [
      "[CV 5/5] END classifier__n_neighbors=200, classifier__p=1;, score=(train=1.000, test=0.756) total time=   4.0s\n"
     ]
    },
    {
     "name": "stderr",
     "output_type": "stream",
     "text": [
      "/Users/benseimon/opt/miniconda3/lib/python3.9/site-packages/sklearn/neighbors/_classification.py:198: DataConversionWarning: A column-vector y was passed when a 1d array was expected. Please change the shape of y to (n_samples,), for example using ravel().\n",
      "  return self._fit(X, y)\n"
     ]
    },
    {
     "name": "stdout",
     "output_type": "stream",
     "text": [
      "[CV 1/5] END classifier__n_neighbors=200, classifier__p=2;, score=(train=1.000, test=0.809) total time=   4.3s\n"
     ]
    },
    {
     "name": "stderr",
     "output_type": "stream",
     "text": [
      "/Users/benseimon/opt/miniconda3/lib/python3.9/site-packages/sklearn/impute/_iterative.py:699: ConvergenceWarning: [IterativeImputer] Early stopping criterion not reached.\n",
      "  warnings.warn(\n",
      "/Users/benseimon/opt/miniconda3/lib/python3.9/site-packages/sklearn/neighbors/_classification.py:198: DataConversionWarning: A column-vector y was passed when a 1d array was expected. Please change the shape of y to (n_samples,), for example using ravel().\n",
      "  return self._fit(X, y)\n",
      "/Users/benseimon/opt/miniconda3/lib/python3.9/site-packages/sklearn/preprocessing/_encoders.py:170: UserWarning: Found unknown categories in columns [4] during transform. These unknown categories will be encoded as all zeros\n",
      "  warnings.warn(\n"
     ]
    },
    {
     "name": "stdout",
     "output_type": "stream",
     "text": [
      "[CV 2/5] END classifier__n_neighbors=200, classifier__p=2;, score=(train=1.000, test=0.756) total time=   4.8s\n"
     ]
    },
    {
     "name": "stderr",
     "output_type": "stream",
     "text": [
      "/Users/benseimon/opt/miniconda3/lib/python3.9/site-packages/sklearn/neighbors/_classification.py:198: DataConversionWarning: A column-vector y was passed when a 1d array was expected. Please change the shape of y to (n_samples,), for example using ravel().\n",
      "  return self._fit(X, y)\n"
     ]
    },
    {
     "name": "stdout",
     "output_type": "stream",
     "text": [
      "[CV 3/5] END classifier__n_neighbors=200, classifier__p=2;, score=(train=1.000, test=0.712) total time=   3.2s\n"
     ]
    },
    {
     "name": "stderr",
     "output_type": "stream",
     "text": [
      "/Users/benseimon/opt/miniconda3/lib/python3.9/site-packages/sklearn/impute/_iterative.py:699: ConvergenceWarning: [IterativeImputer] Early stopping criterion not reached.\n",
      "  warnings.warn(\n",
      "/Users/benseimon/opt/miniconda3/lib/python3.9/site-packages/sklearn/neighbors/_classification.py:198: DataConversionWarning: A column-vector y was passed when a 1d array was expected. Please change the shape of y to (n_samples,), for example using ravel().\n",
      "  return self._fit(X, y)\n"
     ]
    },
    {
     "name": "stdout",
     "output_type": "stream",
     "text": [
      "[CV 4/5] END classifier__n_neighbors=200, classifier__p=2;, score=(train=1.000, test=0.787) total time=   5.1s\n"
     ]
    },
    {
     "name": "stderr",
     "output_type": "stream",
     "text": [
      "/Users/benseimon/opt/miniconda3/lib/python3.9/site-packages/sklearn/neighbors/_classification.py:198: DataConversionWarning: A column-vector y was passed when a 1d array was expected. Please change the shape of y to (n_samples,), for example using ravel().\n",
      "  return self._fit(X, y)\n"
     ]
    },
    {
     "name": "stdout",
     "output_type": "stream",
     "text": [
      "[CV 5/5] END classifier__n_neighbors=200, classifier__p=2;, score=(train=1.000, test=0.770) total time=   3.9s\n"
     ]
    },
    {
     "name": "stderr",
     "output_type": "stream",
     "text": [
      "/Users/benseimon/opt/miniconda3/lib/python3.9/site-packages/sklearn/neighbors/_classification.py:198: DataConversionWarning: A column-vector y was passed when a 1d array was expected. Please change the shape of y to (n_samples,), for example using ravel().\n",
      "  return self._fit(X, y)\n"
     ]
    },
    {
     "name": "stdout",
     "output_type": "stream",
     "text": [
      "[CV 1/5] END classifier__n_neighbors=500, classifier__p=1;, score=(train=1.000, test=0.825) total time=   4.2s\n"
     ]
    },
    {
     "name": "stderr",
     "output_type": "stream",
     "text": [
      "/Users/benseimon/opt/miniconda3/lib/python3.9/site-packages/sklearn/impute/_iterative.py:699: ConvergenceWarning: [IterativeImputer] Early stopping criterion not reached.\n",
      "  warnings.warn(\n",
      "/Users/benseimon/opt/miniconda3/lib/python3.9/site-packages/sklearn/neighbors/_classification.py:198: DataConversionWarning: A column-vector y was passed when a 1d array was expected. Please change the shape of y to (n_samples,), for example using ravel().\n",
      "  return self._fit(X, y)\n",
      "/Users/benseimon/opt/miniconda3/lib/python3.9/site-packages/sklearn/preprocessing/_encoders.py:170: UserWarning: Found unknown categories in columns [4] during transform. These unknown categories will be encoded as all zeros\n",
      "  warnings.warn(\n"
     ]
    },
    {
     "name": "stdout",
     "output_type": "stream",
     "text": [
      "[CV 2/5] END classifier__n_neighbors=500, classifier__p=1;, score=(train=1.000, test=0.762) total time=   4.8s\n"
     ]
    },
    {
     "name": "stderr",
     "output_type": "stream",
     "text": [
      "/Users/benseimon/opt/miniconda3/lib/python3.9/site-packages/sklearn/neighbors/_classification.py:198: DataConversionWarning: A column-vector y was passed when a 1d array was expected. Please change the shape of y to (n_samples,), for example using ravel().\n",
      "  return self._fit(X, y)\n"
     ]
    },
    {
     "name": "stdout",
     "output_type": "stream",
     "text": [
      "[CV 3/5] END classifier__n_neighbors=500, classifier__p=1;, score=(train=1.000, test=0.744) total time=   3.3s\n"
     ]
    },
    {
     "name": "stderr",
     "output_type": "stream",
     "text": [
      "/Users/benseimon/opt/miniconda3/lib/python3.9/site-packages/sklearn/impute/_iterative.py:699: ConvergenceWarning: [IterativeImputer] Early stopping criterion not reached.\n",
      "  warnings.warn(\n",
      "/Users/benseimon/opt/miniconda3/lib/python3.9/site-packages/sklearn/neighbors/_classification.py:198: DataConversionWarning: A column-vector y was passed when a 1d array was expected. Please change the shape of y to (n_samples,), for example using ravel().\n",
      "  return self._fit(X, y)\n"
     ]
    },
    {
     "name": "stdout",
     "output_type": "stream",
     "text": [
      "[CV 4/5] END classifier__n_neighbors=500, classifier__p=1;, score=(train=1.000, test=0.793) total time=   4.9s\n"
     ]
    },
    {
     "name": "stderr",
     "output_type": "stream",
     "text": [
      "/Users/benseimon/opt/miniconda3/lib/python3.9/site-packages/sklearn/neighbors/_classification.py:198: DataConversionWarning: A column-vector y was passed when a 1d array was expected. Please change the shape of y to (n_samples,), for example using ravel().\n",
      "  return self._fit(X, y)\n"
     ]
    },
    {
     "name": "stdout",
     "output_type": "stream",
     "text": [
      "[CV 5/5] END classifier__n_neighbors=500, classifier__p=1;, score=(train=1.000, test=0.756) total time=   3.8s\n"
     ]
    },
    {
     "name": "stderr",
     "output_type": "stream",
     "text": [
      "/Users/benseimon/opt/miniconda3/lib/python3.9/site-packages/sklearn/neighbors/_classification.py:198: DataConversionWarning: A column-vector y was passed when a 1d array was expected. Please change the shape of y to (n_samples,), for example using ravel().\n",
      "  return self._fit(X, y)\n"
     ]
    },
    {
     "name": "stdout",
     "output_type": "stream",
     "text": [
      "[CV 1/5] END classifier__n_neighbors=500, classifier__p=2;, score=(train=1.000, test=0.828) total time=   4.2s\n"
     ]
    },
    {
     "name": "stderr",
     "output_type": "stream",
     "text": [
      "/Users/benseimon/opt/miniconda3/lib/python3.9/site-packages/sklearn/impute/_iterative.py:699: ConvergenceWarning: [IterativeImputer] Early stopping criterion not reached.\n",
      "  warnings.warn(\n",
      "/Users/benseimon/opt/miniconda3/lib/python3.9/site-packages/sklearn/neighbors/_classification.py:198: DataConversionWarning: A column-vector y was passed when a 1d array was expected. Please change the shape of y to (n_samples,), for example using ravel().\n",
      "  return self._fit(X, y)\n",
      "/Users/benseimon/opt/miniconda3/lib/python3.9/site-packages/sklearn/preprocessing/_encoders.py:170: UserWarning: Found unknown categories in columns [4] during transform. These unknown categories will be encoded as all zeros\n",
      "  warnings.warn(\n"
     ]
    },
    {
     "name": "stdout",
     "output_type": "stream",
     "text": [
      "[CV 2/5] END classifier__n_neighbors=500, classifier__p=2;, score=(train=1.000, test=0.752) total time=   4.9s\n"
     ]
    },
    {
     "name": "stderr",
     "output_type": "stream",
     "text": [
      "/Users/benseimon/opt/miniconda3/lib/python3.9/site-packages/sklearn/neighbors/_classification.py:198: DataConversionWarning: A column-vector y was passed when a 1d array was expected. Please change the shape of y to (n_samples,), for example using ravel().\n",
      "  return self._fit(X, y)\n"
     ]
    },
    {
     "name": "stdout",
     "output_type": "stream",
     "text": [
      "[CV 3/5] END classifier__n_neighbors=500, classifier__p=2;, score=(train=1.000, test=0.733) total time=   3.3s\n"
     ]
    },
    {
     "name": "stderr",
     "output_type": "stream",
     "text": [
      "/Users/benseimon/opt/miniconda3/lib/python3.9/site-packages/sklearn/impute/_iterative.py:699: ConvergenceWarning: [IterativeImputer] Early stopping criterion not reached.\n",
      "  warnings.warn(\n",
      "/Users/benseimon/opt/miniconda3/lib/python3.9/site-packages/sklearn/neighbors/_classification.py:198: DataConversionWarning: A column-vector y was passed when a 1d array was expected. Please change the shape of y to (n_samples,), for example using ravel().\n",
      "  return self._fit(X, y)\n"
     ]
    },
    {
     "name": "stdout",
     "output_type": "stream",
     "text": [
      "[CV 4/5] END classifier__n_neighbors=500, classifier__p=2;, score=(train=1.000, test=0.798) total time=   4.9s\n"
     ]
    },
    {
     "name": "stderr",
     "output_type": "stream",
     "text": [
      "/Users/benseimon/opt/miniconda3/lib/python3.9/site-packages/sklearn/neighbors/_classification.py:198: DataConversionWarning: A column-vector y was passed when a 1d array was expected. Please change the shape of y to (n_samples,), for example using ravel().\n",
      "  return self._fit(X, y)\n"
     ]
    },
    {
     "name": "stdout",
     "output_type": "stream",
     "text": [
      "[CV 5/5] END classifier__n_neighbors=500, classifier__p=2;, score=(train=1.000, test=0.761) total time=   4.0s\n",
      "----------\n",
      "iter: 1\n",
      "n_candidates: 5\n",
      "n_resources: 6960\n",
      "Fitting 5 folds for each of 5 candidates, totalling 25 fits\n"
     ]
    },
    {
     "name": "stderr",
     "output_type": "stream",
     "text": [
      "/Users/benseimon/opt/miniconda3/lib/python3.9/site-packages/sklearn/impute/_iterative.py:699: ConvergenceWarning: [IterativeImputer] Early stopping criterion not reached.\n",
      "  warnings.warn(\n",
      "/Users/benseimon/opt/miniconda3/lib/python3.9/site-packages/sklearn/neighbors/_classification.py:198: DataConversionWarning: A column-vector y was passed when a 1d array was expected. Please change the shape of y to (n_samples,), for example using ravel().\n",
      "  return self._fit(X, y)\n"
     ]
    },
    {
     "name": "stdout",
     "output_type": "stream",
     "text": [
      "[CV 1/5] END classifier__n_neighbors=100, classifier__p=2;, score=(train=1.000, test=0.734) total time=  12.5s\n"
     ]
    },
    {
     "name": "stderr",
     "output_type": "stream",
     "text": [
      "/Users/benseimon/opt/miniconda3/lib/python3.9/site-packages/sklearn/neighbors/_classification.py:198: DataConversionWarning: A column-vector y was passed when a 1d array was expected. Please change the shape of y to (n_samples,), for example using ravel().\n",
      "  return self._fit(X, y)\n"
     ]
    },
    {
     "name": "stdout",
     "output_type": "stream",
     "text": [
      "[CV 2/5] END classifier__n_neighbors=100, classifier__p=2;, score=(train=1.000, test=0.746) total time=  10.1s\n"
     ]
    },
    {
     "name": "stderr",
     "output_type": "stream",
     "text": [
      "/Users/benseimon/opt/miniconda3/lib/python3.9/site-packages/sklearn/neighbors/_classification.py:198: DataConversionWarning: A column-vector y was passed when a 1d array was expected. Please change the shape of y to (n_samples,), for example using ravel().\n",
      "  return self._fit(X, y)\n"
     ]
    },
    {
     "name": "stdout",
     "output_type": "stream",
     "text": [
      "[CV 3/5] END classifier__n_neighbors=100, classifier__p=2;, score=(train=1.000, test=0.768) total time=  10.9s\n"
     ]
    },
    {
     "name": "stderr",
     "output_type": "stream",
     "text": [
      "/Users/benseimon/opt/miniconda3/lib/python3.9/site-packages/sklearn/impute/_iterative.py:699: ConvergenceWarning: [IterativeImputer] Early stopping criterion not reached.\n",
      "  warnings.warn(\n",
      "/Users/benseimon/opt/miniconda3/lib/python3.9/site-packages/sklearn/neighbors/_classification.py:198: DataConversionWarning: A column-vector y was passed when a 1d array was expected. Please change the shape of y to (n_samples,), for example using ravel().\n",
      "  return self._fit(X, y)\n"
     ]
    },
    {
     "name": "stdout",
     "output_type": "stream",
     "text": [
      "[CV 4/5] END classifier__n_neighbors=100, classifier__p=2;, score=(train=1.000, test=0.711) total time=  12.2s\n"
     ]
    },
    {
     "name": "stderr",
     "output_type": "stream",
     "text": [
      "/Users/benseimon/opt/miniconda3/lib/python3.9/site-packages/sklearn/impute/_iterative.py:699: ConvergenceWarning: [IterativeImputer] Early stopping criterion not reached.\n",
      "  warnings.warn(\n",
      "/Users/benseimon/opt/miniconda3/lib/python3.9/site-packages/sklearn/neighbors/_classification.py:198: DataConversionWarning: A column-vector y was passed when a 1d array was expected. Please change the shape of y to (n_samples,), for example using ravel().\n",
      "  return self._fit(X, y)\n"
     ]
    },
    {
     "name": "stdout",
     "output_type": "stream",
     "text": [
      "[CV 5/5] END classifier__n_neighbors=100, classifier__p=2;, score=(train=1.000, test=0.720) total time=  12.4s\n"
     ]
    },
    {
     "name": "stderr",
     "output_type": "stream",
     "text": [
      "/Users/benseimon/opt/miniconda3/lib/python3.9/site-packages/sklearn/impute/_iterative.py:699: ConvergenceWarning: [IterativeImputer] Early stopping criterion not reached.\n",
      "  warnings.warn(\n",
      "/Users/benseimon/opt/miniconda3/lib/python3.9/site-packages/sklearn/neighbors/_classification.py:198: DataConversionWarning: A column-vector y was passed when a 1d array was expected. Please change the shape of y to (n_samples,), for example using ravel().\n",
      "  return self._fit(X, y)\n"
     ]
    },
    {
     "name": "stdout",
     "output_type": "stream",
     "text": [
      "[CV 1/5] END classifier__n_neighbors=200, classifier__p=1;, score=(train=1.000, test=0.762) total time=  12.8s\n"
     ]
    },
    {
     "name": "stderr",
     "output_type": "stream",
     "text": [
      "/Users/benseimon/opt/miniconda3/lib/python3.9/site-packages/sklearn/neighbors/_classification.py:198: DataConversionWarning: A column-vector y was passed when a 1d array was expected. Please change the shape of y to (n_samples,), for example using ravel().\n",
      "  return self._fit(X, y)\n"
     ]
    },
    {
     "name": "stdout",
     "output_type": "stream",
     "text": [
      "[CV 2/5] END classifier__n_neighbors=200, classifier__p=1;, score=(train=1.000, test=0.773) total time=  10.8s\n"
     ]
    },
    {
     "name": "stderr",
     "output_type": "stream",
     "text": [
      "/Users/benseimon/opt/miniconda3/lib/python3.9/site-packages/sklearn/neighbors/_classification.py:198: DataConversionWarning: A column-vector y was passed when a 1d array was expected. Please change the shape of y to (n_samples,), for example using ravel().\n",
      "  return self._fit(X, y)\n"
     ]
    },
    {
     "name": "stdout",
     "output_type": "stream",
     "text": [
      "[CV 3/5] END classifier__n_neighbors=200, classifier__p=1;, score=(train=1.000, test=0.792) total time=  11.3s\n"
     ]
    },
    {
     "name": "stderr",
     "output_type": "stream",
     "text": [
      "/Users/benseimon/opt/miniconda3/lib/python3.9/site-packages/sklearn/impute/_iterative.py:699: ConvergenceWarning: [IterativeImputer] Early stopping criterion not reached.\n",
      "  warnings.warn(\n",
      "/Users/benseimon/opt/miniconda3/lib/python3.9/site-packages/sklearn/neighbors/_classification.py:198: DataConversionWarning: A column-vector y was passed when a 1d array was expected. Please change the shape of y to (n_samples,), for example using ravel().\n",
      "  return self._fit(X, y)\n"
     ]
    },
    {
     "name": "stdout",
     "output_type": "stream",
     "text": [
      "[CV 4/5] END classifier__n_neighbors=200, classifier__p=1;, score=(train=1.000, test=0.735) total time=  12.7s\n"
     ]
    },
    {
     "name": "stderr",
     "output_type": "stream",
     "text": [
      "/Users/benseimon/opt/miniconda3/lib/python3.9/site-packages/sklearn/impute/_iterative.py:699: ConvergenceWarning: [IterativeImputer] Early stopping criterion not reached.\n",
      "  warnings.warn(\n",
      "/Users/benseimon/opt/miniconda3/lib/python3.9/site-packages/sklearn/neighbors/_classification.py:198: DataConversionWarning: A column-vector y was passed when a 1d array was expected. Please change the shape of y to (n_samples,), for example using ravel().\n",
      "  return self._fit(X, y)\n"
     ]
    },
    {
     "name": "stdout",
     "output_type": "stream",
     "text": [
      "[CV 5/5] END classifier__n_neighbors=200, classifier__p=1;, score=(train=1.000, test=0.742) total time=  13.3s\n"
     ]
    },
    {
     "name": "stderr",
     "output_type": "stream",
     "text": [
      "/Users/benseimon/opt/miniconda3/lib/python3.9/site-packages/sklearn/impute/_iterative.py:699: ConvergenceWarning: [IterativeImputer] Early stopping criterion not reached.\n",
      "  warnings.warn(\n",
      "/Users/benseimon/opt/miniconda3/lib/python3.9/site-packages/sklearn/neighbors/_classification.py:198: DataConversionWarning: A column-vector y was passed when a 1d array was expected. Please change the shape of y to (n_samples,), for example using ravel().\n",
      "  return self._fit(X, y)\n"
     ]
    },
    {
     "name": "stdout",
     "output_type": "stream",
     "text": [
      "[CV 1/5] END classifier__n_neighbors=200, classifier__p=2;, score=(train=1.000, test=0.746) total time=  12.2s\n"
     ]
    },
    {
     "name": "stderr",
     "output_type": "stream",
     "text": [
      "/Users/benseimon/opt/miniconda3/lib/python3.9/site-packages/sklearn/neighbors/_classification.py:198: DataConversionWarning: A column-vector y was passed when a 1d array was expected. Please change the shape of y to (n_samples,), for example using ravel().\n",
      "  return self._fit(X, y)\n"
     ]
    },
    {
     "name": "stdout",
     "output_type": "stream",
     "text": [
      "[CV 2/5] END classifier__n_neighbors=200, classifier__p=2;, score=(train=1.000, test=0.748) total time=  10.0s\n"
     ]
    },
    {
     "name": "stderr",
     "output_type": "stream",
     "text": [
      "/Users/benseimon/opt/miniconda3/lib/python3.9/site-packages/sklearn/neighbors/_classification.py:198: DataConversionWarning: A column-vector y was passed when a 1d array was expected. Please change the shape of y to (n_samples,), for example using ravel().\n",
      "  return self._fit(X, y)\n"
     ]
    },
    {
     "name": "stdout",
     "output_type": "stream",
     "text": [
      "[CV 3/5] END classifier__n_neighbors=200, classifier__p=2;, score=(train=1.000, test=0.768) total time=  10.9s\n"
     ]
    },
    {
     "name": "stderr",
     "output_type": "stream",
     "text": [
      "/Users/benseimon/opt/miniconda3/lib/python3.9/site-packages/sklearn/impute/_iterative.py:699: ConvergenceWarning: [IterativeImputer] Early stopping criterion not reached.\n",
      "  warnings.warn(\n",
      "/Users/benseimon/opt/miniconda3/lib/python3.9/site-packages/sklearn/neighbors/_classification.py:198: DataConversionWarning: A column-vector y was passed when a 1d array was expected. Please change the shape of y to (n_samples,), for example using ravel().\n",
      "  return self._fit(X, y)\n"
     ]
    },
    {
     "name": "stdout",
     "output_type": "stream",
     "text": [
      "[CV 4/5] END classifier__n_neighbors=200, classifier__p=2;, score=(train=1.000, test=0.714) total time=  12.1s\n"
     ]
    },
    {
     "name": "stderr",
     "output_type": "stream",
     "text": [
      "/Users/benseimon/opt/miniconda3/lib/python3.9/site-packages/sklearn/impute/_iterative.py:699: ConvergenceWarning: [IterativeImputer] Early stopping criterion not reached.\n",
      "  warnings.warn(\n",
      "/Users/benseimon/opt/miniconda3/lib/python3.9/site-packages/sklearn/neighbors/_classification.py:198: DataConversionWarning: A column-vector y was passed when a 1d array was expected. Please change the shape of y to (n_samples,), for example using ravel().\n",
      "  return self._fit(X, y)\n"
     ]
    },
    {
     "name": "stdout",
     "output_type": "stream",
     "text": [
      "[CV 5/5] END classifier__n_neighbors=200, classifier__p=2;, score=(train=1.000, test=0.719) total time=  12.3s\n"
     ]
    },
    {
     "name": "stderr",
     "output_type": "stream",
     "text": [
      "/Users/benseimon/opt/miniconda3/lib/python3.9/site-packages/sklearn/impute/_iterative.py:699: ConvergenceWarning: [IterativeImputer] Early stopping criterion not reached.\n",
      "  warnings.warn(\n",
      "/Users/benseimon/opt/miniconda3/lib/python3.9/site-packages/sklearn/neighbors/_classification.py:198: DataConversionWarning: A column-vector y was passed when a 1d array was expected. Please change the shape of y to (n_samples,), for example using ravel().\n",
      "  return self._fit(X, y)\n"
     ]
    },
    {
     "name": "stdout",
     "output_type": "stream",
     "text": [
      "[CV 1/5] END classifier__n_neighbors=500, classifier__p=2;, score=(train=1.000, test=0.747) total time=  12.2s\n"
     ]
    },
    {
     "name": "stderr",
     "output_type": "stream",
     "text": [
      "/Users/benseimon/opt/miniconda3/lib/python3.9/site-packages/sklearn/neighbors/_classification.py:198: DataConversionWarning: A column-vector y was passed when a 1d array was expected. Please change the shape of y to (n_samples,), for example using ravel().\n",
      "  return self._fit(X, y)\n"
     ]
    },
    {
     "name": "stdout",
     "output_type": "stream",
     "text": [
      "[CV 2/5] END classifier__n_neighbors=500, classifier__p=2;, score=(train=1.000, test=0.767) total time=  10.1s\n"
     ]
    },
    {
     "name": "stderr",
     "output_type": "stream",
     "text": [
      "/Users/benseimon/opt/miniconda3/lib/python3.9/site-packages/sklearn/neighbors/_classification.py:198: DataConversionWarning: A column-vector y was passed when a 1d array was expected. Please change the shape of y to (n_samples,), for example using ravel().\n",
      "  return self._fit(X, y)\n"
     ]
    },
    {
     "name": "stdout",
     "output_type": "stream",
     "text": [
      "[CV 3/5] END classifier__n_neighbors=500, classifier__p=2;, score=(train=1.000, test=0.762) total time=  11.0s\n"
     ]
    },
    {
     "name": "stderr",
     "output_type": "stream",
     "text": [
      "/Users/benseimon/opt/miniconda3/lib/python3.9/site-packages/sklearn/impute/_iterative.py:699: ConvergenceWarning: [IterativeImputer] Early stopping criterion not reached.\n",
      "  warnings.warn(\n",
      "/Users/benseimon/opt/miniconda3/lib/python3.9/site-packages/sklearn/neighbors/_classification.py:198: DataConversionWarning: A column-vector y was passed when a 1d array was expected. Please change the shape of y to (n_samples,), for example using ravel().\n",
      "  return self._fit(X, y)\n"
     ]
    },
    {
     "name": "stdout",
     "output_type": "stream",
     "text": [
      "[CV 4/5] END classifier__n_neighbors=500, classifier__p=2;, score=(train=1.000, test=0.729) total time=  12.5s\n"
     ]
    }
   ],
   "source": [
    "grid_knn.fit(train_data[numerical_features+categorical_features], train_data[target])"
   ]
  },
  {
   "cell_type": "markdown",
   "id": "68349a62",
   "metadata": {},
   "source": [
    "## SVM"
   ]
  },
  {
   "cell_type": "code",
   "execution_count": 1,
   "id": "6faa91eb",
   "metadata": {
    "collapsed": true
   },
   "outputs": [
    {
     "ename": "NameError",
     "evalue": "name 'numerical_features' is not defined",
     "output_type": "error",
     "traceback": [
      "\u001b[0;31m---------------------------------------------------------------------------\u001b[0m",
      "\u001b[0;31mNameError\u001b[0m                                 Traceback (most recent call last)",
      "\u001b[0;32m/var/folders/2g/qx04w6j525l446ptr2wd9w8w0000gn/T/ipykernel_27347/722578106.py\u001b[0m in \u001b[0;36m<module>\u001b[0;34m\u001b[0m\n\u001b[0;32m----> 1\u001b[0;31m \u001b[0mnumerical_features\u001b[0m\u001b[0;34m\u001b[0m\u001b[0;34m\u001b[0m\u001b[0m\n\u001b[0m\u001b[1;32m      2\u001b[0m numerical_transformer = Pipeline(\n\u001b[1;32m      3\u001b[0m     \u001b[0msteps\u001b[0m\u001b[0;34m=\u001b[0m\u001b[0;34m[\u001b[0m\u001b[0;34m(\u001b[0m\u001b[0;34m\"imputer\"\u001b[0m\u001b[0;34m,\u001b[0m \u001b[0mIterativeImputer\u001b[0m\u001b[0;34m(\u001b[0m\u001b[0mrandom_state\u001b[0m\u001b[0;34m=\u001b[0m\u001b[0;36m0\u001b[0m\u001b[0;34m,\u001b[0m \u001b[0mmissing_values\u001b[0m \u001b[0;34m=\u001b[0m \u001b[0mnp\u001b[0m\u001b[0;34m.\u001b[0m\u001b[0mnan\u001b[0m\u001b[0;34m,\u001b[0m \u001b[0minitial_strategy\u001b[0m \u001b[0;34m=\u001b[0m \u001b[0;34m'mean'\u001b[0m\u001b[0;34m,\u001b[0m \u001b[0mmax_iter\u001b[0m\u001b[0;34m=\u001b[0m\u001b[0;36m30\u001b[0m\u001b[0;34m,\u001b[0m\u001b[0mimputation_order\u001b[0m \u001b[0;34m=\u001b[0m \u001b[0;34m'ascending'\u001b[0m\u001b[0;34m,\u001b[0m \u001b[0madd_indicator\u001b[0m\u001b[0;34m=\u001b[0m\u001b[0;32mTrue\u001b[0m\u001b[0;34m)\u001b[0m\u001b[0;34m)\u001b[0m\u001b[0;34m,\u001b[0m \u001b[0;34m(\u001b[0m\u001b[0;34m\"scaler\"\u001b[0m\u001b[0;34m,\u001b[0m \u001b[0mStandardScaler\u001b[0m\u001b[0;34m(\u001b[0m\u001b[0;34m)\u001b[0m\u001b[0;34m)\u001b[0m\u001b[0;34m]\u001b[0m\u001b[0;34m\u001b[0m\u001b[0;34m\u001b[0m\u001b[0m\n\u001b[1;32m      4\u001b[0m )\n\u001b[1;32m      5\u001b[0m \u001b[0;34m\u001b[0m\u001b[0m\n",
      "\u001b[0;31mNameError\u001b[0m: name 'numerical_features' is not defined"
     ]
    }
   ],
   "source": [
    "numerical_features\n",
    "numerical_transformer = Pipeline(\n",
    "    steps=[(\"imputer\", IterativeImputer(random_state=0, missing_values = np.nan, initial_strategy = 'mean', max_iter=30,imputation_order = 'ascending', add_indicator=True)), (\"scaler\", StandardScaler())]\n",
    ")\n",
    "\n",
    "#(SimpleImputer(missing_values = np.nan, strategy = 'mean', add_indicator=True)\n",
    "\n",
    "preprocessor = ColumnTransformer(\n",
    "    transformers=[\n",
    "        (\"num\", numerical_transformer, numerical_features),\n",
    "        (\"cat\", categorical_transformer, categorical_features),\n",
    "    ]\n",
    ")\n",
    "\n",
    "svm_estimator = SVC(probability = True, class_weight = 'balanced', random_state = 5) #class_weight set to balanced since we have an unbalanced dataset. Could have grid searched for none vs balanced, but did not due to time constraints. \n",
    "\n",
    "# Append classifier to preprocessing pipeline.\n",
    "# Now we have a full prediction pipeline.\n",
    "svm_pipeline = Pipeline([(\"preprocessor\", preprocessor), (\"classifier\", knn_estimator)])\n",
    "\n",
    "grid_values = [{'classifier_kernel': ['linear', 'rbf'],'classifier__C':[0.01, 0.1, 1, 10, 100],\n",
    "               'classifier__gamma':[0.01, 0.1, 0.2, 0.4, 0.6, 0.8, 0.99], 'classifier__p':[1, 2]}]\n",
    "grid_knn = HalvingGridSearchCV(svm_pipeline, param_grid = grid_values, scoring = 'roc_auc', cv = 5, verbose = 3)\n"
   ]
  },
  {
   "cell_type": "markdown",
   "id": "d33b8dfb",
   "metadata": {},
   "source": [
    "## Graveyard"
   ]
  },
  {
   "cell_type": "code",
   "execution_count": null,
   "id": "da37e204",
   "metadata": {},
   "outputs": [],
   "source": [
    "#1 Preprocessing \n",
    "\n",
    "##a\n",
    "\n",
    "###i - make dummies for categorical features\n",
    "\n",
    "for_dummy = categorical_features\n",
    "for_imputation = numerical_features\n",
    "\n",
    "#dummy = pd.get_dummies(train_data[categorical_features], drop_first = True)\n",
    "dummy = make_column_transformer((OneHotEncoder(drop = 'if_binary', handle_unknown = 'ignore'), for_dummy), remainder = 'passthrough') #set handle_unknown to ignore, since if it encounters an unseen categorical type in the test set, it will automatically create a column of 0s \n",
    "\n",
    "###ii - iterative imputer for numerical features\n",
    "imputer = make_column_transformer((IterativeImputer(random_state=0, missing_values = np.nan, initial_strategy = 'mean', max_iter=30,imputation_order = 'ascending', add_indicator=True), for_imputation), (StandardScaler(), for_imputation), remainder = 'passthrough') #ascending i.e. start with columns with fewest missing values \n",
    "#imputer = make_column_transformer((SimpleImputer(missing_values = np.nan, strategy = 'mean', add_indicator=True), for_imputation), (StandardScaler(), for_imputation), remainder = 'passthrough') #ascending i.e. start with columns with fewest missing values \n",
    "\n",
    "#2 estimator \n",
    "knn_estimator = KNeighborsClassifier(algorithm='auto', weights='distance') \n",
    "#choose not to grid search over different algorithms since sklearn selects the most appropriate, but am aware there are multiple options. \n",
    "\n",
    "#3 pipeline\n",
    "knn_pipeline = imbPipeline([#('dummy', dummy), \n",
    "                    ('imputer', imputer),\n",
    "                    ('scale', StandardScaler())\n",
    "                            ('sampling', SMOTE()),\n",
    "                            ('classifier', knn_estimator)])\n",
    "\n",
    "grid_values = [{'classifier__n_neighbors':[1]#,10,50,100,200, 500],\n",
    "               ,'classifier__weights':['uniform', 'distance'], 'classifier__p':[1]}]\n",
    "grid_knn = GridSearchCV(knn_pipeline, param_grid = grid_values, scoring = 'roc_auc', cv = 5, verbose = 3)\n",
    "   "
   ]
  },
  {
   "cell_type": "code",
   "execution_count": null,
   "id": "031cb741",
   "metadata": {},
   "outputs": [],
   "source": [
    "grid_knn.fit(train_data_check.drop(target, axis=1), train_data[target])"
   ]
  },
  {
   "cell_type": "code",
   "execution_count": null,
   "id": "a008a165",
   "metadata": {},
   "outputs": [],
   "source": [
    "\n",
    "imputer__estimator = BayesianRidge(),\n",
    "    DecisionTreeRegressor(max_features='sqrt', random_state=0),\n",
    "    ExtraTreesRegressor(n_estimators=20, random_state=0),\n",
    "    KNeighborsRegressor(n_neighbors=2)\n",
    "\n",
    "\n",
    "numeric_transformer_iterative = Pipeline(\n",
    "    steps=[(\"imputer\", (random_state=0, estimator=my_estimator, max_iter=30,add_indicator=True)), (\"scaler\", StandardScaler())]\n",
    ")\n",
    "\n",
    "numeric_transformer_simple = Pipeline(steps=[(\"imputer\", SimpleImputer(strategy=\"mean\", add_indicator = True)), (\"scaler\", StandardScaler())]\n",
    ")\n",
    "\n",
    "categorical_features = \n",
    "categorical_transformer = OneHotEncoder(handle_unknown=\"ignore\")\n",
    "\n",
    "knn_preprocessor = ColumnTransformer(\n",
    "    transformers=[\n",
    "        (\"num\", numeric_transformer, numeric_features),\n",
    "        (\"cat\", categorical_transformer, categorical_features),])\n",
    "\n",
    "#make dummies\n",
    "train_data = one_hot_encode(['ETHNICITY'], train_data)\n",
    "test_data = one_hot_encode(['ETHNICITY'], test_data)\n",
    "                                                train_data = one_hot_encode(['GENDER', 'ADMISSION_TYPE', 'INSURANCE', 'MARITAL_STATUS',\n",
    "                               'FIRST_CAREUNIT', 'RELIGION'], train_data)\n",
    "test_data = one_hot_encode(['GENDER', 'ADMISSION_TYPE', 'INSURANCE', 'MARITAL_STATUS',\n",
    "                               'FIRST_CAREUNIT', 'RELIGION'], test_data)\n",
    "print(train_data.shape)\n",
    "print(test_data.shape)\n",
    "                                                \n",
    "                                                \n",
    "#2 Imputer \n",
    "\n",
    "#3 Estimator \n",
    "\n",
    "\n",
    "#4 Make pipeline \n",
    "\n",
    "pipe_knn = imbPipeline([('dummy', column_dummy), \n",
    "                ('imputer', KNNImputer(missing_values=np.nan, n_neighbors = 100, weights = 'distance', add_indicator = False)),\n",
    "                ('preprocessing', preprocessing.StandardScaler()),\n",
    "                ('sampling', SMOTE()),\n",
    "                #('features', fs.RFECV(estimator = DecisionTreeClassifier(class_weight = 'balanced'),\n",
    "                #                      step = 10, cv = 5, scoring = 'roc_auc', verbose = 0)),\n",
    "                ('classifier', KNeighborsClassifier(n_neighbors = 20,\n",
    "                                                    weights = 'distance',\n",
    "                                                    algorithm = 'auto'))])\n",
    "knn_pipeline = imbPipeline([(\"preprocessor\", knn_preprocessor), (\"classifier\", knn_estimator)])\n",
    "\n",
    "#5 Run GridSearch \n",
    "\n",
    "grid_values = [#{'imputer__n_neighbors':[100]},\n",
    "               {'classifier__n_neighbors':[1,5,10,50,100,200, 500],\n",
    "               'classifier__weights':['uniform', 'distance'], 'classifier__p':[1, 2]}]\n",
    "grid_knn = GridSearchCV(knn_pipeline, param_grid = grid_values, scoring = 'roc_auc', cv = 5, verbose = 3)\n",
    "   \n",
    "\n",
    "    # load the model from disk and use it\n",
    "\n",
    "\n",
    "#6 Train, fit and save model \n",
    "grid_knn.fit(X_train, y_train)\n",
    "filename = 'my_model.sav'\n",
    "pickle.dump(my_model, open(filename, 'wb'))\n",
    "loaded_model = pickle.load(open(filename, 'rb'))\n",
    "loaded_model.predict_proba(xtest)"
   ]
  },
  {
   "cell_type": "code",
   "execution_count": null,
   "id": "7c8e620b",
   "metadata": {},
   "outputs": [],
   "source": [
    "missing_cols = set(train_data.columns) - set(test_data.columns)\n",
    "missing_cols"
   ]
  },
  {
   "cell_type": "code",
   "execution_count": null,
   "id": "08e95b0b",
   "metadata": {},
   "outputs": [],
   "source": [
    "for i in categorical_features:\n",
    "    print(train_data.groupby(i).agg({'HOSPITAL_EXPIRE_FLAG': 'value_counts'}))"
   ]
  },
  {
   "cell_type": "markdown",
   "id": "720d50b2",
   "metadata": {},
   "source": [
    "So we have some very highly correlated features. With regard to missing values imputation this should prove useful. Simply imputing using the mean/median is a valid approach. However, it is reasonably crude. Take heart rate as an example - not logical to use the mean/median, especially given the high degree of correlation between variables. \n",
    "\n",
    "Note that I assume we are in a 'Missing at Random' world. "
   ]
  },
  {
   "cell_type": "code",
   "execution_count": null,
   "id": "a2e189cd",
   "metadata": {},
   "outputs": [],
   "source": [
    "#for each variable, I select the variables which exhibit obvious correlations and investigate the type of correlation by visual inspection\n",
    "corr[(corr.iloc[:, :]>0.2) | (corr.iloc[:, :] <-0.2)]\n",
    "highly_correlated = {}\n",
    "for i in corr.columns:\n",
    "    correlated_vars = corr[corr[i]>0.2].index\n",
    "    highly_correlated[i] = correlated_vars"
   ]
  },
  {
   "cell_type": "code",
   "execution_count": null,
   "id": "0f092310",
   "metadata": {},
   "outputs": [],
   "source": [
    "highly_correlated"
   ]
  },
  {
   "cell_type": "code",
   "execution_count": null,
   "id": "f1c5f8a0",
   "metadata": {},
   "outputs": [],
   "source": [
    "corr[corr['HeartRate_Min']>0.2].index"
   ]
  },
  {
   "cell_type": "code",
   "execution_count": null,
   "id": "9ed24828",
   "metadata": {},
   "outputs": [],
   "source": [
    "sns.pairplot(train_data[numerical_features+target], hue = 'HOSPITAL_EXPIRE_FLAG', diag_kind = 'kde', palette = 'bright')"
   ]
  },
  {
   "cell_type": "code",
   "execution_count": null,
   "id": "80eb3434",
   "metadata": {
    "scrolled": true
   },
   "outputs": [],
   "source": [
    "train_data[['HeartRate_Min', 'HeartRate_Max', 'HeartRate_Mean']].isnull().sum(axis=1).value_counts()"
   ]
  },
  {
   "cell_type": "code",
   "execution_count": null,
   "id": "22f697eb",
   "metadata": {},
   "outputs": [],
   "source": [
    "train_data[['HeartRate_Min', 'HeartRate_Max', 'HeartRate_Mean']]"
   ]
  },
  {
   "cell_type": "code",
   "execution_count": null,
   "id": "712edd32",
   "metadata": {},
   "outputs": [],
   "source": [
    "train_data[['HeartRate_Min', 'HeartRate_Max', 'HeartRate_Mean']].isnull()"
   ]
  },
  {
   "cell_type": "code",
   "execution_count": null,
   "id": "7032cb1d",
   "metadata": {},
   "outputs": [],
   "source": [
    "train_data[['SysBP_Min','SysBP_Max', 'SysBP_Mean', 'DiasBP_Min', 'DiasBP_Max', 'DiasBP_Mean','MeanBP_Min', 'MeanBP_Max', 'MeanBP_Mean']].isnull().sum(axis=1).value_counts()"
   ]
  },
  {
   "cell_type": "code",
   "execution_count": null,
   "id": "854ecbe4",
   "metadata": {},
   "outputs": [],
   "source": [
    "train_data[['RespRate_Min',\n",
    "       'RespRate_Max', 'RespRate_Mean']].isnull().sum(axis=1).value_counts()"
   ]
  },
  {
   "cell_type": "code",
   "execution_count": null,
   "id": "2ba9b47d",
   "metadata": {},
   "outputs": [],
   "source": [
    "train_data[['TempC_Min', 'TempC_Max', 'TempC_Mean']].isnull().sum(axis=1).value_counts()"
   ]
  },
  {
   "cell_type": "code",
   "execution_count": null,
   "id": "d52db908",
   "metadata": {},
   "outputs": [],
   "source": [
    "train_data.columns"
   ]
  },
  {
   "cell_type": "code",
   "execution_count": null,
   "id": "3fbc5336",
   "metadata": {},
   "outputs": [],
   "source": [
    "train_data[['SpO2_Min', 'SpO2_Max', 'SpO2_Mean']].isnull().sum(axis=1).value_counts()"
   ]
  },
  {
   "cell_type": "code",
   "execution_count": null,
   "id": "4e411166",
   "metadata": {},
   "outputs": [],
   "source": [
    "train_data[['Glucose_Min', 'Glucose_Max',\n",
    "       'Glucose_Mean']].isnull().sum(axis=1).value_counts()"
   ]
  },
  {
   "cell_type": "code",
   "execution_count": null,
   "id": "0b34ce04",
   "metadata": {
    "scrolled": false
   },
   "outputs": [],
   "source": [
    "train_data[['HeartRate_Min', 'HeartRate_Max', 'HeartRate_Mean', 'SysBP_Min',\n",
    "       'SysBP_Max', 'SysBP_Mean', 'DiasBP_Min', 'DiasBP_Max', 'DiasBP_Mean',\n",
    "       'MeanBP_Min', 'MeanBP_Max', 'MeanBP_Mean', 'RespRate_Min',\n",
    "       'RespRate_Max', 'RespRate_Mean', 'TempC_Min', 'TempC_Max', 'TempC_Mean',\n",
    "       'SpO2_Min', 'SpO2_Max', 'SpO2_Mean', 'Glucose_Min', 'Glucose_Max',\n",
    "       'Glucose_Mean']].isnull().sum(axis=1).value_counts()"
   ]
  },
  {
   "cell_type": "code",
   "execution_count": null,
   "id": "4a6c04a8",
   "metadata": {},
   "outputs": [],
   "source": [
    "diagnosis_cumulative = np.cumsum(train_data['ICD9_diagnosis'].value_counts(normalize=True).sort_values(ascending=False))\n",
    "px.area(\n",
    "x=range(1, diagnosis_cumulative.shape[0]+1), \n",
    "y = diagnosis_cumulative,\n",
    "labels={\"x\": \"diagnosis\", \"y\": \"Proportion of patients\"})"
   ]
  }
 ],
 "metadata": {
  "kernelspec": {
   "display_name": "Python 3 (ipykernel)",
   "language": "python",
   "name": "python3"
  },
  "language_info": {
   "codemirror_mode": {
    "name": "ipython",
    "version": 3
   },
   "file_extension": ".py",
   "mimetype": "text/x-python",
   "name": "python",
   "nbconvert_exporter": "python",
   "pygments_lexer": "ipython3",
   "version": "3.9.5"
  }
 },
 "nbformat": 4,
 "nbformat_minor": 5
}
